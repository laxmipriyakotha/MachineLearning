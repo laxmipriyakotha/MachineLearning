{
 "cells": [
  {
   "cell_type": "markdown",
   "id": "4c70bf4d-c644-43ef-b9d8-a677884ea1e6",
   "metadata": {},
   "source": [
    "<h1 align=\"center\"> ENTIRE WORLD EDUCATIONAL DATA </h1>"
   ]
  },
  {
   "cell_type": "markdown",
   "id": "cb66815c-93e6-4daa-bd6d-5d7e6f20cbfb",
   "metadata": {},
   "source": [
    " <H2> GROUP-5 CS-616-CO MACHINE LEARNING FINAL PROJECT</H2>   "
   ]
  },
  {
   "cell_type": "markdown",
   "id": "dcba5e7d-9fdd-44db-a269-8839d3ae44af",
   "metadata": {},
   "source": [
    "#### GROUP MEMBERS <br>\r\n",
    "#### LAXMIPRIYA KOTHA<br>\r\n",
    "#### VINAY KUMAR REDDY PISATI<br>\r\n",
    "#### RACHANA MALOTHU<br>\r\n",
    "### OUR DATASET:https://www.kaggle.com/datasets/bhavikjikadara/entire-world-educational-data\r\n",
    "#### OUR DATAMODEL IS A REGRESSION MODEL WHERE OUR TARGET VARIABLE IS \"COMPLETION_RATE_UPPER_SECONDARY_FEMALE\" \r\n",
    "\r\n",
    "#### FEATURES:\r\n",
    "<H5>COMPLETION_RATE_PRIMARY_MALE</H5>The column \"COMPLETION_RATE_PRIMARY_MALE\" represents the percentage or rate of male students who have completed primary education within a specified timeframe, as captured in the dataset.\r\n",
    "<H5>COMPLETION_RATE_PRIMARY_FEMALE</H5>The column \"COMPLETION_RATE_PRIMARY_FEMALE\"denotes the percentage or rate of female students who have completed primary education within a specified timeframe, as recorded in the dataset.\r\n",
    "<H5>COMPLETION_RATE_LOWER_SECONDARY_MALE</H5>The column \"COMPLETION_RATE_LOWER_SECONDARY_MALE\" indicates the percentage or rate of male students who have completed lower secondary education within a specified timeframe, as recorded in the dataset.\r\n",
    "<H5>COMPLETION_RATE_LOWER_SECONDARY_FEMALE</H5>The column \"COMPLETION_RATE_LOWER_SECONDARY_FEMALE\" represents the percentage or rate of female students who have completed lower secondary education within a specified timeframe, as documented in the dataset.\r\n",
    "<H5>COMPLETION_RATE_UPPER_SECONDARY_MALE</H5>The entry \"COMPLETION_RATE_UPPER_SECONDARY_MALE\" denotes the percentage or rate of male students who have completed upper secondary education within a specified timeframe, as indicated in the dataset.\r\n",
    "<H5>PRIMARY_END_PROFICIENCY_MATH</H5>The column \"PRIMARY_END_PROFICIENCY_MATH\" represents the proficiency level in mathematics attained by students at the end of primary education, as documented in the dataset.\r\n",
    "<H5> YOUTH_15_24_LITERACY_RATE_MALE</H5>The column \"Youth_15_24_Literacy_Rate_Male\" represents the percentage or rate of male students of age between 15 to 24 with literacy rate.\r\n",
    "<H5> YOUTH_15_24_LITERACY_RATE_FEMALE</H5>The column \"Youth_15_24_Literacy_Rate_Male\" represents the percentage or rate of female students of age between 15 to 24 with literacy rate.\r\n",
    "<H5>UNEMPLOYMENT_RATE</H5>The column \"Unemployment_Rate\" represents percentage of unemployed individuals in a population ,usually expressed as a proportion of the labor force. orce. \r\n",
    "dataset.\n"
   ]
  },
  {
   "cell_type": "markdown",
   "id": "aab9a3ca-2a08-432f-91ed-4ba916f47d4a",
   "metadata": {},
   "source": [
    "# STEP-1 READING THE DATA"
   ]
  },
  {
   "cell_type": "markdown",
   "id": "df070666-95bd-40d6-aae4-bde0fcca25d6",
   "metadata": {},
   "source": [
    "## IMPORTING NECESSARY MODULES FOR DATAREADING AND PREPROCESSING\n"
   ]
  },
  {
   "cell_type": "markdown",
   "id": "6976b6f1-3e52-4a06-8e2c-d1bf54037ac1",
   "metadata": {},
   "source": [
    "DATAFRAME `df` CONTAINS GLOBAL EDUCATION DATA. IT INCLUDES VARIOUS FEATURES RELATED TO EDUCATION ACROSS DIFFERENT REGIONS OR COUNTRIES. EACH ROW REPRESENTS A SPECIFIC REGION OR COUNTRY, WHILE EACH COLUMN REPRESENTS A DIFFERENT ASPECT OF EDUCATION. SOME OF THE FEATURES INCLUDE COMPLETION RATES FOR DIFFERENT EDUCATIONAL LEVELS, ENROLLMENT RATES, BIRTH RATES, AND INDICATORS OF EDUCATIONAL PROFICIENCY."
   ]
  },
  {
   "cell_type": "code",
   "execution_count": 1,
   "id": "43843573-a49e-44c6-849e-8d2c0eb81858",
   "metadata": {},
   "outputs": [
    {
     "data": {
      "text/html": [
       "<div>\n",
       "<style scoped>\n",
       "    .dataframe tbody tr th:only-of-type {\n",
       "        vertical-align: middle;\n",
       "    }\n",
       "\n",
       "    .dataframe tbody tr th {\n",
       "        vertical-align: top;\n",
       "    }\n",
       "\n",
       "    .dataframe thead th {\n",
       "        text-align: right;\n",
       "    }\n",
       "</style>\n",
       "<table border=\"1\" class=\"dataframe\">\n",
       "  <thead>\n",
       "    <tr style=\"text-align: right;\">\n",
       "      <th></th>\n",
       "      <th>Countries and areas</th>\n",
       "      <th>Latitude</th>\n",
       "      <th>Longitude</th>\n",
       "      <th>OOSR_Pre0Primary_Age_Male</th>\n",
       "      <th>OOSR_Pre0Primary_Age_Female</th>\n",
       "      <th>OOSR_Primary_Age_Male</th>\n",
       "      <th>OOSR_Primary_Age_Female</th>\n",
       "      <th>OOSR_Lower_Secondary_Age_Male</th>\n",
       "      <th>OOSR_Lower_Secondary_Age_Female</th>\n",
       "      <th>OOSR_Upper_Secondary_Age_Male</th>\n",
       "      <th>...</th>\n",
       "      <th>Primary_End_Proficiency_Reading</th>\n",
       "      <th>Primary_End_Proficiency_Math</th>\n",
       "      <th>Lower_Secondary_End_Proficiency_Reading</th>\n",
       "      <th>Lower_Secondary_End_Proficiency_Math</th>\n",
       "      <th>Youth_15_24_Literacy_Rate_Male</th>\n",
       "      <th>Youth_15_24_Literacy_Rate_Female</th>\n",
       "      <th>Birth_Rate</th>\n",
       "      <th>Gross_Primary_Education_Enrollment</th>\n",
       "      <th>Gross_Tertiary_Education_Enrollment</th>\n",
       "      <th>Unemployment_Rate</th>\n",
       "    </tr>\n",
       "  </thead>\n",
       "  <tbody>\n",
       "    <tr>\n",
       "      <th>0</th>\n",
       "      <td>Afghanistan</td>\n",
       "      <td>33.939110</td>\n",
       "      <td>67.709953</td>\n",
       "      <td>0</td>\n",
       "      <td>0</td>\n",
       "      <td>0</td>\n",
       "      <td>0</td>\n",
       "      <td>0</td>\n",
       "      <td>0</td>\n",
       "      <td>44</td>\n",
       "      <td>...</td>\n",
       "      <td>13</td>\n",
       "      <td>11</td>\n",
       "      <td>0</td>\n",
       "      <td>0</td>\n",
       "      <td>74</td>\n",
       "      <td>56</td>\n",
       "      <td>32.49</td>\n",
       "      <td>104.0</td>\n",
       "      <td>9.7</td>\n",
       "      <td>11.12</td>\n",
       "    </tr>\n",
       "    <tr>\n",
       "      <th>1</th>\n",
       "      <td>Albania</td>\n",
       "      <td>41.153332</td>\n",
       "      <td>20.168331</td>\n",
       "      <td>4</td>\n",
       "      <td>2</td>\n",
       "      <td>6</td>\n",
       "      <td>3</td>\n",
       "      <td>6</td>\n",
       "      <td>1</td>\n",
       "      <td>21</td>\n",
       "      <td>...</td>\n",
       "      <td>0</td>\n",
       "      <td>0</td>\n",
       "      <td>48</td>\n",
       "      <td>58</td>\n",
       "      <td>99</td>\n",
       "      <td>100</td>\n",
       "      <td>11.78</td>\n",
       "      <td>107.0</td>\n",
       "      <td>55.0</td>\n",
       "      <td>12.33</td>\n",
       "    </tr>\n",
       "    <tr>\n",
       "      <th>2</th>\n",
       "      <td>Algeria</td>\n",
       "      <td>28.033886</td>\n",
       "      <td>1.659626</td>\n",
       "      <td>0</td>\n",
       "      <td>0</td>\n",
       "      <td>0</td>\n",
       "      <td>0</td>\n",
       "      <td>0</td>\n",
       "      <td>0</td>\n",
       "      <td>0</td>\n",
       "      <td>...</td>\n",
       "      <td>0</td>\n",
       "      <td>0</td>\n",
       "      <td>21</td>\n",
       "      <td>19</td>\n",
       "      <td>98</td>\n",
       "      <td>97</td>\n",
       "      <td>24.28</td>\n",
       "      <td>109.9</td>\n",
       "      <td>51.4</td>\n",
       "      <td>11.70</td>\n",
       "    </tr>\n",
       "    <tr>\n",
       "      <th>3</th>\n",
       "      <td>Andorra</td>\n",
       "      <td>42.506285</td>\n",
       "      <td>1.521801</td>\n",
       "      <td>0</td>\n",
       "      <td>0</td>\n",
       "      <td>0</td>\n",
       "      <td>0</td>\n",
       "      <td>0</td>\n",
       "      <td>0</td>\n",
       "      <td>0</td>\n",
       "      <td>...</td>\n",
       "      <td>0</td>\n",
       "      <td>0</td>\n",
       "      <td>0</td>\n",
       "      <td>0</td>\n",
       "      <td>0</td>\n",
       "      <td>0</td>\n",
       "      <td>7.20</td>\n",
       "      <td>106.4</td>\n",
       "      <td>0.0</td>\n",
       "      <td>0.00</td>\n",
       "    </tr>\n",
       "    <tr>\n",
       "      <th>4</th>\n",
       "      <td>Angola</td>\n",
       "      <td>11.202692</td>\n",
       "      <td>17.873887</td>\n",
       "      <td>31</td>\n",
       "      <td>39</td>\n",
       "      <td>0</td>\n",
       "      <td>0</td>\n",
       "      <td>0</td>\n",
       "      <td>0</td>\n",
       "      <td>0</td>\n",
       "      <td>...</td>\n",
       "      <td>0</td>\n",
       "      <td>0</td>\n",
       "      <td>0</td>\n",
       "      <td>0</td>\n",
       "      <td>0</td>\n",
       "      <td>0</td>\n",
       "      <td>40.73</td>\n",
       "      <td>113.5</td>\n",
       "      <td>9.3</td>\n",
       "      <td>6.89</td>\n",
       "    </tr>\n",
       "  </tbody>\n",
       "</table>\n",
       "<p>5 rows × 29 columns</p>\n",
       "</div>"
      ],
      "text/plain": [
       "  Countries and areas  Latitude   Longitude  OOSR_Pre0Primary_Age_Male  \\\n",
       "0         Afghanistan  33.939110  67.709953                          0   \n",
       "1             Albania  41.153332  20.168331                          4   \n",
       "2             Algeria  28.033886   1.659626                          0   \n",
       "3             Andorra  42.506285   1.521801                          0   \n",
       "4              Angola  11.202692  17.873887                         31   \n",
       "\n",
       "   OOSR_Pre0Primary_Age_Female  OOSR_Primary_Age_Male  \\\n",
       "0                            0                      0   \n",
       "1                            2                      6   \n",
       "2                            0                      0   \n",
       "3                            0                      0   \n",
       "4                           39                      0   \n",
       "\n",
       "   OOSR_Primary_Age_Female  OOSR_Lower_Secondary_Age_Male  \\\n",
       "0                        0                              0   \n",
       "1                        3                              6   \n",
       "2                        0                              0   \n",
       "3                        0                              0   \n",
       "4                        0                              0   \n",
       "\n",
       "   OOSR_Lower_Secondary_Age_Female  OOSR_Upper_Secondary_Age_Male  ...  \\\n",
       "0                                0                             44  ...   \n",
       "1                                1                             21  ...   \n",
       "2                                0                              0  ...   \n",
       "3                                0                              0  ...   \n",
       "4                                0                              0  ...   \n",
       "\n",
       "   Primary_End_Proficiency_Reading  Primary_End_Proficiency_Math  \\\n",
       "0                               13                            11   \n",
       "1                                0                             0   \n",
       "2                                0                             0   \n",
       "3                                0                             0   \n",
       "4                                0                             0   \n",
       "\n",
       "   Lower_Secondary_End_Proficiency_Reading  \\\n",
       "0                                        0   \n",
       "1                                       48   \n",
       "2                                       21   \n",
       "3                                        0   \n",
       "4                                        0   \n",
       "\n",
       "   Lower_Secondary_End_Proficiency_Math  Youth_15_24_Literacy_Rate_Male  \\\n",
       "0                                     0                              74   \n",
       "1                                    58                              99   \n",
       "2                                    19                              98   \n",
       "3                                     0                               0   \n",
       "4                                     0                               0   \n",
       "\n",
       "   Youth_15_24_Literacy_Rate_Female  Birth_Rate  \\\n",
       "0                                56       32.49   \n",
       "1                               100       11.78   \n",
       "2                                97       24.28   \n",
       "3                                 0        7.20   \n",
       "4                                 0       40.73   \n",
       "\n",
       "   Gross_Primary_Education_Enrollment  Gross_Tertiary_Education_Enrollment  \\\n",
       "0                               104.0                                  9.7   \n",
       "1                               107.0                                 55.0   \n",
       "2                               109.9                                 51.4   \n",
       "3                               106.4                                  0.0   \n",
       "4                               113.5                                  9.3   \n",
       "\n",
       "   Unemployment_Rate  \n",
       "0              11.12  \n",
       "1              12.33  \n",
       "2              11.70  \n",
       "3               0.00  \n",
       "4               6.89  \n",
       "\n",
       "[5 rows x 29 columns]"
      ]
     },
     "execution_count": 1,
     "metadata": {},
     "output_type": "execute_result"
    }
   ],
   "source": [
    "import pandas as pd\n",
    "from sklearn.ensemble import RandomForestRegressor\n",
    "from sklearn.model_selection import train_test_split\n",
    "from sklearn.metrics import confusion_matrix\n",
    "from sklearn.feature_selection import VarianceThreshold\n",
    "import seaborn as sns\n",
    "import matplotlib.pyplot as plt\n",
    "\n",
    "# Reading the dataset\n",
    "df = pd.read_csv(\"C:\\\\Users\\\\laxmi\\\\Desktop\\\\global_education_data.csv\", encoding='latin1')\n",
    "df.head()"
   ]
  },
  {
   "cell_type": "markdown",
   "id": "7db5e51e-0596-48dd-a3f0-74b8f95497ee",
   "metadata": {},
   "source": [
    "### SHAPE"
   ]
  },
  {
   "cell_type": "markdown",
   "id": "b21817e3-7de4-4746-b931-1b4b2ffcb087",
   "metadata": {},
   "source": [
    "THIS WILL RETURN A TUPLE CONTAINING NUMBER OF ROWS AND COLUMNS"
   ]
  },
  {
   "cell_type": "code",
   "execution_count": 2,
   "id": "3223754d-8d53-4d71-892d-9fac65a0e852",
   "metadata": {},
   "outputs": [
    {
     "data": {
      "text/plain": [
       "(202, 29)"
      ]
     },
     "execution_count": 2,
     "metadata": {},
     "output_type": "execute_result"
    }
   ],
   "source": [
    "df.shape"
   ]
  },
  {
   "cell_type": "markdown",
   "id": "a80e9feb-14f1-4b04-9c6a-fb8217be673f",
   "metadata": {},
   "source": [
    "### DESCRIBE "
   ]
  },
  {
   "cell_type": "markdown",
   "id": "a0a68a84-fcc1-47fd-ab03-dbb6a08472cf",
   "metadata": {},
   "source": [
    "THE DESCRIBE() METHOD IS USED TO GENERATE DESCRIPTIVE STATISTICS OF A DATAFRAME OR SERIES. IT PROVIDES SUMMARY STATISTICS SUCH AS COUNT, MEAN, STANDARD DEVIATION, MINIMUM, QUARTILES, AND MAXIMUM FOR NUMERIC COLUMNS."
   ]
  },
  {
   "cell_type": "code",
   "execution_count": 3,
   "id": "1945589d-7f91-4eed-855e-12841b0629b9",
   "metadata": {},
   "outputs": [
    {
     "data": {
      "text/html": [
       "<div>\n",
       "<style scoped>\n",
       "    .dataframe tbody tr th:only-of-type {\n",
       "        vertical-align: middle;\n",
       "    }\n",
       "\n",
       "    .dataframe tbody tr th {\n",
       "        vertical-align: top;\n",
       "    }\n",
       "\n",
       "    .dataframe thead th {\n",
       "        text-align: right;\n",
       "    }\n",
       "</style>\n",
       "<table border=\"1\" class=\"dataframe\">\n",
       "  <thead>\n",
       "    <tr style=\"text-align: right;\">\n",
       "      <th></th>\n",
       "      <th>Latitude</th>\n",
       "      <th>Longitude</th>\n",
       "      <th>OOSR_Pre0Primary_Age_Male</th>\n",
       "      <th>OOSR_Pre0Primary_Age_Female</th>\n",
       "      <th>OOSR_Primary_Age_Male</th>\n",
       "      <th>OOSR_Primary_Age_Female</th>\n",
       "      <th>OOSR_Lower_Secondary_Age_Male</th>\n",
       "      <th>OOSR_Lower_Secondary_Age_Female</th>\n",
       "      <th>OOSR_Upper_Secondary_Age_Male</th>\n",
       "      <th>OOSR_Upper_Secondary_Age_Female</th>\n",
       "      <th>...</th>\n",
       "      <th>Primary_End_Proficiency_Reading</th>\n",
       "      <th>Primary_End_Proficiency_Math</th>\n",
       "      <th>Lower_Secondary_End_Proficiency_Reading</th>\n",
       "      <th>Lower_Secondary_End_Proficiency_Math</th>\n",
       "      <th>Youth_15_24_Literacy_Rate_Male</th>\n",
       "      <th>Youth_15_24_Literacy_Rate_Female</th>\n",
       "      <th>Birth_Rate</th>\n",
       "      <th>Gross_Primary_Education_Enrollment</th>\n",
       "      <th>Gross_Tertiary_Education_Enrollment</th>\n",
       "      <th>Unemployment_Rate</th>\n",
       "    </tr>\n",
       "  </thead>\n",
       "  <tbody>\n",
       "    <tr>\n",
       "      <th>count</th>\n",
       "      <td>202.000000</td>\n",
       "      <td>202.000000</td>\n",
       "      <td>202.000000</td>\n",
       "      <td>202.000000</td>\n",
       "      <td>202.000000</td>\n",
       "      <td>202.000000</td>\n",
       "      <td>202.000000</td>\n",
       "      <td>202.000000</td>\n",
       "      <td>202.000000</td>\n",
       "      <td>202.000000</td>\n",
       "      <td>...</td>\n",
       "      <td>202.000000</td>\n",
       "      <td>202.000000</td>\n",
       "      <td>202.000000</td>\n",
       "      <td>202.000000</td>\n",
       "      <td>202.000000</td>\n",
       "      <td>202.000000</td>\n",
       "      <td>202.000000</td>\n",
       "      <td>202.000000</td>\n",
       "      <td>202.000000</td>\n",
       "      <td>202.000000</td>\n",
       "    </tr>\n",
       "    <tr>\n",
       "      <th>mean</th>\n",
       "      <td>25.081422</td>\n",
       "      <td>55.166928</td>\n",
       "      <td>19.658416</td>\n",
       "      <td>19.282178</td>\n",
       "      <td>5.282178</td>\n",
       "      <td>5.569307</td>\n",
       "      <td>8.707921</td>\n",
       "      <td>8.831683</td>\n",
       "      <td>20.292079</td>\n",
       "      <td>19.975248</td>\n",
       "      <td>...</td>\n",
       "      <td>10.717822</td>\n",
       "      <td>10.376238</td>\n",
       "      <td>25.787129</td>\n",
       "      <td>24.450495</td>\n",
       "      <td>35.801980</td>\n",
       "      <td>35.084158</td>\n",
       "      <td>18.914010</td>\n",
       "      <td>94.942574</td>\n",
       "      <td>34.392574</td>\n",
       "      <td>6.000000</td>\n",
       "    </tr>\n",
       "    <tr>\n",
       "      <th>std</th>\n",
       "      <td>16.813639</td>\n",
       "      <td>45.976287</td>\n",
       "      <td>25.007604</td>\n",
       "      <td>25.171147</td>\n",
       "      <td>9.396442</td>\n",
       "      <td>10.383092</td>\n",
       "      <td>13.258203</td>\n",
       "      <td>14.724717</td>\n",
       "      <td>21.485592</td>\n",
       "      <td>23.140376</td>\n",
       "      <td>...</td>\n",
       "      <td>24.866101</td>\n",
       "      <td>22.484423</td>\n",
       "      <td>33.181384</td>\n",
       "      <td>31.965467</td>\n",
       "      <td>45.535186</td>\n",
       "      <td>45.249643</td>\n",
       "      <td>10.828184</td>\n",
       "      <td>29.769338</td>\n",
       "      <td>29.978206</td>\n",
       "      <td>5.273136</td>\n",
       "    </tr>\n",
       "    <tr>\n",
       "      <th>min</th>\n",
       "      <td>0.023559</td>\n",
       "      <td>0.824782</td>\n",
       "      <td>0.000000</td>\n",
       "      <td>0.000000</td>\n",
       "      <td>0.000000</td>\n",
       "      <td>0.000000</td>\n",
       "      <td>0.000000</td>\n",
       "      <td>0.000000</td>\n",
       "      <td>0.000000</td>\n",
       "      <td>0.000000</td>\n",
       "      <td>...</td>\n",
       "      <td>0.000000</td>\n",
       "      <td>0.000000</td>\n",
       "      <td>0.000000</td>\n",
       "      <td>0.000000</td>\n",
       "      <td>0.000000</td>\n",
       "      <td>0.000000</td>\n",
       "      <td>0.000000</td>\n",
       "      <td>0.000000</td>\n",
       "      <td>0.000000</td>\n",
       "      <td>0.000000</td>\n",
       "    </tr>\n",
       "    <tr>\n",
       "      <th>25%</th>\n",
       "      <td>11.685062</td>\n",
       "      <td>18.665678</td>\n",
       "      <td>0.000000</td>\n",
       "      <td>0.000000</td>\n",
       "      <td>0.000000</td>\n",
       "      <td>0.000000</td>\n",
       "      <td>0.000000</td>\n",
       "      <td>0.000000</td>\n",
       "      <td>0.250000</td>\n",
       "      <td>0.250000</td>\n",
       "      <td>...</td>\n",
       "      <td>0.000000</td>\n",
       "      <td>0.000000</td>\n",
       "      <td>0.000000</td>\n",
       "      <td>0.000000</td>\n",
       "      <td>0.000000</td>\n",
       "      <td>0.000000</td>\n",
       "      <td>10.355000</td>\n",
       "      <td>97.200000</td>\n",
       "      <td>9.000000</td>\n",
       "      <td>2.302500</td>\n",
       "    </tr>\n",
       "    <tr>\n",
       "      <th>50%</th>\n",
       "      <td>21.207861</td>\n",
       "      <td>43.518091</td>\n",
       "      <td>9.000000</td>\n",
       "      <td>7.000000</td>\n",
       "      <td>1.000000</td>\n",
       "      <td>1.000000</td>\n",
       "      <td>2.000000</td>\n",
       "      <td>2.000000</td>\n",
       "      <td>15.000000</td>\n",
       "      <td>12.000000</td>\n",
       "      <td>...</td>\n",
       "      <td>0.000000</td>\n",
       "      <td>0.000000</td>\n",
       "      <td>0.000000</td>\n",
       "      <td>0.000000</td>\n",
       "      <td>0.000000</td>\n",
       "      <td>0.000000</td>\n",
       "      <td>17.550000</td>\n",
       "      <td>101.850000</td>\n",
       "      <td>24.850000</td>\n",
       "      <td>4.585000</td>\n",
       "    </tr>\n",
       "    <tr>\n",
       "      <th>75%</th>\n",
       "      <td>39.901792</td>\n",
       "      <td>77.684945</td>\n",
       "      <td>31.000000</td>\n",
       "      <td>30.000000</td>\n",
       "      <td>6.000000</td>\n",
       "      <td>6.750000</td>\n",
       "      <td>12.750000</td>\n",
       "      <td>10.750000</td>\n",
       "      <td>32.750000</td>\n",
       "      <td>30.000000</td>\n",
       "      <td>...</td>\n",
       "      <td>0.000000</td>\n",
       "      <td>0.000000</td>\n",
       "      <td>56.750000</td>\n",
       "      <td>50.750000</td>\n",
       "      <td>94.000000</td>\n",
       "      <td>96.750000</td>\n",
       "      <td>27.692500</td>\n",
       "      <td>107.300000</td>\n",
       "      <td>59.975000</td>\n",
       "      <td>8.655000</td>\n",
       "    </tr>\n",
       "    <tr>\n",
       "      <th>max</th>\n",
       "      <td>64.963051</td>\n",
       "      <td>178.065032</td>\n",
       "      <td>96.000000</td>\n",
       "      <td>96.000000</td>\n",
       "      <td>58.000000</td>\n",
       "      <td>67.000000</td>\n",
       "      <td>61.000000</td>\n",
       "      <td>70.000000</td>\n",
       "      <td>84.000000</td>\n",
       "      <td>89.000000</td>\n",
       "      <td>...</td>\n",
       "      <td>99.000000</td>\n",
       "      <td>89.000000</td>\n",
       "      <td>89.000000</td>\n",
       "      <td>94.000000</td>\n",
       "      <td>100.000000</td>\n",
       "      <td>100.000000</td>\n",
       "      <td>46.080000</td>\n",
       "      <td>142.500000</td>\n",
       "      <td>136.600000</td>\n",
       "      <td>28.180000</td>\n",
       "    </tr>\n",
       "  </tbody>\n",
       "</table>\n",
       "<p>8 rows × 28 columns</p>\n",
       "</div>"
      ],
      "text/plain": [
       "        Latitude    Longitude  OOSR_Pre0Primary_Age_Male  \\\n",
       "count  202.000000  202.000000                 202.000000   \n",
       "mean    25.081422   55.166928                  19.658416   \n",
       "std     16.813639   45.976287                  25.007604   \n",
       "min      0.023559    0.824782                   0.000000   \n",
       "25%     11.685062   18.665678                   0.000000   \n",
       "50%     21.207861   43.518091                   9.000000   \n",
       "75%     39.901792   77.684945                  31.000000   \n",
       "max     64.963051  178.065032                  96.000000   \n",
       "\n",
       "       OOSR_Pre0Primary_Age_Female  OOSR_Primary_Age_Male  \\\n",
       "count                   202.000000             202.000000   \n",
       "mean                     19.282178               5.282178   \n",
       "std                      25.171147               9.396442   \n",
       "min                       0.000000               0.000000   \n",
       "25%                       0.000000               0.000000   \n",
       "50%                       7.000000               1.000000   \n",
       "75%                      30.000000               6.000000   \n",
       "max                      96.000000              58.000000   \n",
       "\n",
       "       OOSR_Primary_Age_Female  OOSR_Lower_Secondary_Age_Male  \\\n",
       "count               202.000000                     202.000000   \n",
       "mean                  5.569307                       8.707921   \n",
       "std                  10.383092                      13.258203   \n",
       "min                   0.000000                       0.000000   \n",
       "25%                   0.000000                       0.000000   \n",
       "50%                   1.000000                       2.000000   \n",
       "75%                   6.750000                      12.750000   \n",
       "max                  67.000000                      61.000000   \n",
       "\n",
       "       OOSR_Lower_Secondary_Age_Female  OOSR_Upper_Secondary_Age_Male  \\\n",
       "count                       202.000000                     202.000000   \n",
       "mean                          8.831683                      20.292079   \n",
       "std                          14.724717                      21.485592   \n",
       "min                           0.000000                       0.000000   \n",
       "25%                           0.000000                       0.250000   \n",
       "50%                           2.000000                      15.000000   \n",
       "75%                          10.750000                      32.750000   \n",
       "max                          70.000000                      84.000000   \n",
       "\n",
       "       OOSR_Upper_Secondary_Age_Female  ...  Primary_End_Proficiency_Reading  \\\n",
       "count                       202.000000  ...                       202.000000   \n",
       "mean                         19.975248  ...                        10.717822   \n",
       "std                          23.140376  ...                        24.866101   \n",
       "min                           0.000000  ...                         0.000000   \n",
       "25%                           0.250000  ...                         0.000000   \n",
       "50%                          12.000000  ...                         0.000000   \n",
       "75%                          30.000000  ...                         0.000000   \n",
       "max                          89.000000  ...                        99.000000   \n",
       "\n",
       "       Primary_End_Proficiency_Math  Lower_Secondary_End_Proficiency_Reading  \\\n",
       "count                    202.000000                               202.000000   \n",
       "mean                      10.376238                                25.787129   \n",
       "std                       22.484423                                33.181384   \n",
       "min                        0.000000                                 0.000000   \n",
       "25%                        0.000000                                 0.000000   \n",
       "50%                        0.000000                                 0.000000   \n",
       "75%                        0.000000                                56.750000   \n",
       "max                       89.000000                                89.000000   \n",
       "\n",
       "       Lower_Secondary_End_Proficiency_Math  Youth_15_24_Literacy_Rate_Male  \\\n",
       "count                            202.000000                      202.000000   \n",
       "mean                              24.450495                       35.801980   \n",
       "std                               31.965467                       45.535186   \n",
       "min                                0.000000                        0.000000   \n",
       "25%                                0.000000                        0.000000   \n",
       "50%                                0.000000                        0.000000   \n",
       "75%                               50.750000                       94.000000   \n",
       "max                               94.000000                      100.000000   \n",
       "\n",
       "       Youth_15_24_Literacy_Rate_Female  Birth_Rate  \\\n",
       "count                        202.000000  202.000000   \n",
       "mean                          35.084158   18.914010   \n",
       "std                           45.249643   10.828184   \n",
       "min                            0.000000    0.000000   \n",
       "25%                            0.000000   10.355000   \n",
       "50%                            0.000000   17.550000   \n",
       "75%                           96.750000   27.692500   \n",
       "max                          100.000000   46.080000   \n",
       "\n",
       "       Gross_Primary_Education_Enrollment  \\\n",
       "count                          202.000000   \n",
       "mean                            94.942574   \n",
       "std                             29.769338   \n",
       "min                              0.000000   \n",
       "25%                             97.200000   \n",
       "50%                            101.850000   \n",
       "75%                            107.300000   \n",
       "max                            142.500000   \n",
       "\n",
       "       Gross_Tertiary_Education_Enrollment  Unemployment_Rate  \n",
       "count                           202.000000         202.000000  \n",
       "mean                             34.392574           6.000000  \n",
       "std                              29.978206           5.273136  \n",
       "min                               0.000000           0.000000  \n",
       "25%                               9.000000           2.302500  \n",
       "50%                              24.850000           4.585000  \n",
       "75%                              59.975000           8.655000  \n",
       "max                             136.600000          28.180000  \n",
       "\n",
       "[8 rows x 28 columns]"
      ]
     },
     "execution_count": 3,
     "metadata": {},
     "output_type": "execute_result"
    }
   ],
   "source": [
    "df.describe()"
   ]
  },
  {
   "cell_type": "markdown",
   "id": "99cc0d94-0e81-4728-a09a-00cc9979fb65",
   "metadata": {},
   "source": [
    "### INFO"
   ]
  },
  {
   "cell_type": "markdown",
   "id": "4de40011-7240-4fcd-b4e2-3519991bf27b",
   "metadata": {},
   "source": [
    "THIS `.INFO()` METHOD IN PANDAS PROVIDES A CONCISE SUMMARY OF THE DATAFRAME'S STRUCTURE, INCLUDING THE NUMBER OF NON-NULL VALUES IN EACH COLUMN, THE DATA TYPES OF THE COLUMNS, AND THE MEMORY USAGE OF THE DATAFRAME."
   ]
  },
  {
   "cell_type": "code",
   "execution_count": 4,
   "id": "8a8b371c-f82f-4dc5-bdbe-59975984d4ad",
   "metadata": {},
   "outputs": [
    {
     "name": "stdout",
     "output_type": "stream",
     "text": [
      "<class 'pandas.core.frame.DataFrame'>\n",
      "RangeIndex: 202 entries, 0 to 201\n",
      "Data columns (total 29 columns):\n",
      " #   Column                                   Non-Null Count  Dtype  \n",
      "---  ------                                   --------------  -----  \n",
      " 0   Countries and areas                      202 non-null    object \n",
      " 1   Latitude                                 202 non-null    float64\n",
      " 2   Longitude                                202 non-null    float64\n",
      " 3   OOSR_Pre0Primary_Age_Male                202 non-null    int64  \n",
      " 4   OOSR_Pre0Primary_Age_Female              202 non-null    int64  \n",
      " 5   OOSR_Primary_Age_Male                    202 non-null    int64  \n",
      " 6   OOSR_Primary_Age_Female                  202 non-null    int64  \n",
      " 7   OOSR_Lower_Secondary_Age_Male            202 non-null    int64  \n",
      " 8   OOSR_Lower_Secondary_Age_Female          202 non-null    int64  \n",
      " 9   OOSR_Upper_Secondary_Age_Male            202 non-null    int64  \n",
      " 10  OOSR_Upper_Secondary_Age_Female          202 non-null    int64  \n",
      " 11  Completion_Rate_Primary_Male             202 non-null    int64  \n",
      " 12  Completion_Rate_Primary_Female           202 non-null    int64  \n",
      " 13  Completion_Rate_Lower_Secondary_Male     202 non-null    int64  \n",
      " 14  Completion_Rate_Lower_Secondary_Female   202 non-null    int64  \n",
      " 15  Completion_Rate_Upper_Secondary_Male     202 non-null    int64  \n",
      " 16  Completion_Rate_Upper_Secondary_Female   202 non-null    int64  \n",
      " 17  Grade_2_3_Proficiency_Reading            202 non-null    int64  \n",
      " 18  Grade_2_3_Proficiency_Math               202 non-null    int64  \n",
      " 19  Primary_End_Proficiency_Reading          202 non-null    int64  \n",
      " 20  Primary_End_Proficiency_Math             202 non-null    int64  \n",
      " 21  Lower_Secondary_End_Proficiency_Reading  202 non-null    int64  \n",
      " 22  Lower_Secondary_End_Proficiency_Math     202 non-null    int64  \n",
      " 23  Youth_15_24_Literacy_Rate_Male           202 non-null    int64  \n",
      " 24  Youth_15_24_Literacy_Rate_Female         202 non-null    int64  \n",
      " 25  Birth_Rate                               202 non-null    float64\n",
      " 26  Gross_Primary_Education_Enrollment       202 non-null    float64\n",
      " 27  Gross_Tertiary_Education_Enrollment      202 non-null    float64\n",
      " 28  Unemployment_Rate                        202 non-null    float64\n",
      "dtypes: float64(6), int64(22), object(1)\n",
      "memory usage: 45.9+ KB\n"
     ]
    }
   ],
   "source": [
    "df.info()"
   ]
  },
  {
   "cell_type": "markdown",
   "id": "3377f2bc-c26c-4186-8bb8-4b1405b5f6eb",
   "metadata": {},
   "source": [
    "# STEP 2: DATA CLEANING AND APPLYING MODELS"
   ]
  },
  {
   "cell_type": "markdown",
   "id": "40be9089-3de9-4cde-993b-a3fbd91ec0f8",
   "metadata": {},
   "source": [
    "## FEATURE IMPORTANCE"
   ]
  },
  {
   "cell_type": "markdown",
   "id": "82e766a1-c5c2-4cfc-a6d3-2c60a4d4273b",
   "metadata": {},
   "source": [
    "FEATURE IMPORTANCE IS A TECHNIQUE USED IN MACHINE LEARNING TO DETERMINE THE RELATIVE IMPORTANCE OF EACH FEATURE IN PREDICTING THE TARGET VARIABLE.\r\n",
    "A RANDOM FOREST REGRESSOR MODEL IS TRAINED ON THE TRAINING DATA.\r\n",
    "THE TRAINED MODEL'S FEATURE IMPORTANCES ARE COMPUTED.\r\n",
    "THE TOP 10 MOST IMPORTANT FEATURES ARE PLOTTED IN A HORIZONTAL BAR CHART, SHOWING THEIR IMPORTANCE SCORES."
   ]
  },
  {
   "cell_type": "code",
   "execution_count": 5,
   "id": "205dca39-c0bd-495e-a836-dffc0c852a72",
   "metadata": {},
   "outputs": [],
   "source": [
    "# Remove columns with spaces in their names\n",
    "df.columns = df.columns.str.strip()\n",
    "target_variable = 'Completion_Rate_Upper_Secondary_Female'\n",
    "df.drop(columns=['Countries and areas', 'Latitude', 'Longitude'], inplace=True)"
   ]
  },
  {
   "cell_type": "code",
   "execution_count": 6,
   "id": "8db3999d-a2be-4f75-a70e-e8bb7b3c2e2d",
   "metadata": {},
   "outputs": [
    {
     "data": {
      "image/png": "[encoded data removed]",
      "text/plain": [
       "<Figure size 640x480 with 1 Axes>"
      ]
     },
     "metadata": {},
     "output_type": "display_data"
    }
   ],
   "source": [
    "X = df.drop(columns=[target_variable])\n",
    "y = df[target_variable]\n",
    "\n",
    "X_train, X_test, y_train, y_test = train_test_split(X, y, test_size=0.2, random_state=42)\n",
    "\n",
    "# Feature Importance Analysis\n",
    "rf = RandomForestRegressor(n_estimators=100, random_state=42)\n",
    "rf.fit(X_train, y_train)\n",
    "\n",
    "# Plot feature importance\n",
    "feature_importances = pd.Series(rf.feature_importances_, index=X.columns)\n",
    "feature_importances.nlargest(10).plot(kind='barh')\n",
    "plt.xlabel('Feature Importance')\n",
    "plt.ylabel('Feature')\n",
    "plt.title('Top 10 Features Importance')\n",
    "plt.show()"
   ]
  },
  {
   "cell_type": "markdown",
   "id": "65ec1ebf-7772-431d-9a92-3ea4849e421a",
   "metadata": {},
   "source": [
    "## FINDING CORRELATION MATRIX"
   ]
  },
  {
   "cell_type": "markdown",
   "id": "a36c8535-fb18-4f86-82a1-e7f1a8cb913e",
   "metadata": {},
   "source": [
    "THE NUMERIC COLUMNS EXCLUDING 'Completion_Rate_Upper_Secondary_Female' FROM THE DATAFRAME WERE COMPUTED FOR THEIR CORRELATION WITH THE 'Completion_Rate_Upper_Secondary_Female'. THE RESULTING CORRELATION COEFFICIENTS WERE THEN SORTED IN DESCENDING ORDER.THIS WOULD HELP IN IDENTYFING THE FEATURES FOR OUR TARGET VARIABLES.THE FEATUES WITH MORE CORRELATION VALUE MOST HELP THE TARGET VARIABLE AND ONE WITH LESS OR NEGATIVE EFFECT LESS."
   ]
  },
  {
   "cell_type": "code",
   "execution_count": 7,
   "id": "86028557-7d32-43fb-95e3-482cd4a275c4",
   "metadata": {},
   "outputs": [
    {
     "name": "stdout",
     "output_type": "stream",
     "text": [
      "Correlation with respect to 'Completion_Rate_Upper_Secondary_Female':\n",
      "Completion_Rate_Upper_Secondary_Male       0.980652\n",
      "Completion_Rate_Lower_Secondary_Female     0.950336\n",
      "Completion_Rate_Lower_Secondary_Male       0.941252\n",
      "Completion_Rate_Primary_Male               0.872517\n",
      "Completion_Rate_Primary_Female             0.871348\n",
      "Unemployment_Rate                          0.285201\n",
      "Youth_15_24_Literacy_Rate_Female           0.188220\n",
      "Youth_15_24_Literacy_Rate_Male             0.180083\n",
      "Primary_End_Proficiency_Math               0.177774\n",
      "Primary_End_Proficiency_Reading            0.089381\n",
      "Gross_Primary_Education_Enrollment         0.064670\n",
      "Gross_Tertiary_Education_Enrollment        0.037310\n",
      "Grade_2_3_Proficiency_Reading              0.024680\n",
      "Birth_Rate                                 0.005722\n",
      "OOSR_Pre0Primary_Age_Female               -0.017439\n",
      "OOSR_Pre0Primary_Age_Male                 -0.020752\n",
      "Lower_Secondary_End_Proficiency_Reading   -0.027545\n",
      "Grade_2_3_Proficiency_Math                -0.027842\n",
      "OOSR_Upper_Secondary_Age_Male             -0.028353\n",
      "OOSR_Lower_Secondary_Age_Male             -0.066857\n",
      "OOSR_Upper_Secondary_Age_Female           -0.072717\n",
      "Lower_Secondary_End_Proficiency_Math      -0.074045\n",
      "OOSR_Primary_Age_Male                     -0.086033\n",
      "OOSR_Primary_Age_Female                   -0.098541\n",
      "OOSR_Lower_Secondary_Age_Female           -0.101022\n",
      "Name: Completion_Rate_Upper_Secondary_Female, dtype: float64\n"
     ]
    }
   ],
   "source": [
    "correlation_with_target = df.corr()['Completion_Rate_Upper_Secondary_Female'].drop('Completion_Rate_Upper_Secondary_Female')\n",
    "\n",
    "# Sort correlation with respect to target variable only\n",
    "sorted_correlation_with_target = correlation_with_target.sort_values(ascending=False)\n",
    "\n",
    "# Display sorted correlation with respect to target variable only\n",
    "print(\"Correlation with respect to 'Completion_Rate_Upper_Secondary_Female':\")\n",
    "print(sorted_correlation_with_target)\n"
   ]
  },
  {
   "cell_type": "markdown",
   "id": "fee1ca9b-737b-4124-a078-3b5bca4f137e",
   "metadata": {},
   "source": [
    "## VARIANCE THRESHOLD"
   ]
  },
  {
   "cell_type": "markdown",
   "id": "950b5fc6-3c0d-47a5-894c-79cf018a57d8",
   "metadata": {},
   "source": [
    "VARIANCE THRESHOLDING IS A TECHNIQUE USED IN FEATURE SELECTION TO REMOVE FEATURES WITH LOW VARIANCE. FEATURES WITH VARIANCES BELOW A CERTAIN THRESHOLD ARE CONSIDERED UNINFORMATIVE AND ARE DISCARDED. THIS HELPS TO SIMPLIFY THE MODEL AND REDUCE COMPUTATIONAL OVERHEAD."
   ]
  },
  {
   "cell_type": "code",
   "execution_count": 8,
   "id": "8c3c597e-7cd6-436d-95ac-581c1983a1b9",
   "metadata": {
    "scrolled": true
   },
   "outputs": [
    {
     "name": "stdout",
     "output_type": "stream",
     "text": [
      "Selected features after variance thresholding:\n",
      "Index(['OOSR_Pre0Primary_Age_Male', 'OOSR_Pre0Primary_Age_Female',\n",
      "       'OOSR_Primary_Age_Male', 'OOSR_Primary_Age_Female',\n",
      "       'OOSR_Lower_Secondary_Age_Male', 'OOSR_Lower_Secondary_Age_Female',\n",
      "       'OOSR_Upper_Secondary_Age_Male', 'OOSR_Upper_Secondary_Age_Female',\n",
      "       'Completion_Rate_Primary_Male', 'Completion_Rate_Primary_Female',\n",
      "       'Completion_Rate_Lower_Secondary_Male',\n",
      "       'Completion_Rate_Lower_Secondary_Female',\n",
      "       'Completion_Rate_Upper_Secondary_Male', 'Grade_2_3_Proficiency_Reading',\n",
      "       'Grade_2_3_Proficiency_Math', 'Primary_End_Proficiency_Reading',\n",
      "       'Primary_End_Proficiency_Math',\n",
      "       'Lower_Secondary_End_Proficiency_Reading',\n",
      "       'Lower_Secondary_End_Proficiency_Math',\n",
      "       'Youth_15_24_Literacy_Rate_Male', 'Youth_15_24_Literacy_Rate_Female',\n",
      "       'Birth_Rate', 'Gross_Primary_Education_Enrollment',\n",
      "       'Gross_Tertiary_Education_Enrollment', 'Unemployment_Rate'],\n",
      "      dtype='object')\n"
     ]
    }
   ],
   "source": [
    "# Variance Thresholding\n",
    "selector = VarianceThreshold()\n",
    "X_high_variance = selector.fit_transform(X)\n",
    "\n",
    "# Get the indices of the selected features\n",
    "selected_indices = selector.get_support(indices=True)\n",
    "\n",
    "# Get the names of the selected features\n",
    "selected_features = X.columns[selected_indices]\n",
    "print(\"Selected features after variance thresholding:\")\n",
    "print(selected_features)"
   ]
  },
  {
   "cell_type": "markdown",
   "id": "f4d19b7d-8ebd-4997-ad95-66584c36d061",
   "metadata": {},
   "source": [
    "## REMOVING COLUMNS WHICH ARE LEAST EFFECTING TARGET"
   ]
  },
  {
   "cell_type": "code",
   "execution_count": 9,
   "id": "2f25f5c5-df92-4f7d-9d76-3cbf555ae439",
   "metadata": {},
   "outputs": [
    {
     "name": "stdout",
     "output_type": "stream",
     "text": [
      "Remaining columns after dropping least effective ones:\n",
      "Index(['Completion_Rate_Primary_Male', 'Completion_Rate_Primary_Female',\n",
      "       'Completion_Rate_Lower_Secondary_Male',\n",
      "       'Completion_Rate_Lower_Secondary_Female',\n",
      "       'Completion_Rate_Upper_Secondary_Male',\n",
      "       'Completion_Rate_Upper_Secondary_Female',\n",
      "       'Primary_End_Proficiency_Math', 'Youth_15_24_Literacy_Rate_Male',\n",
      "       'Youth_15_24_Literacy_Rate_Female', 'Unemployment_Rate'],\n",
      "      dtype='object')\n"
     ]
    }
   ],
   "source": [
    "\n",
    "correlation_threshold = 0.1\n",
    "\n",
    "# Identify columns with correlation values below the threshold\n",
    "least_effective_columns = sorted_correlation_with_target[sorted_correlation_with_target < correlation_threshold].index\n",
    "\n",
    "# Drop least effecting columns from the dataset\n",
    "df.drop(columns=least_effective_columns, inplace=True)\n",
    "print(\"Remaining columns after dropping least effective ones:\")\n",
    "print(df.columns)\n"
   ]
  },
  {
   "cell_type": "markdown",
   "id": "33396185-9094-4270-a6a4-875841962b91",
   "metadata": {},
   "source": [
    "## HEATMAP TO SHOW CORRELATION"
   ]
  },
  {
   "cell_type": "markdown",
   "id": "c695c118-2280-4931-9432-3be987bdc25a",
   "metadata": {},
   "source": [
    "THE CODE CALCULATES THE CORRELATION MATRIX OF THE REMAINING COLUMNS IN THE DATAFRAME AFTER DROPPING THE LEAST EFFECTIVE ONES AND PLOTS A HEATMAP TO VISUALIZE THE CORRELATIONS BETWEEN THESE COLUMNS. THIS VISUALIZATION HELPS IDENTIFY RELATIONSHIPS AND PATTERNS BETWEEN VARIABLES IN THE DATASET."
   ]
  },
  {
   "cell_type": "code",
   "execution_count": 10,
   "id": "57c02d63-6dca-4e55-8b3b-9fa93409f57a",
   "metadata": {},
   "outputs": [
    {
     "data": {
      "image/png": "[encoded data removed]",
      "text/plain": [
       "<Figure size 1200x1000 with 2 Axes>"
      ]
     },
     "metadata": {},
     "output_type": "display_data"
    }
   ],
   "source": [
    "remaining_correlation_matrix = df.corr()\n",
    "\n",
    "# Plot the heatmap\n",
    "plt.figure(figsize=(12, 10))\n",
    "sns.heatmap(remaining_correlation_matrix, \n",
    "            annot=True, \n",
    "            cmap='coolwarm', \n",
    "            fmt=\".2f\", \n",
    "            linewidths=0.5,\n",
    "            annot_kws={\"size\": 8},\n",
    "            cbar_kws={\"shrink\": 0.8},\n",
    "            square=True)\n",
    "plt.xticks(rotation=45, ha='right')\n",
    "plt.yticks(rotation=0)\n",
    "plt.title('Correlation Matrix after Dropping Least Effective Columns')\n",
    "plt.tight_layout()\n",
    "plt.show()\n"
   ]
  },
  {
   "cell_type": "markdown",
   "id": "a6082a81-cc66-4916-9ad2-f21db8b19b8c",
   "metadata": {},
   "source": [
    "## CHECKING FOR MISSING VALUES"
   ]
  },
  {
   "cell_type": "code",
   "execution_count": 11,
   "id": "e3db9874-4bf4-4c3f-bb21-683f3125f7a9",
   "metadata": {},
   "outputs": [
    {
     "name": "stdout",
     "output_type": "stream",
     "text": [
      "Columns with missing values:\n",
      "Series([], dtype: int64)\n"
     ]
    }
   ],
   "source": [
    "missing_values = df.isna()\n",
    "\n",
    "#Count missing values in each column\n",
    "missing_counts = missing_values.sum()\n",
    "print(\"Columns with missing values:\")\n",
    "print(missing_counts[missing_counts > 0])"
   ]
  },
  {
   "cell_type": "markdown",
   "id": "6ec9b209-cdbc-4701-a50d-729281647489",
   "metadata": {},
   "source": [
    "## CHECKING FOR NULL VALUES"
   ]
  },
  {
   "cell_type": "code",
   "execution_count": 12,
   "id": "dd1b97d2-1bcf-40bd-ab59-a90ea558a013",
   "metadata": {},
   "outputs": [
    {
     "name": "stdout",
     "output_type": "stream",
     "text": [
      "Columns with null values:\n",
      "Series([], dtype: int64)\n"
     ]
    }
   ],
   "source": [
    "# Check for null values\n",
    "null_values = df.isnull().sum()\n",
    "print(\"Columns with null values:\")\n",
    "print(null_values[null_values > 0])\n"
   ]
  },
  {
   "cell_type": "markdown",
   "id": "247bef44-0b17-4361-bdee-0a459db85975",
   "metadata": {},
   "source": [
    "# VISUALIZATION"
   ]
  },
  {
   "cell_type": "markdown",
   "id": "62afa1cc-d440-45dd-beb6-d4a740e50ad2",
   "metadata": {},
   "source": [
    "## BOX PLOT"
   ]
  },
  {
   "cell_type": "markdown",
   "id": "735f9984-55b0-4801-9c63-0268951b78ef",
   "metadata": {},
   "source": [
    "THE CODE CREATES A BOX PLOT OF THE 'COMPLETION_RATE_UPPER_SECONDARY_FEMALE' COLUMN IN THE DATAFRAME. THIS PLOT VISUALIZES THE DISTRIBUTION OF COMPLETION RATES FOR UPPER SECONDARY EDUCATION AMONG FEMALES."
   ]
  },
  {
   "cell_type": "code",
   "execution_count": 13,
   "id": "49d479fd-1489-4b8e-a908-933c804a787b",
   "metadata": {},
   "outputs": [],
   "source": [
    "import warnings\n",
    "warnings.filterwarnings(\"ignore\", category=DeprecationWarning)\n",
    "\n",
    "import warnings\n",
    "\n",
    "# Filter out FutureWarnings\n",
    "warnings.filterwarnings(\"ignore\", category=FutureWarning)\n"
   ]
  },
  {
   "cell_type": "code",
   "execution_count": 14,
   "id": "bd2c0ff1-12c1-4eaa-a0fb-dd1c9c802839",
   "metadata": {},
   "outputs": [
    {
     "data": {
      "image/png": "[encoded data removed]",
      "text/plain": [
       "<Figure size 800x600 with 1 Axes>"
      ]
     },
     "metadata": {},
     "output_type": "display_data"
    }
   ],
   "source": [
    "import matplotlib.pyplot as plt\n",
    "import seaborn as sns\n",
    "sns.set(style=\"whitegrid\")\n",
    "\n",
    "# Define a single color for the box plot\n",
    "custom_color = 'skyblue'\n",
    "plt.figure(figsize=(8, 6))\n",
    "sns.boxplot(y='Completion_Rate_Upper_Secondary_Female', data=df, color=custom_color)\n",
    "plt.title('Box Plot of Completion Rate Upper Secondary Female', fontsize=16)\n",
    "plt.ylabel('Completion Rate Upper Secondary Female', fontsize=14)\n",
    "plt.tight_layout() \n",
    "plt.show()\n"
   ]
  },
  {
   "cell_type": "markdown",
   "id": "ffe38acf-1be6-43a8-845f-a57cb9627a54",
   "metadata": {},
   "source": [
    "## HISTOGRAM"
   ]
  },
  {
   "cell_type": "markdown",
   "id": "e548125b-8b2a-4dca-932b-45ff4b414a2c",
   "metadata": {},
   "source": [
    "THE CODE GENERATES A HISTOGRAM OF THE 'COMPLETION_RATE_UPPER_SECONDARY_FEMALE' COLUMN IN THE DATAFRAME. THIS HISTOGRAM VISUALIZES THE DISTRIBUTION OF COMPLETION RATES FOR UPPER SECONDARY EDUCATION AMONG FEMALES."
   ]
  },
  {
   "cell_type": "code",
   "execution_count": 15,
   "id": "22e9c078-50f8-48cc-98a9-e1651eb644d1",
   "metadata": {},
   "outputs": [
    {
     "data": {
      "image/png": "[encoded data removed]",
      "text/plain": [
       "<Figure size 800x600 with 1 Axes>"
      ]
     },
     "metadata": {},
     "output_type": "display_data"
    }
   ],
   "source": [
    "import matplotlib.pyplot as plt\n",
    "import seaborn as sns\n",
    "\n",
    "sns.set(style=\"whitegrid\")\n",
    "plt.figure(figsize=(8, 6))\n",
    "sns.histplot(df['Completion_Rate_Upper_Secondary_Female'], kde=True, color='skyblue')\n",
    "plt.title('Histogram of Completion Rate Upper Secondary Female', fontsize=16)\n",
    "plt.xlabel('Completion Rate Upper Secondary Female', fontsize=14)\n",
    "plt.ylabel('Frequency', fontsize=14)\n",
    "plt.tight_layout() \n",
    "plt.show()\n"
   ]
  },
  {
   "cell_type": "markdown",
   "id": "1c79a2a6-165a-4b8c-a36a-533079895f81",
   "metadata": {},
   "source": [
    "# KNEAREST NEIGHBOUR REGRESSOR"
   ]
  },
  {
   "cell_type": "markdown",
   "id": "4dc5bce2-d715-4724-9b0f-bb33aa304d3e",
   "metadata": {},
   "source": [
    "THE K NEAREST NEIGHBORS (KNN) REGRESSOR IS A MACHINE LEARNING ALGORITHM USED FOR REGRESSION TASKS. IT OPERATES ON THE PRINCIPLE OF SIMILARITY, WHERE THE PREDICTION FOR A NEW DATA POINT IS MADE BASED ON THE 'K' NEAREST DATA POINTS IN THE TRAINING SET."
   ]
  },
  {
   "cell_type": "markdown",
   "id": "cb1c403d-dfc3-4f1f-8205-19f82ba10da6",
   "metadata": {},
   "source": [
    "## IMPORTING MODULES DEFINING FEATURES"
   ]
  },
  {
   "cell_type": "markdown",
   "id": "47575083-9fee-45a3-9842-e9fc35b5880b",
   "metadata": {},
   "source": [
    "IMPORTING NECESSARY MODULES FOR MODEL TRAINING AND EVALUATION INCLUDING `train_test_split`, `GridSearchCV`, `KNeighborsRegressor`, `StandardScaler`, AND VARIOUS EVALUATION METRICS FROM `SKLEARN.METRICS`. IT ALSO INCLUDES `TIMEIT` TO MEASURE THE EXECUTION TIME.\n",
    "THE `X` VARIABLE CONTAINS FEATURES SELECTED FROM THE DATAFRAME `DF`"
   ]
  },
  {
   "cell_type": "code",
   "execution_count": 16,
   "id": "e34aa04e-aea8-4581-8085-9524f4a9b2fc",
   "metadata": {},
   "outputs": [],
   "source": [
    "from sklearn.model_selection import train_test_split, GridSearchCV\n",
    "from sklearn.neighbors import KNeighborsRegressor\n",
    "from sklearn.preprocessing import StandardScaler\n",
    "from sklearn.metrics import mean_squared_error\n",
    "from sklearn.metrics import mean_absolute_error, mean_squared_error, r2_score\n",
    "import timeit\n",
    "knn_tic = timeit.default_timer()\n",
    "X = df[['Completion_Rate_Primary_Male', 'Completion_Rate_Primary_Female',\n",
    "        'Completion_Rate_Lower_Secondary_Male', 'Completion_Rate_Lower_Secondary_Female',\n",
    "        'Completion_Rate_Upper_Secondary_Male', 'Primary_End_Proficiency_Math',\n",
    "        'Youth_15_24_Literacy_Rate_Male', 'Youth_15_24_Literacy_Rate_Female', 'Unemployment_Rate']]\n",
    "y = df['Completion_Rate_Upper_Secondary_Female']"
   ]
  },
  {
   "cell_type": "markdown",
   "id": "b0f61ad8-f03f-4f2e-80d9-d677edda3bb7",
   "metadata": {},
   "source": [
    "## FEATURE NORMALIZATION "
   ]
  },
  {
   "cell_type": "markdown",
   "id": "e0d4be40-5dea-407a-860c-b670c923af1c",
   "metadata": {},
   "source": [
    "NORMALIZES FEATURES USING STANDARD SCALER, SPLITS DATA INTO TRAINING AND TESTING SETS, AND DEFINES A PARAMETER GRID FOR K NEAREST NEIGHBORS HYPERPARAMETER TUNING."
   ]
  },
  {
   "cell_type": "code",
   "execution_count": 17,
   "id": "938cca9b-6634-468b-aae8-52b97127e07d",
   "metadata": {},
   "outputs": [],
   "source": [
    "# Normalize features\n",
    "scaler = StandardScaler()\n",
    "X_scaled = scaler.fit_transform(X)\n",
    "\n",
    "# Split the data into training and testing sets\n",
    "X_train, X_test, y_train, y_test = train_test_split(X_scaled, y, test_size=0.2, random_state=42)\n",
    "param_grid = {'n_neighbors': range(1, 21)}"
   ]
  },
  {
   "cell_type": "markdown",
   "id": "d6a47e49-7a80-4e68-962f-7ab8c7bff232",
   "metadata": {},
   "source": [
    "## GRID SEARCH FOR HYPERPARAMETER TUNING"
   ]
  },
  {
   "cell_type": "markdown",
   "id": "811cf7a4-a6e1-4e59-ac9c-e5f1f37eb207",
   "metadata": {},
   "source": [
    "THIS CREATES A K NEAREST NEIGHBORS (KNN) REGRESSOR, PERFORMS GRID SEARCH CROSS-VALIDATION TO FIND THE BEST HYPERPARAMETERS FOR THE MODEL, RETRIEVES THE BEST NUMBER OF NEIGHBORS, AND TRAINS A KNN REGRESSION MODEL WITH THE BEST PARAMETERS."
   ]
  },
  {
   "cell_type": "code",
   "execution_count": 18,
   "id": "bc4a0606-234d-47ed-8307-a3042397c441",
   "metadata": {},
   "outputs": [
    {
     "data": {
      "text/html": [
       "<style>#sk-container-id-1 {\n",
       "  /* Definition of color scheme common for light and dark mode */\n",
       "  --sklearn-color-text: black;\n",
       "  --sklearn-color-line: gray;\n",
       "  /* Definition of color scheme for unfitted estimators */\n",
       "  --sklearn-color-unfitted-level-0: #fff5e6;\n",
       "  --sklearn-color-unfitted-level-1: #f6e4d2;\n",
       "  --sklearn-color-unfitted-level-2: #ffe0b3;\n",
       "  --sklearn-color-unfitted-level-3: chocolate;\n",
       "  /* Definition of color scheme for fitted estimators */\n",
       "  --sklearn-color-fitted-level-0: #f0f8ff;\n",
       "  --sklearn-color-fitted-level-1: #d4ebff;\n",
       "  --sklearn-color-fitted-level-2: #b3dbfd;\n",
       "  --sklearn-color-fitted-level-3: cornflowerblue;\n",
       "\n",
       "  /* Specific color for light theme */\n",
       "  --sklearn-color-text-on-default-background: var(--sg-text-color, var(--theme-code-foreground, var(--jp-content-font-color1, black)));\n",
       "  --sklearn-color-background: var(--sg-background-color, var(--theme-background, var(--jp-layout-color0, white)));\n",
       "  --sklearn-color-border-box: var(--sg-text-color, var(--theme-code-foreground, var(--jp-content-font-color1, black)));\n",
       "  --sklearn-color-icon: #696969;\n",
       "\n",
       "  @media (prefers-color-scheme: dark) {\n",
       "    /* Redefinition of color scheme for dark theme */\n",
       "    --sklearn-color-text-on-default-background: var(--sg-text-color, var(--theme-code-foreground, var(--jp-content-font-color1, white)));\n",
       "    --sklearn-color-background: var(--sg-background-color, var(--theme-background, var(--jp-layout-color0, #111)));\n",
       "    --sklearn-color-border-box: var(--sg-text-color, var(--theme-code-foreground, var(--jp-content-font-color1, white)));\n",
       "    --sklearn-color-icon: #878787;\n",
       "  }\n",
       "}\n",
       "\n",
       "#sk-container-id-1 {\n",
       "  color: var(--sklearn-color-text);\n",
       "}\n",
       "\n",
       "#sk-container-id-1 pre {\n",
       "  padding: 0;\n",
       "}\n",
       "\n",
       "#sk-container-id-1 input.sk-hidden--visually {\n",
       "  border: 0;\n",
       "  clip: rect(1px 1px 1px 1px);\n",
       "  clip: rect(1px, 1px, 1px, 1px);\n",
       "  height: 1px;\n",
       "  margin: -1px;\n",
       "  overflow: hidden;\n",
       "  padding: 0;\n",
       "  position: absolute;\n",
       "  width: 1px;\n",
       "}\n",
       "\n",
       "#sk-container-id-1 div.sk-dashed-wrapped {\n",
       "  border: 1px dashed var(--sklearn-color-line);\n",
       "  margin: 0 0.4em 0.5em 0.4em;\n",
       "  box-sizing: border-box;\n",
       "  padding-bottom: 0.4em;\n",
       "  background-color: var(--sklearn-color-background);\n",
       "}\n",
       "\n",
       "#sk-container-id-1 div.sk-container {\n",
       "  /* jupyter's `normalize.less` sets `[hidden] { display: none; }`\n",
       "     but bootstrap.min.css set `[hidden] { display: none !important; }`\n",
       "     so we also need the `!important` here to be able to override the\n",
       "     default hidden behavior on the sphinx rendered scikit-learn.org.\n",
       "     See: https://github.com/scikit-learn/scikit-learn/issues/21755 */\n",
       "  display: inline-block !important;\n",
       "  position: relative;\n",
       "}\n",
       "\n",
       "#sk-container-id-1 div.sk-text-repr-fallback {\n",
       "  display: none;\n",
       "}\n",
       "\n",
       "div.sk-parallel-item,\n",
       "div.sk-serial,\n",
       "div.sk-item {\n",
       "  /* draw centered vertical line to link estimators */\n",
       "  background-image: linear-gradient(var(--sklearn-color-text-on-default-background), var(--sklearn-color-text-on-default-background));\n",
       "  background-size: 2px 100%;\n",
       "  background-repeat: no-repeat;\n",
       "  background-position: center center;\n",
       "}\n",
       "\n",
       "/* Parallel-specific style estimator block */\n",
       "\n",
       "#sk-container-id-1 div.sk-parallel-item::after {\n",
       "  content: \"\";\n",
       "  width: 100%;\n",
       "  border-bottom: 2px solid var(--sklearn-color-text-on-default-background);\n",
       "  flex-grow: 1;\n",
       "}\n",
       "\n",
       "#sk-container-id-1 div.sk-parallel {\n",
       "  display: flex;\n",
       "  align-items: stretch;\n",
       "  justify-content: center;\n",
       "  background-color: var(--sklearn-color-background);\n",
       "  position: relative;\n",
       "}\n",
       "\n",
       "#sk-container-id-1 div.sk-parallel-item {\n",
       "  display: flex;\n",
       "  flex-direction: column;\n",
       "}\n",
       "\n",
       "#sk-container-id-1 div.sk-parallel-item:first-child::after {\n",
       "  align-self: flex-end;\n",
       "  width: 50%;\n",
       "}\n",
       "\n",
       "#sk-container-id-1 div.sk-parallel-item:last-child::after {\n",
       "  align-self: flex-start;\n",
       "  width: 50%;\n",
       "}\n",
       "\n",
       "#sk-container-id-1 div.sk-parallel-item:only-child::after {\n",
       "  width: 0;\n",
       "}\n",
       "\n",
       "/* Serial-specific style estimator block */\n",
       "\n",
       "#sk-container-id-1 div.sk-serial {\n",
       "  display: flex;\n",
       "  flex-direction: column;\n",
       "  align-items: center;\n",
       "  background-color: var(--sklearn-color-background);\n",
       "  padding-right: 1em;\n",
       "  padding-left: 1em;\n",
       "}\n",
       "\n",
       "\n",
       "/* Toggleable style: style used for estimator/Pipeline/ColumnTransformer box that is\n",
       "clickable and can be expanded/collapsed.\n",
       "- Pipeline and ColumnTransformer use this feature and define the default style\n",
       "- Estimators will overwrite some part of the style using the `sk-estimator` class\n",
       "*/\n",
       "\n",
       "/* Pipeline and ColumnTransformer style (default) */\n",
       "\n",
       "#sk-container-id-1 div.sk-toggleable {\n",
       "  /* Default theme specific background. It is overwritten whether we have a\n",
       "  specific estimator or a Pipeline/ColumnTransformer */\n",
       "  background-color: var(--sklearn-color-background);\n",
       "}\n",
       "\n",
       "/* Toggleable label */\n",
       "#sk-container-id-1 label.sk-toggleable__label {\n",
       "  cursor: pointer;\n",
       "  display: block;\n",
       "  width: 100%;\n",
       "  margin-bottom: 0;\n",
       "  padding: 0.5em;\n",
       "  box-sizing: border-box;\n",
       "  text-align: center;\n",
       "}\n",
       "\n",
       "#sk-container-id-1 label.sk-toggleable__label-arrow:before {\n",
       "  /* Arrow on the left of the label */\n",
       "  content: \"▸\";\n",
       "  float: left;\n",
       "  margin-right: 0.25em;\n",
       "  color: var(--sklearn-color-icon);\n",
       "}\n",
       "\n",
       "#sk-container-id-1 label.sk-toggleable__label-arrow:hover:before {\n",
       "  color: var(--sklearn-color-text);\n",
       "}\n",
       "\n",
       "/* Toggleable content - dropdown */\n",
       "\n",
       "#sk-container-id-1 div.sk-toggleable__content {\n",
       "  max-height: 0;\n",
       "  max-width: 0;\n",
       "  overflow: hidden;\n",
       "  text-align: left;\n",
       "  /* unfitted */\n",
       "  background-color: var(--sklearn-color-unfitted-level-0);\n",
       "}\n",
       "\n",
       "#sk-container-id-1 div.sk-toggleable__content.fitted {\n",
       "  /* fitted */\n",
       "  background-color: var(--sklearn-color-fitted-level-0);\n",
       "}\n",
       "\n",
       "#sk-container-id-1 div.sk-toggleable__content pre {\n",
       "  margin: 0.2em;\n",
       "  border-radius: 0.25em;\n",
       "  color: var(--sklearn-color-text);\n",
       "  /* unfitted */\n",
       "  background-color: var(--sklearn-color-unfitted-level-0);\n",
       "}\n",
       "\n",
       "#sk-container-id-1 div.sk-toggleable__content.fitted pre {\n",
       "  /* unfitted */\n",
       "  background-color: var(--sklearn-color-fitted-level-0);\n",
       "}\n",
       "\n",
       "#sk-container-id-1 input.sk-toggleable__control:checked~div.sk-toggleable__content {\n",
       "  /* Expand drop-down */\n",
       "  max-height: 200px;\n",
       "  max-width: 100%;\n",
       "  overflow: auto;\n",
       "}\n",
       "\n",
       "#sk-container-id-1 input.sk-toggleable__control:checked~label.sk-toggleable__label-arrow:before {\n",
       "  content: \"▾\";\n",
       "}\n",
       "\n",
       "/* Pipeline/ColumnTransformer-specific style */\n",
       "\n",
       "#sk-container-id-1 div.sk-label input.sk-toggleable__control:checked~label.sk-toggleable__label {\n",
       "  color: var(--sklearn-color-text);\n",
       "  background-color: var(--sklearn-color-unfitted-level-2);\n",
       "}\n",
       "\n",
       "#sk-container-id-1 div.sk-label.fitted input.sk-toggleable__control:checked~label.sk-toggleable__label {\n",
       "  background-color: var(--sklearn-color-fitted-level-2);\n",
       "}\n",
       "\n",
       "/* Estimator-specific style */\n",
       "\n",
       "/* Colorize estimator box */\n",
       "#sk-container-id-1 div.sk-estimator input.sk-toggleable__control:checked~label.sk-toggleable__label {\n",
       "  /* unfitted */\n",
       "  background-color: var(--sklearn-color-unfitted-level-2);\n",
       "}\n",
       "\n",
       "#sk-container-id-1 div.sk-estimator.fitted input.sk-toggleable__control:checked~label.sk-toggleable__label {\n",
       "  /* fitted */\n",
       "  background-color: var(--sklearn-color-fitted-level-2);\n",
       "}\n",
       "\n",
       "#sk-container-id-1 div.sk-label label.sk-toggleable__label,\n",
       "#sk-container-id-1 div.sk-label label {\n",
       "  /* The background is the default theme color */\n",
       "  color: var(--sklearn-color-text-on-default-background);\n",
       "}\n",
       "\n",
       "/* On hover, darken the color of the background */\n",
       "#sk-container-id-1 div.sk-label:hover label.sk-toggleable__label {\n",
       "  color: var(--sklearn-color-text);\n",
       "  background-color: var(--sklearn-color-unfitted-level-2);\n",
       "}\n",
       "\n",
       "/* Label box, darken color on hover, fitted */\n",
       "#sk-container-id-1 div.sk-label.fitted:hover label.sk-toggleable__label.fitted {\n",
       "  color: var(--sklearn-color-text);\n",
       "  background-color: var(--sklearn-color-fitted-level-2);\n",
       "}\n",
       "\n",
       "/* Estimator label */\n",
       "\n",
       "#sk-container-id-1 div.sk-label label {\n",
       "  font-family: monospace;\n",
       "  font-weight: bold;\n",
       "  display: inline-block;\n",
       "  line-height: 1.2em;\n",
       "}\n",
       "\n",
       "#sk-container-id-1 div.sk-label-container {\n",
       "  text-align: center;\n",
       "}\n",
       "\n",
       "/* Estimator-specific */\n",
       "#sk-container-id-1 div.sk-estimator {\n",
       "  font-family: monospace;\n",
       "  border: 1px dotted var(--sklearn-color-border-box);\n",
       "  border-radius: 0.25em;\n",
       "  box-sizing: border-box;\n",
       "  margin-bottom: 0.5em;\n",
       "  /* unfitted */\n",
       "  background-color: var(--sklearn-color-unfitted-level-0);\n",
       "}\n",
       "\n",
       "#sk-container-id-1 div.sk-estimator.fitted {\n",
       "  /* fitted */\n",
       "  background-color: var(--sklearn-color-fitted-level-0);\n",
       "}\n",
       "\n",
       "/* on hover */\n",
       "#sk-container-id-1 div.sk-estimator:hover {\n",
       "  /* unfitted */\n",
       "  background-color: var(--sklearn-color-unfitted-level-2);\n",
       "}\n",
       "\n",
       "#sk-container-id-1 div.sk-estimator.fitted:hover {\n",
       "  /* fitted */\n",
       "  background-color: var(--sklearn-color-fitted-level-2);\n",
       "}\n",
       "\n",
       "/* Specification for estimator info (e.g. \"i\" and \"?\") */\n",
       "\n",
       "/* Common style for \"i\" and \"?\" */\n",
       "\n",
       ".sk-estimator-doc-link,\n",
       "a:link.sk-estimator-doc-link,\n",
       "a:visited.sk-estimator-doc-link {\n",
       "  float: right;\n",
       "  font-size: smaller;\n",
       "  line-height: 1em;\n",
       "  font-family: monospace;\n",
       "  background-color: var(--sklearn-color-background);\n",
       "  border-radius: 1em;\n",
       "  height: 1em;\n",
       "  width: 1em;\n",
       "  text-decoration: none !important;\n",
       "  margin-left: 1ex;\n",
       "  /* unfitted */\n",
       "  border: var(--sklearn-color-unfitted-level-1) 1pt solid;\n",
       "  color: var(--sklearn-color-unfitted-level-1);\n",
       "}\n",
       "\n",
       ".sk-estimator-doc-link.fitted,\n",
       "a:link.sk-estimator-doc-link.fitted,\n",
       "a:visited.sk-estimator-doc-link.fitted {\n",
       "  /* fitted */\n",
       "  border: var(--sklearn-color-fitted-level-1) 1pt solid;\n",
       "  color: var(--sklearn-color-fitted-level-1);\n",
       "}\n",
       "\n",
       "/* On hover */\n",
       "div.sk-estimator:hover .sk-estimator-doc-link:hover,\n",
       ".sk-estimator-doc-link:hover,\n",
       "div.sk-label-container:hover .sk-estimator-doc-link:hover,\n",
       ".sk-estimator-doc-link:hover {\n",
       "  /* unfitted */\n",
       "  background-color: var(--sklearn-color-unfitted-level-3);\n",
       "  color: var(--sklearn-color-background);\n",
       "  text-decoration: none;\n",
       "}\n",
       "\n",
       "div.sk-estimator.fitted:hover .sk-estimator-doc-link.fitted:hover,\n",
       ".sk-estimator-doc-link.fitted:hover,\n",
       "div.sk-label-container:hover .sk-estimator-doc-link.fitted:hover,\n",
       ".sk-estimator-doc-link.fitted:hover {\n",
       "  /* fitted */\n",
       "  background-color: var(--sklearn-color-fitted-level-3);\n",
       "  color: var(--sklearn-color-background);\n",
       "  text-decoration: none;\n",
       "}\n",
       "\n",
       "/* Span, style for the box shown on hovering the info icon */\n",
       ".sk-estimator-doc-link span {\n",
       "  display: none;\n",
       "  z-index: 9999;\n",
       "  position: relative;\n",
       "  font-weight: normal;\n",
       "  right: .2ex;\n",
       "  padding: .5ex;\n",
       "  margin: .5ex;\n",
       "  width: min-content;\n",
       "  min-width: 20ex;\n",
       "  max-width: 50ex;\n",
       "  color: var(--sklearn-color-text);\n",
       "  box-shadow: 2pt 2pt 4pt #999;\n",
       "  /* unfitted */\n",
       "  background: var(--sklearn-color-unfitted-level-0);\n",
       "  border: .5pt solid var(--sklearn-color-unfitted-level-3);\n",
       "}\n",
       "\n",
       ".sk-estimator-doc-link.fitted span {\n",
       "  /* fitted */\n",
       "  background: var(--sklearn-color-fitted-level-0);\n",
       "  border: var(--sklearn-color-fitted-level-3);\n",
       "}\n",
       "\n",
       ".sk-estimator-doc-link:hover span {\n",
       "  display: block;\n",
       "}\n",
       "\n",
       "/* \"?\"-specific style due to the `<a>` HTML tag */\n",
       "\n",
       "#sk-container-id-1 a.estimator_doc_link {\n",
       "  float: right;\n",
       "  font-size: 1rem;\n",
       "  line-height: 1em;\n",
       "  font-family: monospace;\n",
       "  background-color: var(--sklearn-color-background);\n",
       "  border-radius: 1rem;\n",
       "  height: 1rem;\n",
       "  width: 1rem;\n",
       "  text-decoration: none;\n",
       "  /* unfitted */\n",
       "  color: var(--sklearn-color-unfitted-level-1);\n",
       "  border: var(--sklearn-color-unfitted-level-1) 1pt solid;\n",
       "}\n",
       "\n",
       "#sk-container-id-1 a.estimator_doc_link.fitted {\n",
       "  /* fitted */\n",
       "  border: var(--sklearn-color-fitted-level-1) 1pt solid;\n",
       "  color: var(--sklearn-color-fitted-level-1);\n",
       "}\n",
       "\n",
       "/* On hover */\n",
       "#sk-container-id-1 a.estimator_doc_link:hover {\n",
       "  /* unfitted */\n",
       "  background-color: var(--sklearn-color-unfitted-level-3);\n",
       "  color: var(--sklearn-color-background);\n",
       "  text-decoration: none;\n",
       "}\n",
       "\n",
       "#sk-container-id-1 a.estimator_doc_link.fitted:hover {\n",
       "  /* fitted */\n",
       "  background-color: var(--sklearn-color-fitted-level-3);\n",
       "}\n",
       "</style><div id=\"sk-container-id-1\" class=\"sk-top-container\"><div class=\"sk-text-repr-fallback\"><pre>KNeighborsRegressor()</pre><b>In a Jupyter environment, please rerun this cell to show the HTML representation or trust the notebook. <br />On GitHub, the HTML representation is unable to render, please try loading this page with nbviewer.org.</b></div><div class=\"sk-container\" hidden><div class=\"sk-item\"><div class=\"sk-estimator fitted sk-toggleable\"><input class=\"sk-toggleable__control sk-hidden--visually\" id=\"sk-estimator-id-1\" type=\"checkbox\" checked><label for=\"sk-estimator-id-1\" class=\"sk-toggleable__label fitted sk-toggleable__label-arrow fitted\">&nbsp;&nbsp;KNeighborsRegressor<a class=\"sk-estimator-doc-link fitted\" rel=\"noreferrer\" target=\"_blank\" href=\"https://scikit-learn.org/1.4/modules/generated/sklearn.neighbors.KNeighborsRegressor.html\">?<span>Documentation for KNeighborsRegressor</span></a><span class=\"sk-estimator-doc-link fitted\">i<span>Fitted</span></span></label><div class=\"sk-toggleable__content fitted\"><pre>KNeighborsRegressor()</pre></div> </div></div></div></div>"
      ],
      "text/plain": [
       "KNeighborsRegressor()"
      ]
     },
     "execution_count": 18,
     "metadata": {},
     "output_type": "execute_result"
    }
   ],
   "source": [
    "# Create KNN regressor\n",
    "knn_regressor = KNeighborsRegressor()\n",
    "\n",
    "# Perform grid search\n",
    "grid_search = GridSearchCV(estimator=knn_regressor, param_grid=param_grid, cv=5, scoring='neg_mean_squared_error', n_jobs=-1)\n",
    "grid_search.fit(X_train, y_train)\n",
    "\n",
    "\n",
    "# Get the best parameters\n",
    "best_n_neighbors = grid_search.best_params_['n_neighbors']\n",
    "knn_regressor_best = KNeighborsRegressor(n_neighbors=best_n_neighbors)\n",
    "knn_regressor_best.fit(X_train, y_train)"
   ]
  },
  {
   "cell_type": "markdown",
   "id": "69f1289e-075b-4999-9942-b98e62fbfdf1",
   "metadata": {},
   "source": [
    "## MODEL EVALUATION"
   ]
  },
  {
   "cell_type": "markdown",
   "id": "eacb25a3-176e-4caa-ba4f-5de1247ec477",
   "metadata": {},
   "source": [
    "IT MAKES PREDICTIONS ON THE TESTING DATA USING THE TRAINED K NEAREST NEIGHBORS (KNN) REGRESSION MODEL WITH THE BEST PARAMETERS, EVALUATES THE MODEL'S PERFORMANCE BY CALCULATING THE MEAN SQUARED ERROR (MSE), AND PRINTS OUT THE BEST PARAMETERS, SPECIFICALLY THE BEST NUMBER OF NEIGHBORS."
   ]
  },
  {
   "cell_type": "code",
   "execution_count": 19,
   "id": "49bfb8eb-47f8-4dbe-a6f4-db6f47965780",
   "metadata": {},
   "outputs": [
    {
     "name": "stdout",
     "output_type": "stream",
     "text": [
      "Best Mean Squared Error (MSE): 125.50341463414635\n",
      "Best Number of Neighbors: 5\n"
     ]
    }
   ],
   "source": [
    "# Make predictions on the testing data\n",
    "y_pred_best = knn_regressor_best.predict(X_test)\n",
    "\n",
    "# Evaluate the model's performance\n",
    "mse_best = mean_squared_error(y_test, y_pred_best)\n",
    "print(\"Best Mean Squared Error (MSE):\", mse_best)\n",
    "print(\"Best Number of Neighbors:\", best_n_neighbors)"
   ]
  },
  {
   "cell_type": "markdown",
   "id": "82eb1c03-3e7b-4ad6-9474-053df402c789",
   "metadata": {},
   "source": [
    "## MEAN ABSOLUTE ERROR(MAE)"
   ]
  },
  {
   "cell_type": "markdown",
   "id": "5f39d03e-1ddf-4211-9ce9-17c78942a0b7",
   "metadata": {},
   "source": [
    "IT EVALUATES THE K NEAREST NEIGHBORS (KNN) REGRESSION MODEL BY MAKING PREDICTIONS ON THE TESTING DATA AND CALCULATING THE MEAN ABSOLUTE ERROR (MAE) BETWEEN THE PREDICTED AND ACTUAL VALUES. THE MAE IS THEN PRINTED OUT."
   ]
  },
  {
   "cell_type": "code",
   "execution_count": 20,
   "id": "5b68a168-537d-4df1-8053-42b383301dd1",
   "metadata": {},
   "outputs": [
    {
     "name": "stdout",
     "output_type": "stream",
     "text": [
      "Mean Absolute Error: 6.7560975609756095\n"
     ]
    }
   ],
   "source": [
    "y_pred = knn_regressor_best.predict(X_test)\n",
    "\n",
    "knn_mae = mean_absolute_error(y_test, y_pred)\n",
    "print(\"Mean Absolute Error:\", knn_mae)"
   ]
  },
  {
   "cell_type": "markdown",
   "id": "049e7370-fd4c-4c47-aaae-c6ce77518506",
   "metadata": {},
   "source": [
    "## MEAN SQUARED ERROR(MSE)"
   ]
  },
  {
   "cell_type": "markdown",
   "id": "e62060b1-252c-4223-9907-36ed6c5ebde5",
   "metadata": {},
   "source": [
    "IT CALCULATES THE MEAN SQUARED ERROR (MSE) BETWEEN THE PREDICTED AND ACTUAL VALUES OF THE TESTING DATA, USING THE MEAN_SQUARED_ERROR FUNCTION FROM SCIKIT-LEARN. THE MSE VALUE IS THEN PRINTED OUT."
   ]
  },
  {
   "cell_type": "code",
   "execution_count": 21,
   "id": "f19b08a1-e686-41d4-9bb5-2553eedc58f8",
   "metadata": {},
   "outputs": [
    {
     "name": "stdout",
     "output_type": "stream",
     "text": [
      "Mean Squared Error: 125.50341463414635\n"
     ]
    }
   ],
   "source": [
    "knn_mse = mean_squared_error(y_test, y_pred)\n",
    "print(\"Mean Squared Error:\", knn_mse)"
   ]
  },
  {
   "cell_type": "markdown",
   "id": "ae482d84-f523-4cec-b81b-79145f7c36b1",
   "metadata": {},
   "source": [
    "## R-SQUARED ERROR"
   ]
  },
  {
   "cell_type": "markdown",
   "id": "6f67356f-3efc-48df-aa46-8afccdd730f3",
   "metadata": {},
   "source": [
    "IT CALCULATES THE R-SQUARED SCORE BETWEEN THE PREDICTED AND ACTUAL VALUES OF THE TESTING DATA, PRINTS IT OUT, AND MEASURES THE EXECUTION TIME OF THE CODE."
   ]
  },
  {
   "cell_type": "code",
   "execution_count": 22,
   "id": "deb133ca-9aae-49c9-a7a5-62f11142842e",
   "metadata": {},
   "outputs": [
    {
     "name": "stdout",
     "output_type": "stream",
     "text": [
      "R-squared Score: 0.8647351460867223\n",
      "Execution Time: 1.9993800999363884 seconds\n"
     ]
    }
   ],
   "source": [
    "knn_r2 = r2_score(y_test, y_pred)\n",
    "print(\"R-squared Score:\", knn_r2)\n",
    "knn_toc = timeit.default_timer()-knn_tic\n",
    "print(\"Execution Time:\", knn_toc , \"seconds\")"
   ]
  },
  {
   "cell_type": "markdown",
   "id": "c28a11d9-8dcf-49e7-b113-c843c8b0dfd7",
   "metadata": {},
   "source": [
    "# STOCASTIC GRADIENT DESCENT REGERESSOR\n"
   ]
  },
  {
   "cell_type": "markdown",
   "id": "130d1401-5c6c-4f0b-9ebe-5e75ba374ab3",
   "metadata": {},
   "source": [
    "STOCHASTIC GRADIENT DESCENT (SGD) REGRESSOR IS A VARIANT OF THE TRADITIONAL GRADIENT DESCENT OPTIMIZATION ALGORITHM COMMONLY USED FOR TRAINING MACHINE LEARNING MODELS, PARTICULARLY FOR REGRESSION TASKS."
   ]
  },
  {
   "cell_type": "markdown",
   "id": "1368ff6a-6ced-4ccf-8547-7e7625688bc2",
   "metadata": {},
   "source": [
    "##  FEATURE EXTRACTION AND DEFINING TARGET"
   ]
  },
  {
   "cell_type": "markdown",
   "id": "fea9c754-e80d-42ff-b066-81e1699bbfac",
   "metadata": {},
   "source": [
    "THIS CODE IMPORTS MODULES FROM SCIKIT-LEARN, PREPARES FEATURES (X) AND TARGET (Y) VARIABLES FROM A DATAFRAME, AND SETS UP A TIMER (TIC) FOR EXECUTION TIME MEASUREMENT."
   ]
  },
  {
   "cell_type": "code",
   "execution_count": 23,
   "id": "fc89afad-14ee-4cc5-8637-d2127a1d86f5",
   "metadata": {},
   "outputs": [],
   "source": [
    "from sklearn.model_selection import train_test_split\n",
    "from sklearn.preprocessing import StandardScaler\n",
    "from sklearn.linear_model import SGDRegressor\n",
    "from sklearn.pipeline import make_pipeline\n",
    "from sklearn.metrics import mean_squared_error, mean_absolute_error, r2_score\n",
    "import timeit\n",
    "\n",
    "sgd_tic = timeit.default_timer()\n",
    "X = df[['Completion_Rate_Primary_Male', 'Completion_Rate_Primary_Female',\n",
    "        'Completion_Rate_Lower_Secondary_Male', 'Completion_Rate_Lower_Secondary_Female',\n",
    "        'Completion_Rate_Upper_Secondary_Male', 'Primary_End_Proficiency_Math',\n",
    "        'Youth_15_24_Literacy_Rate_Male', 'Youth_15_24_Literacy_Rate_Female', 'Unemployment_Rate']].values\n",
    "y = df['Completion_Rate_Upper_Secondary_Female']  "
   ]
  },
  {
   "cell_type": "markdown",
   "id": "05c88572-93dc-4352-96bc-07ddbc808496",
   "metadata": {},
   "source": [
    "## INITIALIZING MODEL"
   ]
  },
  {
   "cell_type": "markdown",
   "id": "1c5795cd-1032-44aa-8bf3-2fc81eea3237",
   "metadata": {},
   "source": [
    "THIS CODE SPLITS THE DATA INTO TRAINING AND TESTING SETS USING TRAIN_TEST_SPLIT FUNCTION. THEN, IT INITIALIZES AN SGDREGRESSOR MODEL WITH A PIPELINE THAT INCLUDES STANDARDSCALER FOR FEATURE SCALING. FINALLY, IT FITS THE MODEL TO THE TRAINING DATA."
   ]
  },
  {
   "cell_type": "code",
   "execution_count": 24,
   "id": "6e6d69dc-1b35-4b18-b967-b3c799f6b74b",
   "metadata": {},
   "outputs": [
    {
     "data": {
      "text/html": [
       "<style>#sk-container-id-2 {\n",
       "  /* Definition of color scheme common for light and dark mode */\n",
       "  --sklearn-color-text: black;\n",
       "  --sklearn-color-line: gray;\n",
       "  /* Definition of color scheme for unfitted estimators */\n",
       "  --sklearn-color-unfitted-level-0: #fff5e6;\n",
       "  --sklearn-color-unfitted-level-1: #f6e4d2;\n",
       "  --sklearn-color-unfitted-level-2: #ffe0b3;\n",
       "  --sklearn-color-unfitted-level-3: chocolate;\n",
       "  /* Definition of color scheme for fitted estimators */\n",
       "  --sklearn-color-fitted-level-0: #f0f8ff;\n",
       "  --sklearn-color-fitted-level-1: #d4ebff;\n",
       "  --sklearn-color-fitted-level-2: #b3dbfd;\n",
       "  --sklearn-color-fitted-level-3: cornflowerblue;\n",
       "\n",
       "  /* Specific color for light theme */\n",
       "  --sklearn-color-text-on-default-background: var(--sg-text-color, var(--theme-code-foreground, var(--jp-content-font-color1, black)));\n",
       "  --sklearn-color-background: var(--sg-background-color, var(--theme-background, var(--jp-layout-color0, white)));\n",
       "  --sklearn-color-border-box: var(--sg-text-color, var(--theme-code-foreground, var(--jp-content-font-color1, black)));\n",
       "  --sklearn-color-icon: #696969;\n",
       "\n",
       "  @media (prefers-color-scheme: dark) {\n",
       "    /* Redefinition of color scheme for dark theme */\n",
       "    --sklearn-color-text-on-default-background: var(--sg-text-color, var(--theme-code-foreground, var(--jp-content-font-color1, white)));\n",
       "    --sklearn-color-background: var(--sg-background-color, var(--theme-background, var(--jp-layout-color0, #111)));\n",
       "    --sklearn-color-border-box: var(--sg-text-color, var(--theme-code-foreground, var(--jp-content-font-color1, white)));\n",
       "    --sklearn-color-icon: #878787;\n",
       "  }\n",
       "}\n",
       "\n",
       "#sk-container-id-2 {\n",
       "  color: var(--sklearn-color-text);\n",
       "}\n",
       "\n",
       "#sk-container-id-2 pre {\n",
       "  padding: 0;\n",
       "}\n",
       "\n",
       "#sk-container-id-2 input.sk-hidden--visually {\n",
       "  border: 0;\n",
       "  clip: rect(1px 1px 1px 1px);\n",
       "  clip: rect(1px, 1px, 1px, 1px);\n",
       "  height: 1px;\n",
       "  margin: -1px;\n",
       "  overflow: hidden;\n",
       "  padding: 0;\n",
       "  position: absolute;\n",
       "  width: 1px;\n",
       "}\n",
       "\n",
       "#sk-container-id-2 div.sk-dashed-wrapped {\n",
       "  border: 1px dashed var(--sklearn-color-line);\n",
       "  margin: 0 0.4em 0.5em 0.4em;\n",
       "  box-sizing: border-box;\n",
       "  padding-bottom: 0.4em;\n",
       "  background-color: var(--sklearn-color-background);\n",
       "}\n",
       "\n",
       "#sk-container-id-2 div.sk-container {\n",
       "  /* jupyter's `normalize.less` sets `[hidden] { display: none; }`\n",
       "     but bootstrap.min.css set `[hidden] { display: none !important; }`\n",
       "     so we also need the `!important` here to be able to override the\n",
       "     default hidden behavior on the sphinx rendered scikit-learn.org.\n",
       "     See: https://github.com/scikit-learn/scikit-learn/issues/21755 */\n",
       "  display: inline-block !important;\n",
       "  position: relative;\n",
       "}\n",
       "\n",
       "#sk-container-id-2 div.sk-text-repr-fallback {\n",
       "  display: none;\n",
       "}\n",
       "\n",
       "div.sk-parallel-item,\n",
       "div.sk-serial,\n",
       "div.sk-item {\n",
       "  /* draw centered vertical line to link estimators */\n",
       "  background-image: linear-gradient(var(--sklearn-color-text-on-default-background), var(--sklearn-color-text-on-default-background));\n",
       "  background-size: 2px 100%;\n",
       "  background-repeat: no-repeat;\n",
       "  background-position: center center;\n",
       "}\n",
       "\n",
       "/* Parallel-specific style estimator block */\n",
       "\n",
       "#sk-container-id-2 div.sk-parallel-item::after {\n",
       "  content: \"\";\n",
       "  width: 100%;\n",
       "  border-bottom: 2px solid var(--sklearn-color-text-on-default-background);\n",
       "  flex-grow: 1;\n",
       "}\n",
       "\n",
       "#sk-container-id-2 div.sk-parallel {\n",
       "  display: flex;\n",
       "  align-items: stretch;\n",
       "  justify-content: center;\n",
       "  background-color: var(--sklearn-color-background);\n",
       "  position: relative;\n",
       "}\n",
       "\n",
       "#sk-container-id-2 div.sk-parallel-item {\n",
       "  display: flex;\n",
       "  flex-direction: column;\n",
       "}\n",
       "\n",
       "#sk-container-id-2 div.sk-parallel-item:first-child::after {\n",
       "  align-self: flex-end;\n",
       "  width: 50%;\n",
       "}\n",
       "\n",
       "#sk-container-id-2 div.sk-parallel-item:last-child::after {\n",
       "  align-self: flex-start;\n",
       "  width: 50%;\n",
       "}\n",
       "\n",
       "#sk-container-id-2 div.sk-parallel-item:only-child::after {\n",
       "  width: 0;\n",
       "}\n",
       "\n",
       "/* Serial-specific style estimator block */\n",
       "\n",
       "#sk-container-id-2 div.sk-serial {\n",
       "  display: flex;\n",
       "  flex-direction: column;\n",
       "  align-items: center;\n",
       "  background-color: var(--sklearn-color-background);\n",
       "  padding-right: 1em;\n",
       "  padding-left: 1em;\n",
       "}\n",
       "\n",
       "\n",
       "/* Toggleable style: style used for estimator/Pipeline/ColumnTransformer box that is\n",
       "clickable and can be expanded/collapsed.\n",
       "- Pipeline and ColumnTransformer use this feature and define the default style\n",
       "- Estimators will overwrite some part of the style using the `sk-estimator` class\n",
       "*/\n",
       "\n",
       "/* Pipeline and ColumnTransformer style (default) */\n",
       "\n",
       "#sk-container-id-2 div.sk-toggleable {\n",
       "  /* Default theme specific background. It is overwritten whether we have a\n",
       "  specific estimator or a Pipeline/ColumnTransformer */\n",
       "  background-color: var(--sklearn-color-background);\n",
       "}\n",
       "\n",
       "/* Toggleable label */\n",
       "#sk-container-id-2 label.sk-toggleable__label {\n",
       "  cursor: pointer;\n",
       "  display: block;\n",
       "  width: 100%;\n",
       "  margin-bottom: 0;\n",
       "  padding: 0.5em;\n",
       "  box-sizing: border-box;\n",
       "  text-align: center;\n",
       "}\n",
       "\n",
       "#sk-container-id-2 label.sk-toggleable__label-arrow:before {\n",
       "  /* Arrow on the left of the label */\n",
       "  content: \"▸\";\n",
       "  float: left;\n",
       "  margin-right: 0.25em;\n",
       "  color: var(--sklearn-color-icon);\n",
       "}\n",
       "\n",
       "#sk-container-id-2 label.sk-toggleable__label-arrow:hover:before {\n",
       "  color: var(--sklearn-color-text);\n",
       "}\n",
       "\n",
       "/* Toggleable content - dropdown */\n",
       "\n",
       "#sk-container-id-2 div.sk-toggleable__content {\n",
       "  max-height: 0;\n",
       "  max-width: 0;\n",
       "  overflow: hidden;\n",
       "  text-align: left;\n",
       "  /* unfitted */\n",
       "  background-color: var(--sklearn-color-unfitted-level-0);\n",
       "}\n",
       "\n",
       "#sk-container-id-2 div.sk-toggleable__content.fitted {\n",
       "  /* fitted */\n",
       "  background-color: var(--sklearn-color-fitted-level-0);\n",
       "}\n",
       "\n",
       "#sk-container-id-2 div.sk-toggleable__content pre {\n",
       "  margin: 0.2em;\n",
       "  border-radius: 0.25em;\n",
       "  color: var(--sklearn-color-text);\n",
       "  /* unfitted */\n",
       "  background-color: var(--sklearn-color-unfitted-level-0);\n",
       "}\n",
       "\n",
       "#sk-container-id-2 div.sk-toggleable__content.fitted pre {\n",
       "  /* unfitted */\n",
       "  background-color: var(--sklearn-color-fitted-level-0);\n",
       "}\n",
       "\n",
       "#sk-container-id-2 input.sk-toggleable__control:checked~div.sk-toggleable__content {\n",
       "  /* Expand drop-down */\n",
       "  max-height: 200px;\n",
       "  max-width: 100%;\n",
       "  overflow: auto;\n",
       "}\n",
       "\n",
       "#sk-container-id-2 input.sk-toggleable__control:checked~label.sk-toggleable__label-arrow:before {\n",
       "  content: \"▾\";\n",
       "}\n",
       "\n",
       "/* Pipeline/ColumnTransformer-specific style */\n",
       "\n",
       "#sk-container-id-2 div.sk-label input.sk-toggleable__control:checked~label.sk-toggleable__label {\n",
       "  color: var(--sklearn-color-text);\n",
       "  background-color: var(--sklearn-color-unfitted-level-2);\n",
       "}\n",
       "\n",
       "#sk-container-id-2 div.sk-label.fitted input.sk-toggleable__control:checked~label.sk-toggleable__label {\n",
       "  background-color: var(--sklearn-color-fitted-level-2);\n",
       "}\n",
       "\n",
       "/* Estimator-specific style */\n",
       "\n",
       "/* Colorize estimator box */\n",
       "#sk-container-id-2 div.sk-estimator input.sk-toggleable__control:checked~label.sk-toggleable__label {\n",
       "  /* unfitted */\n",
       "  background-color: var(--sklearn-color-unfitted-level-2);\n",
       "}\n",
       "\n",
       "#sk-container-id-2 div.sk-estimator.fitted input.sk-toggleable__control:checked~label.sk-toggleable__label {\n",
       "  /* fitted */\n",
       "  background-color: var(--sklearn-color-fitted-level-2);\n",
       "}\n",
       "\n",
       "#sk-container-id-2 div.sk-label label.sk-toggleable__label,\n",
       "#sk-container-id-2 div.sk-label label {\n",
       "  /* The background is the default theme color */\n",
       "  color: var(--sklearn-color-text-on-default-background);\n",
       "}\n",
       "\n",
       "/* On hover, darken the color of the background */\n",
       "#sk-container-id-2 div.sk-label:hover label.sk-toggleable__label {\n",
       "  color: var(--sklearn-color-text);\n",
       "  background-color: var(--sklearn-color-unfitted-level-2);\n",
       "}\n",
       "\n",
       "/* Label box, darken color on hover, fitted */\n",
       "#sk-container-id-2 div.sk-label.fitted:hover label.sk-toggleable__label.fitted {\n",
       "  color: var(--sklearn-color-text);\n",
       "  background-color: var(--sklearn-color-fitted-level-2);\n",
       "}\n",
       "\n",
       "/* Estimator label */\n",
       "\n",
       "#sk-container-id-2 div.sk-label label {\n",
       "  font-family: monospace;\n",
       "  font-weight: bold;\n",
       "  display: inline-block;\n",
       "  line-height: 1.2em;\n",
       "}\n",
       "\n",
       "#sk-container-id-2 div.sk-label-container {\n",
       "  text-align: center;\n",
       "}\n",
       "\n",
       "/* Estimator-specific */\n",
       "#sk-container-id-2 div.sk-estimator {\n",
       "  font-family: monospace;\n",
       "  border: 1px dotted var(--sklearn-color-border-box);\n",
       "  border-radius: 0.25em;\n",
       "  box-sizing: border-box;\n",
       "  margin-bottom: 0.5em;\n",
       "  /* unfitted */\n",
       "  background-color: var(--sklearn-color-unfitted-level-0);\n",
       "}\n",
       "\n",
       "#sk-container-id-2 div.sk-estimator.fitted {\n",
       "  /* fitted */\n",
       "  background-color: var(--sklearn-color-fitted-level-0);\n",
       "}\n",
       "\n",
       "/* on hover */\n",
       "#sk-container-id-2 div.sk-estimator:hover {\n",
       "  /* unfitted */\n",
       "  background-color: var(--sklearn-color-unfitted-level-2);\n",
       "}\n",
       "\n",
       "#sk-container-id-2 div.sk-estimator.fitted:hover {\n",
       "  /* fitted */\n",
       "  background-color: var(--sklearn-color-fitted-level-2);\n",
       "}\n",
       "\n",
       "/* Specification for estimator info (e.g. \"i\" and \"?\") */\n",
       "\n",
       "/* Common style for \"i\" and \"?\" */\n",
       "\n",
       ".sk-estimator-doc-link,\n",
       "a:link.sk-estimator-doc-link,\n",
       "a:visited.sk-estimator-doc-link {\n",
       "  float: right;\n",
       "  font-size: smaller;\n",
       "  line-height: 1em;\n",
       "  font-family: monospace;\n",
       "  background-color: var(--sklearn-color-background);\n",
       "  border-radius: 1em;\n",
       "  height: 1em;\n",
       "  width: 1em;\n",
       "  text-decoration: none !important;\n",
       "  margin-left: 1ex;\n",
       "  /* unfitted */\n",
       "  border: var(--sklearn-color-unfitted-level-1) 1pt solid;\n",
       "  color: var(--sklearn-color-unfitted-level-1);\n",
       "}\n",
       "\n",
       ".sk-estimator-doc-link.fitted,\n",
       "a:link.sk-estimator-doc-link.fitted,\n",
       "a:visited.sk-estimator-doc-link.fitted {\n",
       "  /* fitted */\n",
       "  border: var(--sklearn-color-fitted-level-1) 1pt solid;\n",
       "  color: var(--sklearn-color-fitted-level-1);\n",
       "}\n",
       "\n",
       "/* On hover */\n",
       "div.sk-estimator:hover .sk-estimator-doc-link:hover,\n",
       ".sk-estimator-doc-link:hover,\n",
       "div.sk-label-container:hover .sk-estimator-doc-link:hover,\n",
       ".sk-estimator-doc-link:hover {\n",
       "  /* unfitted */\n",
       "  background-color: var(--sklearn-color-unfitted-level-3);\n",
       "  color: var(--sklearn-color-background);\n",
       "  text-decoration: none;\n",
       "}\n",
       "\n",
       "div.sk-estimator.fitted:hover .sk-estimator-doc-link.fitted:hover,\n",
       ".sk-estimator-doc-link.fitted:hover,\n",
       "div.sk-label-container:hover .sk-estimator-doc-link.fitted:hover,\n",
       ".sk-estimator-doc-link.fitted:hover {\n",
       "  /* fitted */\n",
       "  background-color: var(--sklearn-color-fitted-level-3);\n",
       "  color: var(--sklearn-color-background);\n",
       "  text-decoration: none;\n",
       "}\n",
       "\n",
       "/* Span, style for the box shown on hovering the info icon */\n",
       ".sk-estimator-doc-link span {\n",
       "  display: none;\n",
       "  z-index: 9999;\n",
       "  position: relative;\n",
       "  font-weight: normal;\n",
       "  right: .2ex;\n",
       "  padding: .5ex;\n",
       "  margin: .5ex;\n",
       "  width: min-content;\n",
       "  min-width: 20ex;\n",
       "  max-width: 50ex;\n",
       "  color: var(--sklearn-color-text);\n",
       "  box-shadow: 2pt 2pt 4pt #999;\n",
       "  /* unfitted */\n",
       "  background: var(--sklearn-color-unfitted-level-0);\n",
       "  border: .5pt solid var(--sklearn-color-unfitted-level-3);\n",
       "}\n",
       "\n",
       ".sk-estimator-doc-link.fitted span {\n",
       "  /* fitted */\n",
       "  background: var(--sklearn-color-fitted-level-0);\n",
       "  border: var(--sklearn-color-fitted-level-3);\n",
       "}\n",
       "\n",
       ".sk-estimator-doc-link:hover span {\n",
       "  display: block;\n",
       "}\n",
       "\n",
       "/* \"?\"-specific style due to the `<a>` HTML tag */\n",
       "\n",
       "#sk-container-id-2 a.estimator_doc_link {\n",
       "  float: right;\n",
       "  font-size: 1rem;\n",
       "  line-height: 1em;\n",
       "  font-family: monospace;\n",
       "  background-color: var(--sklearn-color-background);\n",
       "  border-radius: 1rem;\n",
       "  height: 1rem;\n",
       "  width: 1rem;\n",
       "  text-decoration: none;\n",
       "  /* unfitted */\n",
       "  color: var(--sklearn-color-unfitted-level-1);\n",
       "  border: var(--sklearn-color-unfitted-level-1) 1pt solid;\n",
       "}\n",
       "\n",
       "#sk-container-id-2 a.estimator_doc_link.fitted {\n",
       "  /* fitted */\n",
       "  border: var(--sklearn-color-fitted-level-1) 1pt solid;\n",
       "  color: var(--sklearn-color-fitted-level-1);\n",
       "}\n",
       "\n",
       "/* On hover */\n",
       "#sk-container-id-2 a.estimator_doc_link:hover {\n",
       "  /* unfitted */\n",
       "  background-color: var(--sklearn-color-unfitted-level-3);\n",
       "  color: var(--sklearn-color-background);\n",
       "  text-decoration: none;\n",
       "}\n",
       "\n",
       "#sk-container-id-2 a.estimator_doc_link.fitted:hover {\n",
       "  /* fitted */\n",
       "  background-color: var(--sklearn-color-fitted-level-3);\n",
       "}\n",
       "</style><div id=\"sk-container-id-2\" class=\"sk-top-container\"><div class=\"sk-text-repr-fallback\"><pre>Pipeline(steps=[(&#x27;standardscaler&#x27;, StandardScaler()),\n",
       "                (&#x27;sgdregressor&#x27;, SGDRegressor())])</pre><b>In a Jupyter environment, please rerun this cell to show the HTML representation or trust the notebook. <br />On GitHub, the HTML representation is unable to render, please try loading this page with nbviewer.org.</b></div><div class=\"sk-container\" hidden><div class=\"sk-item sk-dashed-wrapped\"><div class=\"sk-label-container\"><div class=\"sk-label fitted sk-toggleable\"><input class=\"sk-toggleable__control sk-hidden--visually\" id=\"sk-estimator-id-2\" type=\"checkbox\" ><label for=\"sk-estimator-id-2\" class=\"sk-toggleable__label fitted sk-toggleable__label-arrow fitted\">&nbsp;&nbsp;Pipeline<a class=\"sk-estimator-doc-link fitted\" rel=\"noreferrer\" target=\"_blank\" href=\"https://scikit-learn.org/1.4/modules/generated/sklearn.pipeline.Pipeline.html\">?<span>Documentation for Pipeline</span></a><span class=\"sk-estimator-doc-link fitted\">i<span>Fitted</span></span></label><div class=\"sk-toggleable__content fitted\"><pre>Pipeline(steps=[(&#x27;standardscaler&#x27;, StandardScaler()),\n",
       "                (&#x27;sgdregressor&#x27;, SGDRegressor())])</pre></div> </div></div><div class=\"sk-serial\"><div class=\"sk-item\"><div class=\"sk-estimator fitted sk-toggleable\"><input class=\"sk-toggleable__control sk-hidden--visually\" id=\"sk-estimator-id-3\" type=\"checkbox\" ><label for=\"sk-estimator-id-3\" class=\"sk-toggleable__label fitted sk-toggleable__label-arrow fitted\">&nbsp;StandardScaler<a class=\"sk-estimator-doc-link fitted\" rel=\"noreferrer\" target=\"_blank\" href=\"https://scikit-learn.org/1.4/modules/generated/sklearn.preprocessing.StandardScaler.html\">?<span>Documentation for StandardScaler</span></a></label><div class=\"sk-toggleable__content fitted\"><pre>StandardScaler()</pre></div> </div></div><div class=\"sk-item\"><div class=\"sk-estimator fitted sk-toggleable\"><input class=\"sk-toggleable__control sk-hidden--visually\" id=\"sk-estimator-id-4\" type=\"checkbox\" ><label for=\"sk-estimator-id-4\" class=\"sk-toggleable__label fitted sk-toggleable__label-arrow fitted\">&nbsp;SGDRegressor<a class=\"sk-estimator-doc-link fitted\" rel=\"noreferrer\" target=\"_blank\" href=\"https://scikit-learn.org/1.4/modules/generated/sklearn.linear_model.SGDRegressor.html\">?<span>Documentation for SGDRegressor</span></a></label><div class=\"sk-toggleable__content fitted\"><pre>SGDRegressor()</pre></div> </div></div></div></div></div></div>"
      ],
      "text/plain": [
       "Pipeline(steps=[('standardscaler', StandardScaler()),\n",
       "                ('sgdregressor', SGDRegressor())])"
      ]
     },
     "execution_count": 24,
     "metadata": {},
     "output_type": "execute_result"
    }
   ],
   "source": [
    "# Split the data into training and testing sets\n",
    "X_train, X_test, y_train, y_test = train_test_split(X, y, test_size=0.2, random_state=42)\n",
    "\n",
    "# Initialize and train the SGDRegressor model with pipeline\n",
    "model = make_pipeline(StandardScaler(), SGDRegressor())\n",
    "model.fit(X_train, y_train)"
   ]
  },
  {
   "cell_type": "markdown",
   "id": "fc34180d-be84-4f03-a7d0-3e1dc8f38f3c",
   "metadata": {},
   "source": [
    "## MEAN ABSOLUTE ERROR"
   ]
  },
  {
   "cell_type": "markdown",
   "id": "5fdb92b9-9edc-42c5-a69c-d9c4b28704e5",
   "metadata": {},
   "source": [
    "THIS CODE GENERATES PREDICTIONS ON THE TESTING SET USING THE TRAINED MODEL, AND THEN EVALUATES THE MODEL'S PERFORMANCE BY CALCULATING THE MEAN ABSOLUTE ERROR (MAE) BETWEEN THE PREDICTED AND ACTUAL VALUES. THE MAE VALUE IS THEN PRINTED OUT."
   ]
  },
  {
   "cell_type": "code",
   "execution_count": 25,
   "id": "31e61950-67eb-4be3-8632-0881f5ddbe78",
   "metadata": {},
   "outputs": [
    {
     "name": "stdout",
     "output_type": "stream",
     "text": [
      "Mean Absolute Error: 3.2444122801281474\n"
     ]
    }
   ],
   "source": [
    "# Predictions on the testing set\n",
    "y_pred = model.predict(X_test)\n",
    "\n",
    "# Evaluate the model\n",
    "sgd_mae = mean_absolute_error(y_test, y_pred)\n",
    "print(\"Mean Absolute Error:\", sgd_mae)"
   ]
  },
  {
   "cell_type": "markdown",
   "id": "889f9e89-bf37-4c7b-ad1a-d93d87d9b212",
   "metadata": {},
   "source": [
    "## MEAN SQUARED ERROR"
   ]
  },
  {
   "cell_type": "markdown",
   "id": "0e0a995c-f334-4983-b873-e9a6fa294f77",
   "metadata": {},
   "source": [
    "THIS CODE CALCULATES THE MEAN SQUARED ERROR (MSE) BETWEEN THE PREDICTED AND ACTUAL VALUES OF THE TESTING SET, USING THE MEAN_SQUARED_ERROR FUNCTION FROM SCIKIT-LEARN. THE MSE VALUE IS THEN PRINTED OUT."
   ]
  },
  {
   "cell_type": "code",
   "execution_count": 26,
   "id": "4fba25ba-1e7b-44e7-a46b-71268c50c0c4",
   "metadata": {},
   "outputs": [
    {
     "name": "stdout",
     "output_type": "stream",
     "text": [
      "Mean Squared Error: 25.303288264298573\n"
     ]
    }
   ],
   "source": [
    "sgd_mse = mean_squared_error(y_test, y_pred)\n",
    "print(\"Mean Squared Error:\", sgd_mse)"
   ]
  },
  {
   "cell_type": "markdown",
   "id": "7f559fa6-d6ec-4e6a-bd9e-99f51b967af9",
   "metadata": {},
   "source": [
    "## R-SQUARED ERROR"
   ]
  },
  {
   "cell_type": "markdown",
   "id": "5b7dae9e-8277-427f-b992-961ad6e02914",
   "metadata": {},
   "source": [
    "THIS CODE CALCULATES THE R-SQUARED SCORE BETWEEN THE PREDICTED AND ACTUAL VALUES OF THE TESTING SET, AND PRINTS IT OUT ALONG WITH THE EXECUTION TIME."
   ]
  },
  {
   "cell_type": "code",
   "execution_count": 27,
   "id": "99ae7323-4448-405b-850e-170d28bdc63a",
   "metadata": {},
   "outputs": [
    {
     "name": "stdout",
     "output_type": "stream",
     "text": [
      "R-squared Score: 0.9727286655859267\n",
      "Execution Time: 0.0869181000161916 seconds\n"
     ]
    }
   ],
   "source": [
    "sgd_r2 = r2_score(y_test, y_pred)\n",
    "print(\"R-squared Score:\", sgd_r2)\n",
    "\n",
    "sgd_toc = timeit.default_timer()-sgd_tic\n",
    "print(\"Execution Time:\", sgd_toc, \"seconds\")"
   ]
  },
  {
   "cell_type": "markdown",
   "id": "def500eb-92dc-455f-bbcd-18c676b753cf",
   "metadata": {},
   "source": [
    "# STEP-3\n",
    "# DECISION TREE REGRESSOR"
   ]
  },
  {
   "cell_type": "markdown",
   "id": "f7bc184c-ab17-458e-81a1-236c3d0a19d5",
   "metadata": {},
   "source": [
    "THE DECISION TREE REGRESSOR IS A MACHINE LEARNING ALGORITHM USED FOR REGRESSION TASKS. IT BUILDS A DECISION TREE MODEL THAT PREDICTS THE TARGET VARIABLE BY LEARNING SIMPLE DECISION RULES INFERRED FROM THE DATA FEATURES."
   ]
  },
  {
   "cell_type": "markdown",
   "id": "b833f2c2-c098-44f5-957d-212032e3ac08",
   "metadata": {},
   "source": [
    "## FEATURE EXTRACTION AND DEFINING TARGET"
   ]
  },
  {
   "cell_type": "markdown",
   "id": "272afa72-724d-41f8-b170-b78658ee6485",
   "metadata": {},
   "source": [
    "THIS CODE IMPORTS NECESSARY MODULES FROM SCIKIT-LEARN AND SETS UP VARIABLES X AND Y USING SPECIFIC COLUMNS FROM A DATAFRAME. THE FEATURES (X) CONSIST OF SELECTED EDUCATIONAL AND EMPLOYMENT METRICS, AND THE TARGET VARIABLE (Y) IS THE COMPLETION RATE FOR UPPER SECONDARY EDUCATION AMONG FEMALES."
   ]
  },
  {
   "cell_type": "code",
   "execution_count": 28,
   "id": "ea4cc18a-d7ec-4b8c-8411-af9e5208a822",
   "metadata": {},
   "outputs": [],
   "source": [
    "from sklearn.compose import ColumnTransformer\n",
    "from sklearn.preprocessing import StandardScaler, OneHotEncoder\n",
    "from sklearn.model_selection import train_test_split\n",
    "from sklearn.tree import DecisionTreeRegressor\n",
    "from sklearn.metrics import mean_squared_error, mean_absolute_error, r2_score\n",
    "import pandas as pd\n",
    "import timeit\n",
    "dtr_tic = timeit.default_timer()\n",
    "X = df[['Completion_Rate_Primary_Male', 'Completion_Rate_Primary_Female',\n",
    "        'Completion_Rate_Lower_Secondary_Male', 'Completion_Rate_Lower_Secondary_Female',\n",
    "        'Completion_Rate_Upper_Secondary_Male', 'Primary_End_Proficiency_Math',\n",
    "        'Youth_15_24_Literacy_Rate_Male', 'Youth_15_24_Literacy_Rate_Female', 'Unemployment_Rate']]\n",
    "y = df['Completion_Rate_Upper_Secondary_Female'] "
   ]
  },
  {
   "cell_type": "markdown",
   "id": "b4f738fe-7a26-4233-8dd9-8c08485dde07",
   "metadata": {},
   "source": [
    "## INITIALIZING MODEL"
   ]
  },
  {
   "cell_type": "markdown",
   "id": "49411017-d0c3-4527-8ec4-c7997f2987b9",
   "metadata": {},
   "source": [
    "IT IDENTIFIES CATEGORICAL AND NUMERICAL COLUMNS IN THE FEATURES (X). THEN, IT DEFINES A PREPROCESSOR USING COLUMNTRANSFORMER TO SCALE NUMERICAL FEATURES AND ENCODE CATEGORICAL FEATURES. AFTER TRANSFORMING FEATURES, THE DATA IS SPLIT INTO TRAINING AND TESTING SETS. FINALLY, IT INITIALIZES AND TRAINS THE DECISION TREE REGRESSOR MODEL."
   ]
  },
  {
   "cell_type": "code",
   "execution_count": 29,
   "id": "d8087d96-b99c-43df-b374-9dd2192984c6",
   "metadata": {},
   "outputs": [
    {
     "data": {
      "text/html": [
       "<style>#sk-container-id-3 {\n",
       "  /* Definition of color scheme common for light and dark mode */\n",
       "  --sklearn-color-text: black;\n",
       "  --sklearn-color-line: gray;\n",
       "  /* Definition of color scheme for unfitted estimators */\n",
       "  --sklearn-color-unfitted-level-0: #fff5e6;\n",
       "  --sklearn-color-unfitted-level-1: #f6e4d2;\n",
       "  --sklearn-color-unfitted-level-2: #ffe0b3;\n",
       "  --sklearn-color-unfitted-level-3: chocolate;\n",
       "  /* Definition of color scheme for fitted estimators */\n",
       "  --sklearn-color-fitted-level-0: #f0f8ff;\n",
       "  --sklearn-color-fitted-level-1: #d4ebff;\n",
       "  --sklearn-color-fitted-level-2: #b3dbfd;\n",
       "  --sklearn-color-fitted-level-3: cornflowerblue;\n",
       "\n",
       "  /* Specific color for light theme */\n",
       "  --sklearn-color-text-on-default-background: var(--sg-text-color, var(--theme-code-foreground, var(--jp-content-font-color1, black)));\n",
       "  --sklearn-color-background: var(--sg-background-color, var(--theme-background, var(--jp-layout-color0, white)));\n",
       "  --sklearn-color-border-box: var(--sg-text-color, var(--theme-code-foreground, var(--jp-content-font-color1, black)));\n",
       "  --sklearn-color-icon: #696969;\n",
       "\n",
       "  @media (prefers-color-scheme: dark) {\n",
       "    /* Redefinition of color scheme for dark theme */\n",
       "    --sklearn-color-text-on-default-background: var(--sg-text-color, var(--theme-code-foreground, var(--jp-content-font-color1, white)));\n",
       "    --sklearn-color-background: var(--sg-background-color, var(--theme-background, var(--jp-layout-color0, #111)));\n",
       "    --sklearn-color-border-box: var(--sg-text-color, var(--theme-code-foreground, var(--jp-content-font-color1, white)));\n",
       "    --sklearn-color-icon: #878787;\n",
       "  }\n",
       "}\n",
       "\n",
       "#sk-container-id-3 {\n",
       "  color: var(--sklearn-color-text);\n",
       "}\n",
       "\n",
       "#sk-container-id-3 pre {\n",
       "  padding: 0;\n",
       "}\n",
       "\n",
       "#sk-container-id-3 input.sk-hidden--visually {\n",
       "  border: 0;\n",
       "  clip: rect(1px 1px 1px 1px);\n",
       "  clip: rect(1px, 1px, 1px, 1px);\n",
       "  height: 1px;\n",
       "  margin: -1px;\n",
       "  overflow: hidden;\n",
       "  padding: 0;\n",
       "  position: absolute;\n",
       "  width: 1px;\n",
       "}\n",
       "\n",
       "#sk-container-id-3 div.sk-dashed-wrapped {\n",
       "  border: 1px dashed var(--sklearn-color-line);\n",
       "  margin: 0 0.4em 0.5em 0.4em;\n",
       "  box-sizing: border-box;\n",
       "  padding-bottom: 0.4em;\n",
       "  background-color: var(--sklearn-color-background);\n",
       "}\n",
       "\n",
       "#sk-container-id-3 div.sk-container {\n",
       "  /* jupyter's `normalize.less` sets `[hidden] { display: none; }`\n",
       "     but bootstrap.min.css set `[hidden] { display: none !important; }`\n",
       "     so we also need the `!important` here to be able to override the\n",
       "     default hidden behavior on the sphinx rendered scikit-learn.org.\n",
       "     See: https://github.com/scikit-learn/scikit-learn/issues/21755 */\n",
       "  display: inline-block !important;\n",
       "  position: relative;\n",
       "}\n",
       "\n",
       "#sk-container-id-3 div.sk-text-repr-fallback {\n",
       "  display: none;\n",
       "}\n",
       "\n",
       "div.sk-parallel-item,\n",
       "div.sk-serial,\n",
       "div.sk-item {\n",
       "  /* draw centered vertical line to link estimators */\n",
       "  background-image: linear-gradient(var(--sklearn-color-text-on-default-background), var(--sklearn-color-text-on-default-background));\n",
       "  background-size: 2px 100%;\n",
       "  background-repeat: no-repeat;\n",
       "  background-position: center center;\n",
       "}\n",
       "\n",
       "/* Parallel-specific style estimator block */\n",
       "\n",
       "#sk-container-id-3 div.sk-parallel-item::after {\n",
       "  content: \"\";\n",
       "  width: 100%;\n",
       "  border-bottom: 2px solid var(--sklearn-color-text-on-default-background);\n",
       "  flex-grow: 1;\n",
       "}\n",
       "\n",
       "#sk-container-id-3 div.sk-parallel {\n",
       "  display: flex;\n",
       "  align-items: stretch;\n",
       "  justify-content: center;\n",
       "  background-color: var(--sklearn-color-background);\n",
       "  position: relative;\n",
       "}\n",
       "\n",
       "#sk-container-id-3 div.sk-parallel-item {\n",
       "  display: flex;\n",
       "  flex-direction: column;\n",
       "}\n",
       "\n",
       "#sk-container-id-3 div.sk-parallel-item:first-child::after {\n",
       "  align-self: flex-end;\n",
       "  width: 50%;\n",
       "}\n",
       "\n",
       "#sk-container-id-3 div.sk-parallel-item:last-child::after {\n",
       "  align-self: flex-start;\n",
       "  width: 50%;\n",
       "}\n",
       "\n",
       "#sk-container-id-3 div.sk-parallel-item:only-child::after {\n",
       "  width: 0;\n",
       "}\n",
       "\n",
       "/* Serial-specific style estimator block */\n",
       "\n",
       "#sk-container-id-3 div.sk-serial {\n",
       "  display: flex;\n",
       "  flex-direction: column;\n",
       "  align-items: center;\n",
       "  background-color: var(--sklearn-color-background);\n",
       "  padding-right: 1em;\n",
       "  padding-left: 1em;\n",
       "}\n",
       "\n",
       "\n",
       "/* Toggleable style: style used for estimator/Pipeline/ColumnTransformer box that is\n",
       "clickable and can be expanded/collapsed.\n",
       "- Pipeline and ColumnTransformer use this feature and define the default style\n",
       "- Estimators will overwrite some part of the style using the `sk-estimator` class\n",
       "*/\n",
       "\n",
       "/* Pipeline and ColumnTransformer style (default) */\n",
       "\n",
       "#sk-container-id-3 div.sk-toggleable {\n",
       "  /* Default theme specific background. It is overwritten whether we have a\n",
       "  specific estimator or a Pipeline/ColumnTransformer */\n",
       "  background-color: var(--sklearn-color-background);\n",
       "}\n",
       "\n",
       "/* Toggleable label */\n",
       "#sk-container-id-3 label.sk-toggleable__label {\n",
       "  cursor: pointer;\n",
       "  display: block;\n",
       "  width: 100%;\n",
       "  margin-bottom: 0;\n",
       "  padding: 0.5em;\n",
       "  box-sizing: border-box;\n",
       "  text-align: center;\n",
       "}\n",
       "\n",
       "#sk-container-id-3 label.sk-toggleable__label-arrow:before {\n",
       "  /* Arrow on the left of the label */\n",
       "  content: \"▸\";\n",
       "  float: left;\n",
       "  margin-right: 0.25em;\n",
       "  color: var(--sklearn-color-icon);\n",
       "}\n",
       "\n",
       "#sk-container-id-3 label.sk-toggleable__label-arrow:hover:before {\n",
       "  color: var(--sklearn-color-text);\n",
       "}\n",
       "\n",
       "/* Toggleable content - dropdown */\n",
       "\n",
       "#sk-container-id-3 div.sk-toggleable__content {\n",
       "  max-height: 0;\n",
       "  max-width: 0;\n",
       "  overflow: hidden;\n",
       "  text-align: left;\n",
       "  /* unfitted */\n",
       "  background-color: var(--sklearn-color-unfitted-level-0);\n",
       "}\n",
       "\n",
       "#sk-container-id-3 div.sk-toggleable__content.fitted {\n",
       "  /* fitted */\n",
       "  background-color: var(--sklearn-color-fitted-level-0);\n",
       "}\n",
       "\n",
       "#sk-container-id-3 div.sk-toggleable__content pre {\n",
       "  margin: 0.2em;\n",
       "  border-radius: 0.25em;\n",
       "  color: var(--sklearn-color-text);\n",
       "  /* unfitted */\n",
       "  background-color: var(--sklearn-color-unfitted-level-0);\n",
       "}\n",
       "\n",
       "#sk-container-id-3 div.sk-toggleable__content.fitted pre {\n",
       "  /* unfitted */\n",
       "  background-color: var(--sklearn-color-fitted-level-0);\n",
       "}\n",
       "\n",
       "#sk-container-id-3 input.sk-toggleable__control:checked~div.sk-toggleable__content {\n",
       "  /* Expand drop-down */\n",
       "  max-height: 200px;\n",
       "  max-width: 100%;\n",
       "  overflow: auto;\n",
       "}\n",
       "\n",
       "#sk-container-id-3 input.sk-toggleable__control:checked~label.sk-toggleable__label-arrow:before {\n",
       "  content: \"▾\";\n",
       "}\n",
       "\n",
       "/* Pipeline/ColumnTransformer-specific style */\n",
       "\n",
       "#sk-container-id-3 div.sk-label input.sk-toggleable__control:checked~label.sk-toggleable__label {\n",
       "  color: var(--sklearn-color-text);\n",
       "  background-color: var(--sklearn-color-unfitted-level-2);\n",
       "}\n",
       "\n",
       "#sk-container-id-3 div.sk-label.fitted input.sk-toggleable__control:checked~label.sk-toggleable__label {\n",
       "  background-color: var(--sklearn-color-fitted-level-2);\n",
       "}\n",
       "\n",
       "/* Estimator-specific style */\n",
       "\n",
       "/* Colorize estimator box */\n",
       "#sk-container-id-3 div.sk-estimator input.sk-toggleable__control:checked~label.sk-toggleable__label {\n",
       "  /* unfitted */\n",
       "  background-color: var(--sklearn-color-unfitted-level-2);\n",
       "}\n",
       "\n",
       "#sk-container-id-3 div.sk-estimator.fitted input.sk-toggleable__control:checked~label.sk-toggleable__label {\n",
       "  /* fitted */\n",
       "  background-color: var(--sklearn-color-fitted-level-2);\n",
       "}\n",
       "\n",
       "#sk-container-id-3 div.sk-label label.sk-toggleable__label,\n",
       "#sk-container-id-3 div.sk-label label {\n",
       "  /* The background is the default theme color */\n",
       "  color: var(--sklearn-color-text-on-default-background);\n",
       "}\n",
       "\n",
       "/* On hover, darken the color of the background */\n",
       "#sk-container-id-3 div.sk-label:hover label.sk-toggleable__label {\n",
       "  color: var(--sklearn-color-text);\n",
       "  background-color: var(--sklearn-color-unfitted-level-2);\n",
       "}\n",
       "\n",
       "/* Label box, darken color on hover, fitted */\n",
       "#sk-container-id-3 div.sk-label.fitted:hover label.sk-toggleable__label.fitted {\n",
       "  color: var(--sklearn-color-text);\n",
       "  background-color: var(--sklearn-color-fitted-level-2);\n",
       "}\n",
       "\n",
       "/* Estimator label */\n",
       "\n",
       "#sk-container-id-3 div.sk-label label {\n",
       "  font-family: monospace;\n",
       "  font-weight: bold;\n",
       "  display: inline-block;\n",
       "  line-height: 1.2em;\n",
       "}\n",
       "\n",
       "#sk-container-id-3 div.sk-label-container {\n",
       "  text-align: center;\n",
       "}\n",
       "\n",
       "/* Estimator-specific */\n",
       "#sk-container-id-3 div.sk-estimator {\n",
       "  font-family: monospace;\n",
       "  border: 1px dotted var(--sklearn-color-border-box);\n",
       "  border-radius: 0.25em;\n",
       "  box-sizing: border-box;\n",
       "  margin-bottom: 0.5em;\n",
       "  /* unfitted */\n",
       "  background-color: var(--sklearn-color-unfitted-level-0);\n",
       "}\n",
       "\n",
       "#sk-container-id-3 div.sk-estimator.fitted {\n",
       "  /* fitted */\n",
       "  background-color: var(--sklearn-color-fitted-level-0);\n",
       "}\n",
       "\n",
       "/* on hover */\n",
       "#sk-container-id-3 div.sk-estimator:hover {\n",
       "  /* unfitted */\n",
       "  background-color: var(--sklearn-color-unfitted-level-2);\n",
       "}\n",
       "\n",
       "#sk-container-id-3 div.sk-estimator.fitted:hover {\n",
       "  /* fitted */\n",
       "  background-color: var(--sklearn-color-fitted-level-2);\n",
       "}\n",
       "\n",
       "/* Specification for estimator info (e.g. \"i\" and \"?\") */\n",
       "\n",
       "/* Common style for \"i\" and \"?\" */\n",
       "\n",
       ".sk-estimator-doc-link,\n",
       "a:link.sk-estimator-doc-link,\n",
       "a:visited.sk-estimator-doc-link {\n",
       "  float: right;\n",
       "  font-size: smaller;\n",
       "  line-height: 1em;\n",
       "  font-family: monospace;\n",
       "  background-color: var(--sklearn-color-background);\n",
       "  border-radius: 1em;\n",
       "  height: 1em;\n",
       "  width: 1em;\n",
       "  text-decoration: none !important;\n",
       "  margin-left: 1ex;\n",
       "  /* unfitted */\n",
       "  border: var(--sklearn-color-unfitted-level-1) 1pt solid;\n",
       "  color: var(--sklearn-color-unfitted-level-1);\n",
       "}\n",
       "\n",
       ".sk-estimator-doc-link.fitted,\n",
       "a:link.sk-estimator-doc-link.fitted,\n",
       "a:visited.sk-estimator-doc-link.fitted {\n",
       "  /* fitted */\n",
       "  border: var(--sklearn-color-fitted-level-1) 1pt solid;\n",
       "  color: var(--sklearn-color-fitted-level-1);\n",
       "}\n",
       "\n",
       "/* On hover */\n",
       "div.sk-estimator:hover .sk-estimator-doc-link:hover,\n",
       ".sk-estimator-doc-link:hover,\n",
       "div.sk-label-container:hover .sk-estimator-doc-link:hover,\n",
       ".sk-estimator-doc-link:hover {\n",
       "  /* unfitted */\n",
       "  background-color: var(--sklearn-color-unfitted-level-3);\n",
       "  color: var(--sklearn-color-background);\n",
       "  text-decoration: none;\n",
       "}\n",
       "\n",
       "div.sk-estimator.fitted:hover .sk-estimator-doc-link.fitted:hover,\n",
       ".sk-estimator-doc-link.fitted:hover,\n",
       "div.sk-label-container:hover .sk-estimator-doc-link.fitted:hover,\n",
       ".sk-estimator-doc-link.fitted:hover {\n",
       "  /* fitted */\n",
       "  background-color: var(--sklearn-color-fitted-level-3);\n",
       "  color: var(--sklearn-color-background);\n",
       "  text-decoration: none;\n",
       "}\n",
       "\n",
       "/* Span, style for the box shown on hovering the info icon */\n",
       ".sk-estimator-doc-link span {\n",
       "  display: none;\n",
       "  z-index: 9999;\n",
       "  position: relative;\n",
       "  font-weight: normal;\n",
       "  right: .2ex;\n",
       "  padding: .5ex;\n",
       "  margin: .5ex;\n",
       "  width: min-content;\n",
       "  min-width: 20ex;\n",
       "  max-width: 50ex;\n",
       "  color: var(--sklearn-color-text);\n",
       "  box-shadow: 2pt 2pt 4pt #999;\n",
       "  /* unfitted */\n",
       "  background: var(--sklearn-color-unfitted-level-0);\n",
       "  border: .5pt solid var(--sklearn-color-unfitted-level-3);\n",
       "}\n",
       "\n",
       ".sk-estimator-doc-link.fitted span {\n",
       "  /* fitted */\n",
       "  background: var(--sklearn-color-fitted-level-0);\n",
       "  border: var(--sklearn-color-fitted-level-3);\n",
       "}\n",
       "\n",
       ".sk-estimator-doc-link:hover span {\n",
       "  display: block;\n",
       "}\n",
       "\n",
       "/* \"?\"-specific style due to the `<a>` HTML tag */\n",
       "\n",
       "#sk-container-id-3 a.estimator_doc_link {\n",
       "  float: right;\n",
       "  font-size: 1rem;\n",
       "  line-height: 1em;\n",
       "  font-family: monospace;\n",
       "  background-color: var(--sklearn-color-background);\n",
       "  border-radius: 1rem;\n",
       "  height: 1rem;\n",
       "  width: 1rem;\n",
       "  text-decoration: none;\n",
       "  /* unfitted */\n",
       "  color: var(--sklearn-color-unfitted-level-1);\n",
       "  border: var(--sklearn-color-unfitted-level-1) 1pt solid;\n",
       "}\n",
       "\n",
       "#sk-container-id-3 a.estimator_doc_link.fitted {\n",
       "  /* fitted */\n",
       "  border: var(--sklearn-color-fitted-level-1) 1pt solid;\n",
       "  color: var(--sklearn-color-fitted-level-1);\n",
       "}\n",
       "\n",
       "/* On hover */\n",
       "#sk-container-id-3 a.estimator_doc_link:hover {\n",
       "  /* unfitted */\n",
       "  background-color: var(--sklearn-color-unfitted-level-3);\n",
       "  color: var(--sklearn-color-background);\n",
       "  text-decoration: none;\n",
       "}\n",
       "\n",
       "#sk-container-id-3 a.estimator_doc_link.fitted:hover {\n",
       "  /* fitted */\n",
       "  background-color: var(--sklearn-color-fitted-level-3);\n",
       "}\n",
       "</style><div id=\"sk-container-id-3\" class=\"sk-top-container\"><div class=\"sk-text-repr-fallback\"><pre>DecisionTreeRegressor(random_state=42)</pre><b>In a Jupyter environment, please rerun this cell to show the HTML representation or trust the notebook. <br />On GitHub, the HTML representation is unable to render, please try loading this page with nbviewer.org.</b></div><div class=\"sk-container\" hidden><div class=\"sk-item\"><div class=\"sk-estimator fitted sk-toggleable\"><input class=\"sk-toggleable__control sk-hidden--visually\" id=\"sk-estimator-id-5\" type=\"checkbox\" checked><label for=\"sk-estimator-id-5\" class=\"sk-toggleable__label fitted sk-toggleable__label-arrow fitted\">&nbsp;&nbsp;DecisionTreeRegressor<a class=\"sk-estimator-doc-link fitted\" rel=\"noreferrer\" target=\"_blank\" href=\"https://scikit-learn.org/1.4/modules/generated/sklearn.tree.DecisionTreeRegressor.html\">?<span>Documentation for DecisionTreeRegressor</span></a><span class=\"sk-estimator-doc-link fitted\">i<span>Fitted</span></span></label><div class=\"sk-toggleable__content fitted\"><pre>DecisionTreeRegressor(random_state=42)</pre></div> </div></div></div></div>"
      ],
      "text/plain": [
       "DecisionTreeRegressor(random_state=42)"
      ]
     },
     "execution_count": 29,
     "metadata": {},
     "output_type": "execute_result"
    }
   ],
   "source": [
    "# Identify categorical columns\n",
    "categorical_cols = X.select_dtypes(include=['object']).columns\n",
    "numerical_cols = X.select_dtypes(exclude=['object']).columns\n",
    "\n",
    "# Define preprocessor\n",
    "preprocessor = ColumnTransformer(\n",
    "    transformers=[\n",
    "        ('num', StandardScaler(), numerical_cols),\n",
    "        ('cat', OneHotEncoder(), categorical_cols)\n",
    "    ])\n",
    "\n",
    "# Transform features\n",
    "X_transformed = preprocessor.fit_transform(X)\n",
    "\n",
    "# Split the data into training and testing sets\n",
    "X_train, X_test, y_train, y_test = train_test_split(X_transformed, y, test_size=0.2, random_state=42)\n",
    "\n",
    "# Initialize and train the Decision Tree Regressor model\n",
    "dt_regressor = DecisionTreeRegressor(random_state=42)\n",
    "dt_regressor.fit(X_train, y_train)"
   ]
  },
  {
   "cell_type": "markdown",
   "id": "5cd8433c-bec3-4309-9851-7ef352216170",
   "metadata": {},
   "source": [
    "## MEAN ABSOLUTE ERROR"
   ]
  },
  {
   "cell_type": "markdown",
   "id": "00e6e316-90cb-4c67-8777-dd1e2fbe0eb8",
   "metadata": {},
   "source": [
    "THIS CODE GENERATES PREDICTIONS ON BOTH TRAINING AND TESTING SETS USING THE TRAINED DECISION TREE REGRESSOR MODEL. IT THEN EVALUATES THE MODEL'S PERFORMANCE BY CALCULATING THE MEAN ABSOLUTE ERROR (MAE) FOR BOTH TRAINING AND TESTING SETS. THE MAE VALUES ARE PRINTED OUT FOR BOTH SETS."
   ]
  },
  {
   "cell_type": "code",
   "execution_count": 30,
   "id": "2c69989e-3e42-49fa-81fd-9c4e0128ef91",
   "metadata": {},
   "outputs": [
    {
     "name": "stdout",
     "output_type": "stream",
     "text": [
      "Train MAE: 0.0\n",
      "Test MAE: 7.146341463414634\n"
     ]
    }
   ],
   "source": [
    "# Predictions on the training and testing sets\n",
    "y_train_pred = dt_regressor.predict(X_train)\n",
    "y_test_pred = dt_regressor.predict(X_test)\n",
    "\n",
    "# Evaluate the model\n",
    "train_mae = mean_absolute_error(y_train, y_train_pred)\n",
    "print(\"Train MAE:\", train_mae)\n",
    "dtr_test_mae = mean_absolute_error(y_test, y_test_pred)\n",
    "print(\"Test MAE:\", dtr_test_mae)"
   ]
  },
  {
   "cell_type": "markdown",
   "id": "482ca25b-7dd9-428a-8dee-0f76e59cdfd4",
   "metadata": {},
   "source": [
    "## MEAN SQUARED ERROR"
   ]
  },
  {
   "cell_type": "markdown",
   "id": "6cea1d8a-6e2a-4f0a-9e83-dd169c7e9c9c",
   "metadata": {},
   "source": [
    "THIS CODE CALCULATES THE ROOT MEAN SQUARED ERROR (RMSE) FOR BOTH TRAINING AND TESTING SETS USING THE MEAN_SQUARED_ERROR FUNCTION FROM SCIKIT-LEARN WITH SQUARED=FALSE OPTION TO OBTAIN RMSE INSTEAD OF MSE. THE RMSE VALUES ARE PRINTED OUT FOR BOTH SETS."
   ]
  },
  {
   "cell_type": "code",
   "execution_count": 31,
   "id": "206b0469-0c79-41bf-97f3-241ace2d0ddc",
   "metadata": {},
   "outputs": [
    {
     "name": "stdout",
     "output_type": "stream",
     "text": [
      "Train RMSE: 0.0\n",
      "Test RMSE: 11.941932678488897\n"
     ]
    }
   ],
   "source": [
    "train_rmse = mean_squared_error(y_train, y_train_pred, squared=False)\n",
    "print(\"Train RMSE:\", train_rmse)\n",
    "dtr_test_rmse = mean_squared_error(y_test, y_test_pred, squared=False)\n",
    "print(\"Test RMSE:\", dtr_test_rmse)"
   ]
  },
  {
   "cell_type": "markdown",
   "id": "b55e8a4c-8119-4628-8539-844257e0112f",
   "metadata": {},
   "source": [
    "## R-SQUARED ERROR"
   ]
  },
  {
   "cell_type": "markdown",
   "id": "298f6776-94cb-4e13-904a-2a2b31660476",
   "metadata": {},
   "source": [
    "THIS CODE CALCULATES AND PRINTS THE R-SQUARED SCORES FOR BOTH TRAINING AND TESTING SETS, AS WELL AS THE TOTAL EXECUTION TIME OF THE CODE."
   ]
  },
  {
   "cell_type": "code",
   "execution_count": 32,
   "id": "6ffeee92-eb84-4a86-9c34-198832ce79cb",
   "metadata": {},
   "outputs": [
    {
     "name": "stdout",
     "output_type": "stream",
     "text": [
      "Train R^2: 1.0\n",
      "Test R^2: 0.8462983028678777\n",
      "Time Taken (seconds): 0.08307439996860921\n"
     ]
    }
   ],
   "source": [
    "train_r2 = r2_score(y_train, y_train_pred)\n",
    "print(\"Train R^2:\", train_r2)\n",
    "dtr_test_r2 = r2_score(y_test, y_test_pred)\n",
    "print(\"Test R^2:\",dtr_test_r2)\n",
    "dtr_toc = timeit.default_timer()-dtr_tic\n",
    "print(\"Time Taken (seconds):\", dtr_toc)"
   ]
  },
  {
   "cell_type": "markdown",
   "id": "2cd99ea8-a058-49b5-97c1-acacba7ea9eb",
   "metadata": {},
   "source": [
    "## DECISION TREE VISUALIZATION"
   ]
  },
  {
   "cell_type": "markdown",
   "id": "efbe958d-a5e9-47b6-842d-7e2a76840f92",
   "metadata": {},
   "source": [
    "THIS CODE VISUALIZES A DECISION TREE REGRESSOR MODEL WITH A LIMITED DEPTH OF 2. IT USES THE PLOT_TREE FUNCTION FROM SCIKIT-LEARN TO PLOT THE DECISION TREE WITH CUSTOMIZED SETTINGS, INCLUDING FEATURE NAMES, FILLED NODES, FONT SIZE, AND ROUNDED CORNERS. THE PLOT IS DISPLAYED USING MATPLOTLIB."
   ]
  },
  {
   "cell_type": "code",
   "execution_count": 33,
   "id": "74f50516-0c19-4c1e-a149-8e41c8a801bd",
   "metadata": {},
   "outputs": [
    {
     "data": {
      "image/png": "[encoded data removed]",
      "text/plain": [
       "<Figure size 1200x800 with 1 Axes>"
      ]
     },
     "metadata": {},
     "output_type": "display_data"
    }
   ],
   "source": [
    "from sklearn.tree import plot_tree\n",
    "import matplotlib.pyplot as plt\n",
    "\n",
    "# Initialize and train a Decision Tree Regressor model with limited depth\n",
    "dt_regressor_smaller = DecisionTreeRegressor(max_depth=2, random_state=42)\n",
    "dt_regressor_smaller.fit(X_train, y_train)\n",
    "\n",
    "# Plot the decision tree with customized settings\n",
    "plt.figure(figsize=(12, 8))  \n",
    "plot_tree(dt_regressor_smaller, feature_names=preprocessor.get_feature_names_out(), filled=True, fontsize=10, rounded=True)\n",
    "plt.show()"
   ]
  },
  {
   "cell_type": "markdown",
   "id": "26e3edb5-5b72-46fb-84f7-e544f848abe5",
   "metadata": {},
   "source": [
    "# STEP-4\n",
    "# RANDOM FOREST REGRESSOR"
   ]
  },
  {
   "cell_type": "markdown",
   "id": "297f93a8-bde1-4cdf-8119-606bdee811b3",
   "metadata": {},
   "source": [
    "THE RANDOM FOREST REGRESSOR IS A MACHINE LEARNING ALGORITHM USED FOR REGRESSION TASKS. IT BELONGS TO THE ENSEMBLE LEARNING METHODS AND BUILDS MULTIPLE DECISION TREES DURING TRAINING TO IMPROVE THE PREDICTIVE ACCURACY AND CONTROL OVERFITTING."
   ]
  },
  {
   "cell_type": "markdown",
   "id": "83eab50e-12df-468b-8f30-f3c856d1262a",
   "metadata": {},
   "source": [
    "## IMPORTING MODULES"
   ]
  },
  {
   "cell_type": "code",
   "execution_count": 34,
   "id": "d3e751aa-96a7-46e8-a2a0-f9c7bdac1cfc",
   "metadata": {},
   "outputs": [],
   "source": [
    "import pandas as pd\n",
    "from sklearn.model_selection import train_test_split, RandomizedSearchCV\n",
    "from sklearn.ensemble import RandomForestRegressor\n",
    "from sklearn.metrics import mean_squared_error, mean_absolute_error, r2_score\n",
    "import numpy as np\n",
    "import timeit\n",
    "rfr_tic = timeit.default_timer()"
   ]
  },
  {
   "cell_type": "markdown",
   "id": "47c4130e-2210-49f9-b6f9-cb8b40f0ed5d",
   "metadata": {},
   "source": [
    "## DATA SPLITTING"
   ]
  },
  {
   "cell_type": "markdown",
   "id": "3ab2cd8c-a096-4540-ba9a-de007935883f",
   "metadata": {},
   "source": [
    "THIS CODE SPLITS THE DATA INTO FEATURES (X) AND TARGET VARIABLE (Y) USING SPECIFIC COLUMNS FROM A DATAFRAME. THEN, IT SPLITS THE DATA INTO TRAINING AND TESTING SETS USING THE TRAIN_TEST_SPLIT FUNCTION FROM SCIKIT-LEARN, WITH A TEST SIZE OF 20% AND A RANDOM STATE FOR REPRODUCIBILITY."
   ]
  },
  {
   "cell_type": "code",
   "execution_count": 35,
   "id": "faea8d33-8813-49c1-919a-278d1e427e64",
   "metadata": {},
   "outputs": [],
   "source": [
    "# Split the data into features (X) and target variable (y)\n",
    "X = df[['Completion_Rate_Primary_Male', 'Completion_Rate_Primary_Female',\n",
    "        'Completion_Rate_Lower_Secondary_Male', 'Completion_Rate_Lower_Secondary_Female',\n",
    "        'Completion_Rate_Upper_Secondary_Male', 'Primary_End_Proficiency_Math',\n",
    "        'Youth_15_24_Literacy_Rate_Male', 'Youth_15_24_Literacy_Rate_Female', 'Unemployment_Rate']]\n",
    "y = df['Completion_Rate_Upper_Secondary_Female']  # Adjust the target variable if needed\n",
    "\n",
    "# Split the data into train and test sets\n",
    "X_train, X_test, y_train, y_test = train_test_split(X, y, test_size=0.2, random_state=42)"
   ]
  },
  {
   "cell_type": "markdown",
   "id": "17eba15d-d28d-44c8-9401-9e5990adf1c1",
   "metadata": {},
   "source": [
    "## HYPERPARAMETER TUNING"
   ]
  },
  {
   "cell_type": "markdown",
   "id": "52913fa2-bea6-4970-bd74-e1f204b8ddf6",
   "metadata": {},
   "source": [
    "\n",
    "THIS CODE DEFINES A HYPERPARAMETER GRID FOR TUNING THE RANDOM FOREST REGRESSOR MODEL. IT SPECIFIES A RANGE OF VALUES FOR PARAMETERS "
   ]
  },
  {
   "cell_type": "code",
   "execution_count": 36,
   "id": "bf05aff9-98cb-411d-aa27-14b78a4c4a2d",
   "metadata": {},
   "outputs": [],
   "source": [
    "param_dist = {\n",
    "    'n_estimators': np.arange(100, 1001, 100),\n",
    "    'max_depth': np.arange(3, 11),\n",
    "    'min_samples_split': np.arange(2, 11),\n",
    "    'min_samples_leaf': np.arange(1, 11),\n",
    "    'max_features': ['sqrt', 'log2', None]\n",
    "}"
   ]
  },
  {
   "cell_type": "markdown",
   "id": "1e643121-b637-4951-bf53-82acc730b558",
   "metadata": {},
   "source": [
    "## INITIALIZING MODEL"
   ]
  },
  {
   "cell_type": "markdown",
   "id": "574a67e8-29ad-47ed-b321-461579ab15ec",
   "metadata": {},
   "source": [
    " CREATES A RANDOMIZED SEARCH CV OBJECT TO SEARCH FOR THE BEST HYPERPARAMETERS. IT SPECIFIES PARAMETERS SUCH AS THE NUMBER OF ITERATIONS, CROSS-VALIDATION FOLDS, SCORING METRIC, AND THE NUMBER OF JOBS TO RUN IN PARALLEL. "
   ]
  },
  {
   "cell_type": "code",
   "execution_count": 37,
   "id": "a02e91a1-6aab-4c8c-a443-2e66c00ab9bd",
   "metadata": {},
   "outputs": [
    {
     "name": "stdout",
     "output_type": "stream",
     "text": [
      "Fitting 5 folds for each of 100 candidates, totalling 500 fits\n",
      "Best hyperparameters: {'n_estimators': 300, 'min_samples_split': 5, 'min_samples_leaf': 2, 'max_features': None, 'max_depth': 8}\n"
     ]
    }
   ],
   "source": [
    "# Initialize the Random Forest Regressor\n",
    "rf_regressor = RandomForestRegressor(random_state=42)\n",
    "\n",
    "# Create the RandomizedSearchCV object\n",
    "random_search = RandomizedSearchCV(rf_regressor, param_distributions=param_dist, n_iter=100, cv=5, scoring='neg_mean_squared_error', random_state=42, n_jobs=-1, verbose=2)\n",
    "\n",
    "random_search.fit(X_train, y_train)\n",
    "\n",
    "best_params = random_search.best_params_\n",
    "print(f\"Best hyperparameters: {best_params}\")"
   ]
  },
  {
   "cell_type": "markdown",
   "id": "7617aaf1-d741-4dd4-b8f9-39c5c30e194d",
   "metadata": {},
   "source": [
    "## MEAN SQUARED ERROR"
   ]
  },
  {
   "cell_type": "markdown",
   "id": "abaf61df-e30e-4ca8-bd8a-0566ea2042ff",
   "metadata": {},
   "source": [
    " IT EVALUATES THE PERFORMANCE OF THE BEST MODEL BY CALCULATING THE MEAN SQUARED ERROR (MSE) BETWEEN THE PREDICTED AND ACTUAL VALUES ON THE TEST SET. "
   ]
  },
  {
   "cell_type": "code",
   "execution_count": 38,
   "id": "602244ee-e673-4e7e-b868-4b9a9386f894",
   "metadata": {},
   "outputs": [
    {
     "name": "stdout",
     "output_type": "stream",
     "text": [
      "Best Mean Squared Error: 62.76549805134368\n"
     ]
    }
   ],
   "source": [
    "# Get the best estimator\n",
    "best_rf_regressor = random_search.best_estimator_\n",
    "\n",
    "y_pred = best_rf_regressor.predict(X_test)\n",
    "rfr_mse = mean_squared_error(y_test, y_pred)\n",
    "print(f\"Best Mean Squared Error: {rfr_mse}\")"
   ]
  },
  {
   "cell_type": "markdown",
   "id": "714d3e11-980a-4113-9ffe-e464235f79f0",
   "metadata": {},
   "source": [
    "## ROOT MEAN SQUARED ERROR"
   ]
  },
  {
   "cell_type": "markdown",
   "id": "37844966-9d71-4334-9ce1-a2fffbf2110e",
   "metadata": {},
   "source": [
    "CALCULATES THE ROOT MEAN SQUARED ERROR (RMSE) USING THE MEAN SQUARED ERROR (MSE) VALUE CALCULATED PREVIOUSLY. "
   ]
  },
  {
   "cell_type": "code",
   "execution_count": 39,
   "id": "b0c8ba46-8a1d-4a30-9077-fe5af7ec701f",
   "metadata": {},
   "outputs": [
    {
     "name": "stdout",
     "output_type": "stream",
     "text": [
      "Root Mean Squared Error (RMSE): 7.922467926810665\n"
     ]
    }
   ],
   "source": [
    "rfr_rmse = np.sqrt(rfr_mse)\n",
    "print(f\"Root Mean Squared Error (RMSE): {rfr_rmse}\")"
   ]
  },
  {
   "cell_type": "markdown",
   "id": "cba6a505-d3c2-42a0-9aa8-440c14b63f5e",
   "metadata": {},
   "source": [
    "## MEAN ABSOLUTE ERROR"
   ]
  },
  {
   "cell_type": "markdown",
   "id": "19b211a5-9d6b-41c7-8d22-9ab363fcb1f7",
   "metadata": {},
   "source": [
    "THIS CODE CALCULATES THE MEAN ABSOLUTE ERROR (MAE) BETWEEN THE PREDICTED AND ACTUAL VALUES ON THE TEST SET. THE MAE VALUE IS THEN PRINTED OUT."
   ]
  },
  {
   "cell_type": "code",
   "execution_count": 40,
   "id": "4c2b40f7-9d12-4023-9bd2-f235ef60843d",
   "metadata": {},
   "outputs": [
    {
     "name": "stdout",
     "output_type": "stream",
     "text": [
      "Mean Absolute Error (MAE): 4.204366284122379\n"
     ]
    }
   ],
   "source": [
    "rfr_mae = mean_absolute_error(y_test, y_pred)\n",
    "print(f\"Mean Absolute Error (MAE): {rfr_mae}\")"
   ]
  },
  {
   "cell_type": "markdown",
   "id": "f593d3fd-a2e5-4f84-8afb-f0262546e2e8",
   "metadata": {},
   "source": [
    "## R-SQUARED ERROR"
   ]
  },
  {
   "cell_type": "markdown",
   "id": "0ad0a7a8-0bbc-4120-9737-18e5a37a753c",
   "metadata": {},
   "source": [
    " CALCULATES THE R-SQUARED (R²) SCORE BETWEEN THE PREDICTED AND ACTUAL VALUES ON THE TEST SET. "
   ]
  },
  {
   "cell_type": "code",
   "execution_count": 41,
   "id": "9b3ce7b6-7658-4619-8f4a-6fceb7dacd7c",
   "metadata": {},
   "outputs": [
    {
     "name": "stdout",
     "output_type": "stream",
     "text": [
      "R-squared (R²): 0.9323527096895481\n",
      "Execution Time: 170.25884550006595 seconds\n"
     ]
    }
   ],
   "source": [
    "rfr_r2 = r2_score(y_test, y_pred)\n",
    "print(f\"R-squared (R²): {rfr_r2}\")\n",
    "rfr_toc = timeit.default_timer()-rfr_tic\n",
    "print(\"Execution Time:\", rfr_toc, \"seconds\")"
   ]
  },
  {
   "cell_type": "markdown",
   "id": "373dedea-e2db-4624-9344-fa4e68a18458",
   "metadata": {},
   "source": [
    "# EXTREME GRADIENT BOOSTING REGRESSOR(XGB)"
   ]
  },
  {
   "cell_type": "markdown",
   "id": "6c37f62d-71a3-42bf-a09a-a356ae8ae14e",
   "metadata": {},
   "source": [
    "THE EXTREME GRADIENT BOOSTING REGRESSOR (XGBOOST) IS A POPULAR MACHINE LEARNING ALGORITHM USED FOR REGRESSION TASKS. IT BELONGS TO THE GRADIENT BOOSTING FAMILY OF ALGORITHMS AND IS KNOWN FOR ITS EFFICIENCY, SCALABILITY, AND PERFORMANCE."
   ]
  },
  {
   "cell_type": "markdown",
   "id": "ca99d4d5-f3d1-4bb3-8cad-03d9ec764a6a",
   "metadata": {},
   "source": [
    "## IMPORTING MODULES"
   ]
  },
  {
   "cell_type": "code",
   "execution_count": 42,
   "id": "ac63a6f8-396a-473c-a76e-071efb7f35ba",
   "metadata": {},
   "outputs": [],
   "source": [
    "import pandas as pd\n",
    "from sklearn.model_selection import train_test_split, RandomizedSearchCV\n",
    "from xgboost import XGBRegressor\n",
    "from sklearn.metrics import mean_squared_error, mean_absolute_error, r2_score\n",
    "import numpy as np\n",
    "import timeit\n",
    "xgb_tic = timeit.default_timer()"
   ]
  },
  {
   "cell_type": "markdown",
   "id": "51ec2446-9364-4840-95bf-0bcc14f4c648",
   "metadata": {},
   "source": [
    " ## DATA SPLITTING"
   ]
  },
  {
   "cell_type": "code",
   "execution_count": 43,
   "id": "1d8b0b2e-7755-4432-b606-633d9f9621bd",
   "metadata": {},
   "outputs": [],
   "source": [
    "X = df[['Completion_Rate_Primary_Male', 'Completion_Rate_Primary_Female',\n",
    "        'Completion_Rate_Lower_Secondary_Male', 'Completion_Rate_Lower_Secondary_Female',\n",
    "        'Completion_Rate_Upper_Secondary_Male', 'Primary_End_Proficiency_Math',\n",
    "        'Youth_15_24_Literacy_Rate_Male', 'Youth_15_24_Literacy_Rate_Female', 'Unemployment_Rate']]\n",
    "y = df['Completion_Rate_Upper_Secondary_Female']  \n",
    "\n",
    "# Split the data into train and test sets\n",
    "X_train, X_test, y_train, y_test = train_test_split(X, y, test_size=0.2, random_state=42)"
   ]
  },
  {
   "cell_type": "markdown",
   "id": "a3e1e1dd-6f0c-4992-ab0d-d10768dc05c3",
   "metadata": {},
   "source": [
    "## INITIALIZING XGB REGRESSOR"
   ]
  },
  {
   "cell_type": "markdown",
   "id": "4d3eca5d-6486-407b-8543-51f94c92dfb0",
   "metadata": {},
   "source": [
    "IT INITIALIZES AN EXTREME GRADIENT BOOSTING REGRESSOR (XGBREGRESSOR) MODEL, FITS THE MODEL TO THE TRAINING DATA, AND MAKES PREDICTIONS ON THE TEST SET."
   ]
  },
  {
   "cell_type": "code",
   "execution_count": 44,
   "id": "150b7558-ffbb-43b9-abc6-922a87bc3032",
   "metadata": {},
   "outputs": [],
   "source": [
    "# Initialize the XGBRegressor\n",
    "xgb_regressor = XGBRegressor()\n",
    "\n",
    "# Fit the model to the training data\n",
    "xgb_regressor.fit(X_train, y_train)\n",
    "\n",
    "# Make predictions on the test set\n",
    "y_pred = xgb_regressor.predict(X_test)"
   ]
  },
  {
   "cell_type": "markdown",
   "id": "7b78f635-e086-4505-9abc-def238c99f9d",
   "metadata": {},
   "source": [
    "## HYPERPARATMETER TUNING"
   ]
  },
  {
   "cell_type": "markdown",
   "id": "a91c49bd-5b42-4914-8515-94d6e598a9a6",
   "metadata": {},
   "source": [
    "IT INITIALIZES AN XGBREGRESSOR MODEL AND CREATES A RANDOMIZED SEARCH CV OBJECT TO SEARCH FOR THE BEST HYPERPARAMETERS. AFTER FITTING THE RANDOMIZED SEARCH ON THE TRAINING DATA,"
   ]
  },
  {
   "cell_type": "code",
   "execution_count": 45,
   "id": "a7eff8d6-4ded-4554-8a22-12b1cc2e4d0a",
   "metadata": {},
   "outputs": [
    {
     "name": "stdout",
     "output_type": "stream",
     "text": [
      "Fitting 5 folds for each of 100 candidates, totalling 500 fits\n",
      "Best hyperparameters: {'subsample': 0.8999999999999999, 'reg_lambda': 0.01, 'reg_alpha': 0.001, 'n_estimators': 300, 'min_child_weight': 6, 'max_depth': 7, 'learning_rate': 0.1, 'gamma': 0.2, 'colsample_bytree': 0.6}\n"
     ]
    }
   ],
   "source": [
    "param_dist = {\n",
    "    'max_depth': np.arange(3, 11),\n",
    "    'n_estimators': np.arange(100, 1001, 100),\n",
    "    'learning_rate': np.logspace(-3, 0, 4),\n",
    "    'subsample': np.arange(0.5, 1.0, 0.1),\n",
    "    'colsample_bytree': np.arange(0.5, 1.0, 0.1),\n",
    "    'gamma': np.arange(0, 1, 0.1),\n",
    "    'reg_alpha': np.logspace(-3, 2, 6),\n",
    "    'reg_lambda': np.logspace(-3, 2, 6),\n",
    "    'min_child_weight': np.arange(1, 11)\n",
    "}\n",
    "\n",
    "xgb_regressor = XGBRegressor(random_state=42)\n",
    "\n",
    "random_search = RandomizedSearchCV(xgb_regressor, param_distributions=param_dist, n_iter=100, cv=5, scoring='neg_mean_squared_error', random_state=42, n_jobs=-1, verbose=2)\n",
    "\n",
    "random_search.fit(X_train, y_train)\n",
    "\n",
    "best_params = random_search.best_params_\n",
    "print(f\"Best hyperparameters: {best_params}\")"
   ]
  },
  {
   "cell_type": "markdown",
   "id": "ac23c2a6-9805-459f-92d5-10d75157a19e",
   "metadata": {},
   "source": [
    "## EVALUATION OF BEST MODEL"
   ]
  },
  {
   "cell_type": "markdown",
   "id": "f0bd7e96-36e0-45c6-903e-d4d26900c1ed",
   "metadata": {},
   "source": [
    "IT CALCULATES THE ROOT MEAN SQUARED ERROR (RMSE) BETWEEN THE PREDICTED AND ACTUAL VALUES ON THE TEST SET FOR THE BEST MODEL."
   ]
  },
  {
   "cell_type": "code",
   "execution_count": 46,
   "id": "eb17d08a-c8a3-400e-83f4-d5e0a051812b",
   "metadata": {},
   "outputs": [
    {
     "name": "stdout",
     "output_type": "stream",
     "text": [
      "Root Mean Squared Error (RMSE) for the best model: 7.8897210707348995\n"
     ]
    }
   ],
   "source": [
    "best_xgb_regressor = random_search.best_estimator_\n",
    "\n",
    "y_pred = best_xgb_regressor.predict(X_test)\n",
    "\n",
    "rmse_best = np.sqrt(mean_squared_error(y_test, y_pred))\n",
    "print(f\"Root Mean Squared Error (RMSE) for the best model: {rmse_best}\")"
   ]
  },
  {
   "cell_type": "markdown",
   "id": "98c2ce2c-7eaa-4bf3-bad6-ccefa6f01c68",
   "metadata": {},
   "source": [
    "## MEAN SQUARED ERROR"
   ]
  },
  {
   "cell_type": "markdown",
   "id": "7795b5f3-2983-4429-8832-1885cfc22b7f",
   "metadata": {},
   "source": [
    "CALCULATES THE MEAN SQUARED ERROR (MSE) BETWEEN THE PREDICTED AND ACTUAL VALUES ON THE TEST SET FOR THE BEST MODEL. "
   ]
  },
  {
   "cell_type": "code",
   "execution_count": 47,
   "id": "cd71b14d-e81d-4fe4-8aa8-f96c3a4fce8c",
   "metadata": {},
   "outputs": [
    {
     "name": "stdout",
     "output_type": "stream",
     "text": [
      "Mean Squared Error: 62.24769857399825\n"
     ]
    }
   ],
   "source": [
    "# Calculate the mean squared error\n",
    "xgb_mse = mean_squared_error(y_test, y_pred)\n",
    "print(f\"Mean Squared Error: {xgb_mse}\")"
   ]
  },
  {
   "cell_type": "markdown",
   "id": "6b2c490a-9e5d-4896-b9fd-09c14a87a40f",
   "metadata": {},
   "source": [
    "## ROOT MEAN SQUARED ERROR"
   ]
  },
  {
   "cell_type": "markdown",
   "id": "5b3ac163-0dc2-47af-a918-81e161051ee9",
   "metadata": {},
   "source": [
    "CALCULATES THE ROOT MEAN SQUARED ERROR (RMSE) BETWEEN THE PREDICTED AND ACTUAL VALUES ON THE TEST SET FOR THE BEST MODEL."
   ]
  },
  {
   "cell_type": "code",
   "execution_count": 48,
   "id": "1e1dc682-ab01-4576-b06a-70a4ba3c5d93",
   "metadata": {},
   "outputs": [
    {
     "name": "stdout",
     "output_type": "stream",
     "text": [
      "Root Mean Squared Error (RMSE): 7.8897210707348995\n"
     ]
    }
   ],
   "source": [
    "# Calculate RMSE\n",
    "xgb_rmse = np.sqrt(mean_squared_error(y_test, y_pred))\n",
    "print(f\"Root Mean Squared Error (RMSE): {xgb_rmse}\")"
   ]
  },
  {
   "cell_type": "markdown",
   "id": "96f719f4-62f8-4930-9965-61251c37095f",
   "metadata": {},
   "source": [
    "##  MEAN ABSOLUTE ERROR"
   ]
  },
  {
   "cell_type": "markdown",
   "id": "48bb22e4-cc85-43d7-b018-752c97dd626b",
   "metadata": {},
   "source": [
    " CALCULATES THE MEAN ABSOLUTE ERROR (MAE) BETWEEN THE PREDICTED AND ACTUAL VALUES ON THE TEST SET FOR THE BEST MODEL"
   ]
  },
  {
   "cell_type": "code",
   "execution_count": 49,
   "id": "033f8e4d-5e24-4645-9e38-211f6027d02f",
   "metadata": {},
   "outputs": [
    {
     "name": "stdout",
     "output_type": "stream",
     "text": [
      "Mean Absolute Error (MAE): 4.370333329978876\n"
     ]
    }
   ],
   "source": [
    "# Calculate MAE\n",
    "xgb_mae = mean_absolute_error(y_test, y_pred)\n",
    "print(f\"Mean Absolute Error (MAE): {xgb_mae}\")"
   ]
  },
  {
   "cell_type": "markdown",
   "id": "31b3103f-3790-4757-bd7c-3be5825507f1",
   "metadata": {},
   "source": [
    "## R- SQUARED ERROR"
   ]
  },
  {
   "cell_type": "markdown",
   "id": "fa56b48f-5eb1-41ab-906a-ad4bbcdf7c58",
   "metadata": {},
   "source": [
    "CALCULATES THE R-SQUARED (R2) SCORE BETWEEN THE PREDICTED AND ACTUAL VALUES ON THE TEST SET FOR THE BEST MODEL"
   ]
  },
  {
   "cell_type": "code",
   "execution_count": 50,
   "id": "93557088-98cf-4cb4-aa82-4aaf388ca2ff",
   "metadata": {},
   "outputs": [
    {
     "name": "stdout",
     "output_type": "stream",
     "text": [
      "R-squared (R2): 0.9329107827177894\n",
      "Execution Time: 25.734952499973588 seconds\n"
     ]
    }
   ],
   "source": [
    "# Calculate R-squared\n",
    "xgb_r2 = r2_score(y_test, y_pred)\n",
    "print(f\"R-squared (R2): {xgb_r2}\")\n",
    "xgb_toc = timeit.default_timer()-xgb_tic\n",
    "print(\"Execution Time:\", xgb_toc , \"seconds\")"
   ]
  },
  {
   "cell_type": "markdown",
   "id": "354cd7a6-9b0f-41b1-90e4-4c95914d9822",
   "metadata": {},
   "source": [
    "# STEP-5\n",
    "# ADA BOOST REGRESSOR"
   ]
  },
  {
   "cell_type": "markdown",
   "id": "4d1cdfc4-c1f8-420c-9dff-d5da99247835",
   "metadata": {},
   "source": [
    "THE ADABOOST REGRESSOR IS A MACHINE LEARNING ALGORITHM USED FOR REGRESSION TASKS. IT BELONGS TO THE FAMILY OF BOOSTING ALGORITHMS AND IS KNOWN FOR ITS ABILITY TO COMBINE MULTIPLE WEAK LEARNERS TO CREATE A STRONG ENSEMBLE MODEL."
   ]
  },
  {
   "cell_type": "markdown",
   "id": "706fe316-2781-495f-aecb-c0a30099bd3f",
   "metadata": {},
   "source": [
    "## IMPORTING MODULES"
   ]
  },
  {
   "cell_type": "code",
   "execution_count": 51,
   "id": "9576e64b-debd-4e4a-9505-6ccbc26aac09",
   "metadata": {},
   "outputs": [],
   "source": [
    "from sklearn.ensemble import AdaBoostRegressor\n",
    "from sklearn.model_selection import RandomizedSearchCV\n",
    "from sklearn.tree import DecisionTreeRegressor\n",
    "from sklearn.metrics import mean_squared_error, r2_score\n",
    "import numpy as np\n",
    "import timeit\n",
    "ada_tic = timeit.default_timer()"
   ]
  },
  {
   "cell_type": "markdown",
   "id": "2ce37d23-6c54-464d-bf82-fa1b6da29842",
   "metadata": {},
   "source": [
    "## INITIALIZING ADABOOST"
   ]
  },
  {
   "cell_type": "markdown",
   "id": "6512f77a-4353-4fef-8bfa-af7d5e8836f9",
   "metadata": {},
   "source": [
    " INITIALIZES AN ADABOOST REGRESSOR MODEL, FITS THE MODEL TO THE TRAINING DATA, AND MAKES PREDICTIONS ON THE TEST SET. THEN, IT CALCULATES THE MEAN SQUARED ERROR (MSE) AND R-SQUARED (R2) SCORE BETWEEN THE PREDICTED AND ACTUAL VALUES ON THE TEST SET. "
   ]
  },
  {
   "cell_type": "code",
   "execution_count": 52,
   "id": "20d051ef-664e-4108-97c0-d9fdd2d5122b",
   "metadata": {},
   "outputs": [
    {
     "name": "stdout",
     "output_type": "stream",
     "text": [
      "Mean Squared Error: 76.49047124526606\n",
      "R-squared: 0.9175602317362475\n"
     ]
    }
   ],
   "source": [
    "# Initialize the AdaBoostRegressor\n",
    "ada_regressor = AdaBoostRegressor(random_state=42)\n",
    "\n",
    "# Fit the model to the training data\n",
    "ada_regressor.fit(X_train, y_train)\n",
    "\n",
    "# Make predictions on the test set\n",
    "y_pred = ada_regressor.predict(X_test)\n",
    "\n",
    "# Calculate the mean squared error\n",
    "ada_mse = mean_squared_error(y_test, y_pred)\n",
    "print(f\"Mean Squared Error: {ada_mse}\")\n",
    "\n",
    "# Calculate R-squared\n",
    "ada_r2 = r2_score(y_test, y_pred)\n",
    "print(f\"R-squared: {ada_r2}\")"
   ]
  },
  {
   "cell_type": "markdown",
   "id": "1153f61a-afba-4028-a32c-40ae8e41d98d",
   "metadata": {},
   "source": [
    "## HYPERPARAMETER TUNING"
   ]
  },
  {
   "cell_type": "markdown",
   "id": "4dbe713a-acf4-4f82-a71b-390616b41e5f",
   "metadata": {},
   "source": [
    " DEFINES A HYPERPARAMETER GRID FOR TUNING THE ADA BOOST REGRESSOR MODEL. IT INCLUDES PARAMETERS SUCH AS THE NUMBER OF ESTIMATORS (TREES) IN THE ENSEMBLE AND THE LEARNING RATE."
   ]
  },
  {
   "cell_type": "code",
   "execution_count": 53,
   "id": "b298e005-8ea0-4352-9e25-e4a976e6302b",
   "metadata": {},
   "outputs": [
    {
     "name": "stdout",
     "output_type": "stream",
     "text": [
      "Fitting 5 folds for each of 80 candidates, totalling 400 fits\n"
     ]
    },
    {
     "name": "stderr",
     "output_type": "stream",
     "text": [
      "C:\\Users\\laxmi\\AppData\\Local\\Programs\\Python\\Python312\\Lib\\site-packages\\sklearn\\model_selection\\_search.py:318: UserWarning: The total space of parameters 80 is smaller than n_iter=100. Running 80 iterations. For exhaustive searches, use GridSearchCV.\n",
      "  warnings.warn(\n"
     ]
    },
    {
     "name": "stdout",
     "output_type": "stream",
     "text": [
      "Best hyperparameters for AdaBoostRegressor: {'n_estimators': 200, 'learning_rate': 0.01}\n"
     ]
    }
   ],
   "source": [
    "# Define the hyperparameter grid for AdaBoostRegressor\n",
    "param_dist_ada = {\n",
    "    'n_estimators': np.arange(50, 1001, 50),\n",
    "    'learning_rate': np.logspace(-3, 0, 4)\n",
    "}\n",
    "\n",
    "# Create the RandomizedSearchCV object for AdaBoostRegressor\n",
    "random_search_ada = RandomizedSearchCV(ada_regressor, param_distributions=param_dist_ada, n_iter=100, cv=5, scoring='neg_mean_squared_error', random_state=42, n_jobs=-1, verbose=2)\n",
    "\n",
    "# Fit the RandomizedSearchCV on the training data\n",
    "random_search_ada.fit(X_train, y_train)\n",
    "\n",
    "# Get the best hyperparameters for AdaBoostRegressor\n",
    "best_params_ada = random_search_ada.best_params_\n",
    "print(f\"Best hyperparameters for AdaBoostRegressor: {best_params_ada}\")\n",
    "\n",
    "# Get the best estimator for AdaBoostRegressor\n",
    "best_ada_regressor = random_search_ada.best_estimator_"
   ]
  },
  {
   "cell_type": "markdown",
   "id": "d5d66677-63b7-4264-bbd9-122dd524c997",
   "metadata": {},
   "source": [
    "## ROOT MEAN SQUARED ERROR"
   ]
  },
  {
   "cell_type": "markdown",
   "id": "9abb1ade-c111-4534-953f-145aecfefca2",
   "metadata": {},
   "source": [
    "PREDICTIONS USING THE BEST ADA BOOST REGRESSOR MODEL ON THE TEST SET AND THEN CALCULATES THE ROOT MEAN SQUARED ERROR (RMSE) BETWEEN THE PREDICTED AND ACTUAL VALUES. "
   ]
  },
  {
   "cell_type": "code",
   "execution_count": 54,
   "id": "ff58d2cc-d268-4d7c-a94b-5092ac3e544c",
   "metadata": {},
   "outputs": [
    {
     "name": "stdout",
     "output_type": "stream",
     "text": [
      "Root Mean Squared Error (RMSE) for AdaBoostRegressor: 8.614100687083624\n"
     ]
    }
   ],
   "source": [
    "# Evaluate the best model on the test set\n",
    "y_pred_ada = best_ada_regressor.predict(X_test)\n",
    "mse_ada = mean_squared_error(y_test, y_pred_ada)\n",
    "\n",
    "# Calculate RMSE for AdaBoostRegressor\n",
    "rmse_ada = np.sqrt(mse_ada)\n",
    "print(f\"Root Mean Squared Error (RMSE) for AdaBoostRegressor: {rmse_ada}\")"
   ]
  },
  {
   "cell_type": "markdown",
   "id": "7c4c3163-83e6-4c22-af8a-86ee727c20d0",
   "metadata": {},
   "source": [
    "## R-SQUARED ERROR"
   ]
  },
  {
   "cell_type": "markdown",
   "id": "fa862822-6b6b-4d3d-b136-7c83d77e8612",
   "metadata": {},
   "source": [
    "CALCULATES THE R-SQUARED (R2) SCORE FOR THE ADA BOOST REGRESSOR MODEL ON THE TEST SET. "
   ]
  },
  {
   "cell_type": "code",
   "execution_count": 55,
   "id": "0401ccb8-eccb-4e2c-91a2-fd5e635decdd",
   "metadata": {},
   "outputs": [
    {
     "name": "stdout",
     "output_type": "stream",
     "text": [
      "R-squared for AdaBoostRegressor: 0.9200259088549855\n",
      "Execution Time: 125.37497590004932 seconds\n"
     ]
    }
   ],
   "source": [
    "# Calculate R-squared for AdaBoostRegressor\n",
    "r2_ada = r2_score(y_test, y_pred_ada)\n",
    "print(f\"R-squared for AdaBoostRegressor: {r2_ada}\")\n",
    "ada_toc = timeit.default_timer()-ada_tic\n",
    "print(\"Execution Time:\", ada_toc, \"seconds\")"
   ]
  },
  {
   "cell_type": "markdown",
   "id": "a9df8d8e-e96a-4739-a574-e7de89c91583",
   "metadata": {},
   "source": [
    "# BAGGING REGRESSOR\n"
   ]
  },
  {
   "cell_type": "markdown",
   "id": "c3d9f5bb-7e40-4e21-81af-10892edadafa",
   "metadata": {},
   "source": [
    "## IMPORTING  MODULES"
   ]
  },
  {
   "cell_type": "code",
   "execution_count": 56,
   "id": "7fe83c24-1c18-4bfe-b5cc-021ef66267d3",
   "metadata": {},
   "outputs": [],
   "source": [
    "import pandas as pd\n",
    "from sklearn.model_selection import train_test_split, RandomizedSearchCV\n",
    "from sklearn.ensemble import BaggingRegressor\n",
    "from sklearn.metrics import mean_squared_error, mean_absolute_error, r2_score\n",
    "import numpy as np\n",
    "import timeit\n",
    "br_tic = timeit.default_timer()"
   ]
  },
  {
   "cell_type": "markdown",
   "id": "d4eb95a9-24f2-4495-a2c1-a065ae0236d8",
   "metadata": {},
   "source": [
    "## SPLITTING DATA"
   ]
  },
  {
   "cell_type": "markdown",
   "id": "e62c66d7-7b0d-47dd-85e1-b64aa184e18b",
   "metadata": {},
   "source": [
    "SPLITS THE DATA INTO FEATURES (X) AND TARGET VARIABLE (Y) USING SPECIFIC COLUMNS FROM A DATAFRAME. THEN, IT SPLITS THE DATA INTO TRAINING AND TESTING SETS USING THE TRAIN_TEST_SPLIT FUNCTION FROM SCIKIT-LEARN"
   ]
  },
  {
   "cell_type": "code",
   "execution_count": 57,
   "id": "64a9dcca-79e2-444c-b84b-a85e3888f61f",
   "metadata": {},
   "outputs": [],
   "source": [
    "# Split the data into features (X) and target variable (y)\n",
    "X = df[['Completion_Rate_Primary_Male', 'Completion_Rate_Primary_Female',\n",
    "        'Completion_Rate_Lower_Secondary_Male', 'Completion_Rate_Lower_Secondary_Female',\n",
    "        'Completion_Rate_Upper_Secondary_Male', 'Primary_End_Proficiency_Math',\n",
    "        'Youth_15_24_Literacy_Rate_Male', 'Youth_15_24_Literacy_Rate_Female', 'Unemployment_Rate']]\n",
    "y = df['Completion_Rate_Upper_Secondary_Female'] \n",
    "\n",
    "# Split the data into train and test sets\n",
    "X_train, X_test, y_train, y_test = train_test_split(X, y, test_size=0.2, random_state=42)"
   ]
  },
  {
   "cell_type": "markdown",
   "id": "d39faf2e-88b6-4f40-9c12-492127e67fef",
   "metadata": {},
   "source": [
    "## HYPER PARAMETER TUNING"
   ]
  },
  {
   "cell_type": "markdown",
   "id": "9bc26084-142a-4b86-a0b9-306e256422ba",
   "metadata": {},
   "source": [
    "A HYPERPARAMETER GRID FOR TUNING THE BAGGING REGRESSOR MODEL. IT INCLUDES PARAMETERS SUCH AS THE NUMBER OF ESTIMATORS (TREES) IN THE ENSEMBLE, MAXIMUM SAMPLES, MAXIMUM FEATURES, AND WHETHER BOOTSTRAP SAMPLES ARE USED"
   ]
  },
  {
   "cell_type": "code",
   "execution_count": 58,
   "id": "9802de33-1de1-4a1b-b875-e6a8719e5644",
   "metadata": {},
   "outputs": [
    {
     "name": "stdout",
     "output_type": "stream",
     "text": [
      "Fitting 5 folds for each of 100 candidates, totalling 500 fits\n",
      "Best hyperparameters: {'n_estimators': 100, 'max_samples': 0.7, 'max_features': 1.0, 'bootstrap': True}\n"
     ]
    }
   ],
   "source": [
    "\n",
    "param_dist = {\n",
    "    'n_estimators': np.arange(100, 1001, 100),\n",
    "    'max_samples': [0.5, 0.7, 1.0],\n",
    "    'max_features': [0.5, 0.7, 1.0],\n",
    "    'bootstrap': [True, False]\n",
    "}\n",
    "\n",
    "# Initialize the Bagging Regressor\n",
    "bagging_regressor = BaggingRegressor(random_state=42)\n",
    "\n",
    "# Create the RandomizedSearchCV object\n",
    "random_search = RandomizedSearchCV(bagging_regressor, param_distributions=param_dist, n_iter=100, cv=5, scoring='neg_mean_squared_error', random_state=42, n_jobs=-1, verbose=2)\n",
    "\n",
    "# Fit the RandomizedSearchCV on the training data\n",
    "random_search.fit(X_train, y_train)\n",
    "\n",
    "# Get the best hyperparameters\n",
    "best_params = random_search.best_params_\n",
    "print(f\"Best hyperparameters: {best_params}\")"
   ]
  },
  {
   "cell_type": "markdown",
   "id": "0124a8c7-d990-49de-9951-cdefc0828cf6",
   "metadata": {},
   "source": [
    "## ROOT MEAN SQUARE ERROR"
   ]
  },
  {
   "cell_type": "markdown",
   "id": "633c8d50-917c-43ca-8085-b6df4148e328",
   "metadata": {},
   "source": [
    "THE BEST ESTIMATOR FOUND BY THE RANDOMIZED SEARCH AND USES IT TO MAKE PREDICTIONS ON THE TEST SET. THEN, IT CALCULATES THE MEAN SQUARED ERROR (MSE) BETWEEN THE PREDICTED AND ACTUAL VALUES ON THE TEST SET FOR THE BEST MODEL."
   ]
  },
  {
   "cell_type": "code",
   "execution_count": 59,
   "id": "b10a2be0-8dc0-4fc7-a86d-fa720732278d",
   "metadata": {},
   "outputs": [
    {
     "name": "stdout",
     "output_type": "stream",
     "text": [
      "Best Mean Squared Error: 57.42160975609755\n",
      "Root Mean Squared Error (RMSE): 7.577704781534944\n"
     ]
    }
   ],
   "source": [
    "# Get the best estimator\n",
    "best_bagging_regressor = random_search.best_estimator_\n",
    "\n",
    "# Evaluate the best model on the test set\n",
    "y_pred = best_bagging_regressor.predict(X_test)\n",
    "br_mse = mean_squared_error(y_test, y_pred)\n",
    "print(f\"Best Mean Squared Error: {br_mse}\")  # Corrected variable name\n",
    "br_rmse = np.sqrt(br_mse)\n",
    "print(f\"Root Mean Squared Error (RMSE): {br_rmse}\")\n"
   ]
  },
  {
   "cell_type": "markdown",
   "id": "5b576567-edb8-41e2-8827-2e787d8c3e36",
   "metadata": {},
   "source": [
    "## MEAN ABSOLUTE ERROR"
   ]
  },
  {
   "cell_type": "markdown",
   "id": "4837c455-02e3-4a03-9856-44c166fa1880",
   "metadata": {},
   "source": [
    "CALCULATES THE MEAN ABSOLUTE ERROR (MAE) BETWEEN THE PREDICTED AND ACTUAL VALUES ON THE TEST SET FOR THE BEST MODEL."
   ]
  },
  {
   "cell_type": "code",
   "execution_count": 60,
   "id": "91d57c72-64ea-418b-a47a-28206203371b",
   "metadata": {},
   "outputs": [
    {
     "name": "stdout",
     "output_type": "stream",
     "text": [
      "Mean Absolute Error (MAE): 4.033658536585365\n"
     ]
    }
   ],
   "source": [
    "br_mae = mean_absolute_error(y_test, y_pred)\n",
    "print(f\"Mean Absolute Error (MAE): {br_mae}\")"
   ]
  },
  {
   "cell_type": "markdown",
   "id": "cfcdf617-46cd-47de-a780-f28161e16068",
   "metadata": {},
   "source": [
    "## R- SQUARED ERROR"
   ]
  },
  {
   "cell_type": "markdown",
   "id": "1aaa6a17-a42b-481f-b63e-ce2511ab9cef",
   "metadata": {},
   "source": [
    "CALCULATES THE R-SQUARED (R²) SCORE BETWEEN THE PREDICTED AND ACTUAL VALUES ON THE TEST SET FOR THE BEST MODEL"
   ]
  },
  {
   "cell_type": "code",
   "execution_count": 61,
   "id": "d9596bd5-63bf-437a-b8cf-ceddfec1f03c",
   "metadata": {},
   "outputs": [
    {
     "name": "stdout",
     "output_type": "stream",
     "text": [
      "R-squared (R²): 0.9381122364059524\n",
      "Execution Time: 273.6248118999647 seconds\n"
     ]
    }
   ],
   "source": [
    "br_r2 = r2_score(y_test, y_pred)\n",
    "print(f\"R-squared (R²): {br_r2}\")\n",
    "br_toc = timeit.default_timer()-br_tic\n",
    "print(\"Execution Time:\", br_toc, \"seconds\")"
   ]
  },
  {
   "cell_type": "markdown",
   "id": "d83d165e-39ca-4555-8a09-5a29f5f3a55c",
   "metadata": {},
   "source": [
    "# STACKING REGRESSOR"
   ]
  },
  {
   "cell_type": "markdown",
   "id": "b889625b-42a5-4345-a7fa-43c48fb67884",
   "metadata": {},
   "source": [
    "THE STACKING REGRESSOR IS A MACHINE LEARNING TECHNIQUE THAT COMBINES MULTIPLE REGRESSION MODELS INTO A META-REGRESSOR TO IMPROVE PREDICTIVE PERFORMANCE. IT BELONGS TO THE ENSEMBLE LEARNING METHODS AND IS KNOWN FOR ITS ABILITY TO LEVERAGE THE STRENGTHS OF DIFFERENT REGRESSION ALGORITHMS."
   ]
  },
  {
   "cell_type": "markdown",
   "id": "36c5d04e-19b5-411f-bef9-1be636e724e2",
   "metadata": {},
   "source": [
    "## IMPORTING MODULES"
   ]
  },
  {
   "cell_type": "code",
   "execution_count": 62,
   "id": "8f45b1e4-2d07-4ca6-b3a2-95dbdfae4ada",
   "metadata": {},
   "outputs": [],
   "source": [
    "import pandas as pd\n",
    "from sklearn.model_selection import train_test_split\n",
    "from sklearn.ensemble import StackingRegressor\n",
    "from sklearn.ensemble import RandomForestRegressor\n",
    "from sklearn.linear_model import LinearRegression\n",
    "from sklearn.tree import DecisionTreeRegressor\n",
    "from sklearn.metrics import mean_squared_error, mean_absolute_error, r2_score\n",
    "import timeit\n",
    "sr_tic = timeit.default_timer()"
   ]
  },
  {
   "cell_type": "markdown",
   "id": "22392c2b-8ff0-41b6-965c-bbef8544c241",
   "metadata": {},
   "source": [
    "## DATA SPLITTING"
   ]
  },
  {
   "cell_type": "code",
   "execution_count": 63,
   "id": "824b9f49-70aa-43e5-93b9-421edb2212b1",
   "metadata": {},
   "outputs": [],
   "source": [
    "X = df[['Completion_Rate_Primary_Male', 'Completion_Rate_Primary_Female',\n",
    "        'Completion_Rate_Lower_Secondary_Male', 'Completion_Rate_Lower_Secondary_Female',\n",
    "        'Completion_Rate_Upper_Secondary_Male', 'Primary_End_Proficiency_Math',\n",
    "        'Youth_15_24_Literacy_Rate_Male', 'Youth_15_24_Literacy_Rate_Female', 'Unemployment_Rate']]\n",
    "y = df['Completion_Rate_Upper_Secondary_Female']  # Adjust the target variable if needed\n",
    "\n",
    "# Split the data into train and test sets\n",
    "X_train, X_test, y_train, y_test = train_test_split(X, y, test_size=0.2, random_state=42)\n",
    "\n",
    "# Initialize base regressors\n",
    "base_regressors = [\n",
    "    ('rf', RandomForestRegressor(random_state=42)),\n",
    "    ('lr', LinearRegression()),\n",
    "    ('dt', DecisionTreeRegressor(random_state=42))]"
   ]
  },
  {
   "cell_type": "markdown",
   "id": "a6ef0580-bb77-4608-a21a-f6cc1394fbe7",
   "metadata": {},
   "source": [
    "## INITIALIZING MODEL"
   ]
  },
  {
   "cell_type": "markdown",
   "id": "7754e8a9-b7e7-4369-b975-5069c93cc6e0",
   "metadata": {},
   "source": [
    "INITIALIZES A STACKING REGRESSOR WITH A SET OF BASE REGRESSORS AND A FINAL META-REGRESSOR (LINEAR REGRESSION, IN THIS CASE). THEN, IT FITS THE STACKING REGRESSOR TO THE TRAINING DATA AND MAKES PREDICTIONS ON THE TEST SET."
   ]
  },
  {
   "cell_type": "code",
   "execution_count": 64,
   "id": "b387023b-ed19-46a5-86df-188093f0fa2f",
   "metadata": {},
   "outputs": [],
   "source": [
    "# Initialize Stacking Regressor with meta regressor\n",
    "stacking_regressor = StackingRegressor(estimators=base_regressors, final_estimator=LinearRegression())\n",
    "\n",
    "# Fit the Stacking Regressor on the training data\n",
    "stacking_regressor.fit(X_train, y_train)\n",
    "\n",
    "# Make predictions on the test set\n",
    "y_pred = stacking_regressor.predict(X_test)"
   ]
  },
  {
   "cell_type": "markdown",
   "id": "1eba0160-f6aa-429c-b072-7a81e2fa1311",
   "metadata": {},
   "source": [
    "## MEAN SQUARED ERROR"
   ]
  },
  {
   "cell_type": "markdown",
   "id": "39156a19-25ac-48d0-b8ad-3bb1aba0955e",
   "metadata": {},
   "source": [
    "CALCULATES THE MEAN SQUARED ERROR (MSE) BETWEEN THE PREDICTED AND ACTUAL VALUES ON THE TEST SET FOR THE STACKING REGRESSOR MODEL"
   ]
  },
  {
   "cell_type": "code",
   "execution_count": 65,
   "id": "651d1f44-ff92-4312-8dc4-981e44da5558",
   "metadata": {},
   "outputs": [
    {
     "name": "stdout",
     "output_type": "stream",
     "text": [
      "Mean Squared Error (MSE): 30.708930448922004\n"
     ]
    }
   ],
   "source": [
    "# Evaluate the model\n",
    "sr_mse = mean_squared_error(y_test, y_pred)\n",
    "print(\"Mean Squared Error (MSE):\", sr_mse)"
   ]
  },
  {
   "cell_type": "markdown",
   "id": "b539ca1d-e3a3-49c0-bd89-76c441313b1c",
   "metadata": {},
   "source": [
    "## MEAN ABSOLUTE ERROR"
   ]
  },
  {
   "cell_type": "markdown",
   "id": "9bb9bcf7-f9a7-4634-a1c1-68b20f341619",
   "metadata": {},
   "source": [
    " CALCULATES THE MEAN ABSOLUTE ERROR (MAE) BETWEEN THE PREDICTED AND ACTUAL VALUES ON THE TEST SET FOR THE STACKING REGRESSOR MODEL. "
   ]
  },
  {
   "cell_type": "code",
   "execution_count": 66,
   "id": "43785e2e-1730-497f-8b84-523a0ac195a7",
   "metadata": {},
   "outputs": [
    {
     "name": "stdout",
     "output_type": "stream",
     "text": [
      "Mean Absolute Error (MAE): 3.1460193043528157\n"
     ]
    }
   ],
   "source": [
    "sr_mae = mean_absolute_error(y_test, y_pred)\n",
    "print(\"Mean Absolute Error (MAE):\", sr_mae)"
   ]
  },
  {
   "cell_type": "markdown",
   "id": "180f35a9-0c45-4c06-805e-996bfd5b7d13",
   "metadata": {},
   "source": [
    "## R-SQUARED"
   ]
  },
  {
   "cell_type": "markdown",
   "id": "6cbd01cf-9f0f-4e27-9923-77cc0c6064eb",
   "metadata": {},
   "source": [
    "CALCULATES THE R-SQUARED (R²) SCORE BETWEEN THE PREDICTED AND ACTUAL VALUES ON THE TEST SET FOR THE STACKING REGRESSOR MODEL. "
   ]
  },
  {
   "cell_type": "code",
   "execution_count": 67,
   "id": "ce46d2af-e049-4094-8053-592bb2f7dc9b",
   "metadata": {},
   "outputs": [
    {
     "name": "stdout",
     "output_type": "stream",
     "text": [
      "R-squared (R²): 0.9669025818690651\n",
      "Execution Time: 2.122947599971667 seconds\n"
     ]
    }
   ],
   "source": [
    "sr_r2 = r2_score(y_test, y_pred)\n",
    "print(\"R-squared (R²):\", sr_r2)\n",
    "#xgb_toc = timeit.default_timer() - xgb_tic\n",
    "sr_toc = timeit.default_timer()-sr_tic\n",
    "print(\"Execution Time:\", sr_toc, \"seconds\")"
   ]
  },
  {
   "cell_type": "markdown",
   "id": "45b2c4fe-f699-439f-9016-f0f40ab8f855",
   "metadata": {},
   "source": [
    "# CONCLUSION"
   ]
  },
  {
   "cell_type": "markdown",
   "id": "c0fcd4fe-8ca1-4d90-aa5f-f6fd072998af",
   "metadata": {},
   "source": [
    "## COMPARISION OF MODEL EXECUTION TIME"
   ]
  },
  {
   "cell_type": "code",
   "execution_count": 68,
   "id": "ebf80774-edea-4ad1-a983-b73f482e70e7",
   "metadata": {},
   "outputs": [
    {
     "data": {
      "image/png": "[encoded data removed]",
      "text/plain": [
       "<Figure size 1000x600 with 1 Axes>"
      ]
     },
     "metadata": {},
     "output_type": "display_data"
    }
   ],
   "source": [
    "import matplotlib.pyplot as plt\n",
    "\n",
    "# Time taken by each regressor\n",
    "time = [knn_toc, sgd_toc, dtr_toc, rfr_toc, xgb_toc, ada_toc, br_toc, sr_toc]\n",
    "\n",
    "# Names of the regressors\n",
    "regressor_names = ['KNN', 'SGD', 'DTR', 'RF', 'XGB', 'ADA', 'BR', 'SR']\n",
    "\n",
    "# Define colors for the bars\n",
    "colors = ['skyblue', 'gold', 'limegreen', 'orchid', 'tomato', 'dodgerblue', 'mediumseagreen', 'mediumvioletred']\n",
    "\n",
    "# Plotting the bar chart\n",
    "plt.figure(figsize=(10, 6))\n",
    "bars = plt.bar(regressor_names, time, color=colors)\n",
    "\n",
    "# Adding labels and title\n",
    "plt.xlabel(\"Regressor\")\n",
    "plt.ylabel(\"Time\")\n",
    "plt.title(\"Comparison of Model Execution Time\")\n",
    "\n",
    "# Adding values on top of bars\n",
    "for bar in bars:\n",
    "    yval = bar.get_height()\n",
    "    plt.text(bar.get_x() + bar.get_width()/2.0, yval, round(yval, 2), va='bottom', ha='center')\n",
    "\n",
    "plt.show()\n"
   ]
  },
  {
   "cell_type": "markdown",
   "id": "98f4659b-aa0d-45ca-b6fa-a0828af0ab65",
   "metadata": {},
   "source": [
    "## COMPARISON OF MEAN ABSOLUTE ERROR FOR DIFFERENT REGRESSORS"
   ]
  },
  {
   "cell_type": "code",
   "execution_count": 69,
   "id": "6ed31d09-41f9-4c97-b930-525aa8680495",
   "metadata": {},
   "outputs": [
    {
     "data": {
      "image/png": "[encoded data removed]",
      "text/plain": [
       "<Figure size 1000x600 with 1 Axes>"
      ]
     },
     "metadata": {},
     "output_type": "display_data"
    }
   ],
   "source": [
    "import matplotlib.pyplot as plt\n",
    "\n",
    "mae_values = [knn_mae, sgd_mae, dtr_test_mae, rfr_mae, xgb_mae, br_mae, sr_mae]\n",
    "\n",
    "# Names of the regressors\n",
    "regressor_names = ['KNN', 'SGD', 'DTR', 'RFR', 'XGB', 'BAG', 'STACK']\n",
    "\n",
    "# Plotting the bar chart\n",
    "plt.figure(figsize=(10, 6))\n",
    "bars = plt.bar(regressor_names, mae_values, color=['mediumvioletred', 'limegreen', 'royalblue', 'gold', 'mediumslateblue', 'tomato', 'olivedrab'])\n",
    "\n",
    "# Adding labels and title\n",
    "plt.xlabel(\"Regressor\")\n",
    "plt.ylabel(\"Mean Absolute Error (MAE)\")\n",
    "plt.title(\"Comparison of Mean Absolute Error (MAE) for Different Regressors\")\n",
    "\n",
    "# Adding values on top of bars\n",
    "for bar in bars:\n",
    "    yval = bar.get_height()\n",
    "    plt.text(bar.get_x() + bar.get_width() / 2.0, yval, round(yval, 2), va='bottom', ha='center')\n",
    "\n",
    "plt.show()\n"
   ]
  },
  {
   "cell_type": "markdown",
   "id": "1affcf2b-89ae-4de1-8e41-f7fd1e0437d5",
   "metadata": {},
   "source": [
    "## COMPARISON OF MEAN SQUARED ERROR FOR DIFFERENT REGRESSORS"
   ]
  },
  {
   "cell_type": "code",
   "execution_count": 70,
   "id": "592d8d6a-4644-4377-813a-cf601e77059f",
   "metadata": {},
   "outputs": [
    {
     "data": {
      "image/png": "[encoded data removed]",
      "text/plain": [
       "<Figure size 1000x600 with 1 Axes>"
      ]
     },
     "metadata": {},
     "output_type": "display_data"
    }
   ],
   "source": [
    "import matplotlib.pyplot as plt\n",
    "\n",
    "# Update the number of values in mae_values list to match the number of regressors\n",
    "mse_values = [knn_mse, sgd_mse, dtr_test_rmse, rfr_mse, xgb_mse, ada_mse, br_mse, sr_mse]\n",
    "\n",
    "# Names of the regressors\n",
    "regressor_names = ['KNN', 'SGD', 'DTR', 'RFR', 'XGB', 'ADA', 'BAG', 'STACK']\n",
    "\n",
    "# Plotting the bar chart\n",
    "plt.figure(figsize=(10, 6))\n",
    "bars = plt.bar(regressor_names, mse_values, color=['plum', 'darkcyan', 'darkmagenta', 'darkorange', 'darkseagreen', 'darkturquoise', 'deeppink', 'peru'])\n",
    "\n",
    "# Adding labels and title\n",
    "plt.xlabel(\"Regressor\")\n",
    "plt.ylabel(\"Mean Squared Error (MSE)\")\n",
    "plt.title(\"Comparison of Mean Squared Error (MSE) for Different Regressors\")\n",
    "\n",
    "# Adding values on top of bars\n",
    "for bar in bars:\n",
    "    yval = bar.get_height()\n",
    "    plt.text(bar.get_x() + bar.get_width() / 2.0, yval, round(yval, 2), va='bottom', ha='center')\n",
    "\n",
    "plt.show()\n"
   ]
  },
  {
   "cell_type": "markdown",
   "id": "58941198-f1a4-4e9e-948a-8febd2912dfb",
   "metadata": {},
   "source": [
    "## COMPARISON OF R-SQUARED FOR DIFFERENT REGRESSORS"
   ]
  },
  {
   "cell_type": "code",
   "execution_count": 71,
   "id": "719a7853-e42b-4213-b67f-caaa58075e5d",
   "metadata": {},
   "outputs": [
    {
     "data": {
      "image/png": "[encoded data removed]",
      "text/plain": [
       "<Figure size 1000x600 with 1 Axes>"
      ]
     },
     "metadata": {},
     "output_type": "display_data"
    }
   ],
   "source": [
    "import matplotlib.pyplot as plt\n",
    "\n",
    "r2_values = [knn_r2, sgd_r2, dtr_test_r2, rfr_r2, xgb_r2, r2_ada, br_r2, sr_r2]\n",
    "\n",
    "# Names of the regressors\n",
    "regressor_names = ['KNN', 'SGD', 'DTR', 'RFR', 'XGB', 'ADA', 'BAG', 'STACK']\n",
    "\n",
    "# Define colors for the bars\n",
    "colors = ['lightcoral', 'skyblue', 'lightgreen', 'orange', 'mediumorchid', 'gold', 'lightseagreen', 'salmon']\n",
    "\n",
    "# Plotting the bar chart\n",
    "plt.figure(figsize=(10, 6))\n",
    "bars = plt.bar(regressor_names, r2_values, color=colors)\n",
    "\n",
    "# Adding labels and title\n",
    "plt.xlabel(\"Regressor\")\n",
    "plt.ylabel(\"R-squared (R²)\")\n",
    "plt.title(\"Comparison of R-squared (R²) for Different Regressors\")\n",
    "\n",
    "# Adding values on top of bars\n",
    "for bar in bars:\n",
    "    yval = bar.get_height()\n",
    "    plt.text(bar.get_x() + bar.get_width() / 2.0, yval, round(yval, 2), va='bottom', ha='center')\n",
    "\n",
    "plt.show()\n"
   ]
  },
  {
   "cell_type": "markdown",
   "id": "acc5e962-27f1-4e00-bd08-a3d318b37435",
   "metadata": {},
   "source": [
    "### DATA PREPARATION AND EXPLORATION:\n",
    "   - we started by importing necessary libraries and reading the dataset.\n",
    "   - performed basic data cleaning such as removing columns with spaces in their names performed certain operations to check for null values and duplicates and separating features and target variable.\n",
    "   - visualized feature importance using Random Forest Regressor and plotted a heatmap to visualize correlations between features.\n",
    "   - handled missing values and normalized features where necessary.\n",
    "   - performed correlation,feature importance and variance threshold to identify features and datacolumns that least effected my dataset,removed them using drop().\n",
    "\n",
    "### MODELING:\n",
    "   - we then build and evaluated several regression models including K Nearest Neighbors, Stochastic Gradient Descent, Decision Tree, Random Forest, Extreme Gradient Boosting, AdaBoost, Bagging, and Stacking Regressors.\n",
    "   - we performed techniques like hyperparameter tuning using RandomizedSearchCV and GridSearchCV to optimize model performance where ever required.\n",
    "   - Model evaluation metrics such as Mean Squared Error (MSE), Mean Absolute Error (MAE), Root Mean Squared Error (RMSE), and R-squared Score are calculated for each model.\n",
    "\n",
    "### VISUALIZATION:\n",
    "   - At the end of our data cleaning process we presented model performance using bar chart and histogram.\n",
    "\n",
    "## MODEL PERFORMANCE ANALYSIS:\n",
    "\n",
    "K-NEAREST NEIGHBOUR REGRESSOR:\n",
    "   - While KNN performs decently with an R-squared score of 0.865, it's outperformed by other models in terms of mean absolute error and mean squared error.\n",
    "\n",
    "STOCASTIC GRADIENT REGRESSOR:\n",
    "   - SGD Regressor demonstrated impressive performance with an R-squared score of 0.972, indicating a strong linear relationship between predicted and actual values.\n",
    "\n",
    "DECISION TREE REGRESSOR:\n",
    "   - Decision Tree Regressor shows good performance with an R-squared score of 0.846, but it's surpassed by other ensemble methods in terms of error metrics.\n",
    "\n",
    "RANDOM FOREST REGRESSOR:\n",
    "   - Random Forest Regressor achieves a competitive R-squared score of 0.932 and demonstrates superior performance in terms of MSE and RMSE compared to Decision Trees.\n",
    "\n",
    "EXTREME GRADIENT BOOSTING REGRESSOR:\n",
    "   - XGB performs similarly to Random Forest with an R-squared score of 0.933 and slightly lower error metrics.\n",
    "\n",
    "ADABOOST REGRESSOR:\n",
    "   - AdaBoost Regressor shows good performance with an R-squared score of 0.920, but it has higher error metrics compared to Random Forest and XGB.\n",
    "\n",
    "BAGGING REGRESSOR:\n",
    "   - Bagging Regressor outperforms other models with a lower MSE, RMSE, and MAE, along with a high R-squared score of 0.938.\n",
    "\n",
    "STACKING REGRESSOR:\n",
    "   - Stacking Regressor combines multiple models and exhibits strong performance with the lowest MSE, RMSE, and MAE among all models, along with an R-squared score of 0.967 indicating a good fit to the data.\n",
    "\n",
    "- Among the evaluated models, STACKING REGRESSOR emerges as the top performer, showcasing the lowest error metrics and highest R-squared score,show how well it can fit in the data.\n",
    "- Stacking Regressor combines multiple base regressors (Random Forest, Linear Regression, Decision Tree) to achieve better performance.\n",
    "- SGD Regressor stands out for its exceptional R-squared score, indicating a strong linear relationship between features and target variable.\n",
    "- Both,stacking and sgd regressor out performed with all the performance metrics,as Stacking combines the predictions of multiple base models, which often leads to improved performance compared to any single model. This ensemble approach tends to generalize better on unseen data and can handle complex relationships within the data more effectively.\n",
    "- Thus, stacking is chosen as well performed model among all the models we used to our dataset to predict the completion rate of upper secondary female education.\n",
    "- To improve model in future, fine-tuning hyperparameters using more sophisticated optimization algorithms or employing advanced feature engineering techniques like feature selection or dimensionality reduction could optimize model performance."
   ]
  }
 ],
 "metadata": {
  "kernelspec": {
   "display_name": "Python 3 (ipykernel)",
   "language": "python",
   "name": "python3"
  },
  "language_info": {
   "codemirror_mode": {
    "name": "ipython",
    "version": 3
   },
   "file_extension": ".py",
   "mimetype": "text/x-python",
   "name": "python",
   "nbconvert_exporter": "python",
   "pygments_lexer": "ipython3",
   "version": "3.12.1"
  }
 },
 "nbformat": 4,
 "nbformat_minor": 5
}
